{
  "nbformat": 4,
  "nbformat_minor": 0,
  "metadata": {
    "colab": {
      "provenance": [],
      "toc_visible": true,
      "authorship_tag": "ABX9TyMr6VEqCILsV2qwZj7+Kegd",
      "include_colab_link": true
    },
    "kernelspec": {
      "name": "python3",
      "display_name": "Python 3"
    },
    "language_info": {
      "name": "python"
    }
  },
  "cells": [
    {
      "cell_type": "markdown",
      "metadata": {
        "id": "view-in-github",
        "colab_type": "text"
      },
      "source": [
        "<a href=\"https://colab.research.google.com/github/sergioGarcia91/Introductorio-Python-3/blob/main/Python_01c_OperadoresLogicos.ipynb\" target=\"_parent\"><img src=\"https://colab.research.google.com/assets/colab-badge.svg\" alt=\"Open In Colab\"/></a>"
      ]
    },
    {
      "cell_type": "markdown",
      "source": [
        "#Python 01c: Operadores lógicos\n",
        "\n",
        "> *Ser tan rápidos como el más lento,\\\n",
        "y ser tan lentos como el más rápido.*\n",
        "\n",
        "**Autor:** Sergio Andrés García Arias  \n",
        "**Versión 01:** Diciembre 2023"
      ],
      "metadata": {
        "id": "0yR1bO-Ubs0o"
      }
    },
    {
      "cell_type": "markdown",
      "source": [
        "#Introducción\n",
        "Los operadores lógicos en Python son utilizados para realizar operaciones de lógica booleana. Un booleano, en programación, es un tipo de dato que puede tener uno de dos valores: `True` o `False`. Estos valores representan los conceptos de verdadero y falso, respectivamente. Los booleanos son fundamentales en la toma de decisiones y en la lógica de control de flujo en la programación."
      ],
      "metadata": {
        "id": "qSQNaSF1b1qA"
      }
    },
    {
      "cell_type": "markdown",
      "source": [
        "#Inicio"
      ],
      "metadata": {
        "id": "I1-dOKi-b-CY"
      }
    },
    {
      "cell_type": "markdown",
      "source": [
        "En Python, los `Booleanos` son un tipo de dato que puede tener uno de dos valores: `True` o `False`, las cuales son palabras reservadas. Las palabras reservadas en Python son palabras que tienen significados especiales y están reservadas para ser utilizadas por el propio lenguaje. No pueden ser empleadas como identificadores (nombres de variables, funciones, entreo otros) en el código del programa, ya que esto podría causar conflictos o errores."
      ],
      "metadata": {
        "id": "B1nq4qkIcW-I"
      }
    },
    {
      "cell_type": "code",
      "execution_count": null,
      "metadata": {
        "colab": {
          "base_uri": "https://localhost:8080/"
        },
        "id": "REEWV7lWbmvt",
        "outputId": "e28a2d46-3f83-4de4-af1b-b6144981df82"
      },
      "outputs": [
        {
          "output_type": "execute_result",
          "data": {
            "text/plain": [
              "bool"
            ]
          },
          "metadata": {},
          "execution_count": 1
        }
      ],
      "source": [
        "type(True)"
      ]
    },
    {
      "cell_type": "code",
      "source": [
        "type(False)"
      ],
      "metadata": {
        "colab": {
          "base_uri": "https://localhost:8080/"
        },
        "id": "e1NMvCP4cSZP",
        "outputId": "2b06093d-12c7-4fdb-b03a-47af6d56eee6"
      },
      "execution_count": null,
      "outputs": [
        {
          "output_type": "execute_result",
          "data": {
            "text/plain": [
              "bool"
            ]
          },
          "metadata": {},
          "execution_count": 2
        }
      ]
    },
    {
      "cell_type": "markdown",
      "source": [
        "# Operadores Relacionales\n",
        "\n",
        "Los Operadores Relacionales son utilizados en la comparación entre valores. Estos operadores evalúan la relación entre dos expresiones y devuelven un valor booleano (`True` o `False`) según si la comparación es verdadera o falsa.\n",
        "\n",
        "- `==`: Igual a\n",
        "- `!=`: Diferente de\n",
        "- `>`: Mayor que\n",
        "- `<`: Menor que\n",
        "- `>=`: Mayor o igual que\n",
        "- `<=`: Menor o igual que\n",
        "\n",
        "Consideremos que:\n",
        "```python\n",
        "a = 5\n",
        "b = 10\n",
        "```\n"
      ],
      "metadata": {
        "id": "fc8I8ccXe6n9"
      }
    },
    {
      "cell_type": "code",
      "source": [
        "a = 5\n",
        "b = 10"
      ],
      "metadata": {
        "id": "OVh3DKBrgORL"
      },
      "execution_count": null,
      "outputs": []
    },
    {
      "cell_type": "code",
      "source": [
        "# Igual a\n",
        "resultado_igual = (a == b)  # False\n",
        "print(resultado_igual)"
      ],
      "metadata": {
        "colab": {
          "base_uri": "https://localhost:8080/"
        },
        "id": "5gFGZaulfBds",
        "outputId": "a9a09f25-1a12-4feb-cfbb-aabaf67b5eb2"
      },
      "execution_count": null,
      "outputs": [
        {
          "output_type": "stream",
          "name": "stdout",
          "text": [
            "False\n"
          ]
        }
      ]
    },
    {
      "cell_type": "code",
      "source": [
        "# Diferente de\n",
        "resultado_diferente = (a != b)  # True\n",
        "print(resultado_diferente)"
      ],
      "metadata": {
        "colab": {
          "base_uri": "https://localhost:8080/"
        },
        "id": "DBjvG1Ksfqbc",
        "outputId": "d7a15bea-d78b-4099-a155-fb16999a7c5f"
      },
      "execution_count": null,
      "outputs": [
        {
          "output_type": "stream",
          "name": "stdout",
          "text": [
            "True\n"
          ]
        }
      ]
    },
    {
      "cell_type": "code",
      "source": [
        "# Mayor que\n",
        "resultado_mayor = (a > b)  # False\n",
        "print(resultado_mayor)"
      ],
      "metadata": {
        "colab": {
          "base_uri": "https://localhost:8080/"
        },
        "id": "IUn26w5vf0BE",
        "outputId": "7848c40f-3880-4052-8400-6a3ebd82a541"
      },
      "execution_count": null,
      "outputs": [
        {
          "output_type": "stream",
          "name": "stdout",
          "text": [
            "False\n"
          ]
        }
      ]
    },
    {
      "cell_type": "code",
      "source": [
        "# Menor que\n",
        "resultado_menor = (a < b)  # True\n",
        "print(resultado_menor)"
      ],
      "metadata": {
        "colab": {
          "base_uri": "https://localhost:8080/"
        },
        "id": "Mla1hD37f29L",
        "outputId": "3b972df3-3f42-4b0e-8d71-9ca8d1dfff49"
      },
      "execution_count": null,
      "outputs": [
        {
          "output_type": "stream",
          "name": "stdout",
          "text": [
            "True\n"
          ]
        }
      ]
    },
    {
      "cell_type": "code",
      "source": [
        "# Mayor o igual que\n",
        "resultado_mayor_igual = (a >= b)  # False\n",
        "print(resultado_mayor_igual)"
      ],
      "metadata": {
        "colab": {
          "base_uri": "https://localhost:8080/"
        },
        "id": "avX6YbInf4C0",
        "outputId": "7667a24f-b24d-4516-dd0a-430126151439"
      },
      "execution_count": null,
      "outputs": [
        {
          "output_type": "stream",
          "name": "stdout",
          "text": [
            "False\n"
          ]
        }
      ]
    },
    {
      "cell_type": "code",
      "source": [
        "# Menor o igual que\n",
        "resultado_menor_igual = (a <= b)  # True\n",
        "print(resultado_menor_igual)"
      ],
      "metadata": {
        "colab": {
          "base_uri": "https://localhost:8080/"
        },
        "id": "WfwCEdWyf5Fz",
        "outputId": "b719de57-7bc1-481c-e1f5-b17c00bcbcf3"
      },
      "execution_count": null,
      "outputs": [
        {
          "output_type": "stream",
          "name": "stdout",
          "text": [
            "True\n"
          ]
        }
      ]
    },
    {
      "cell_type": "markdown",
      "source": [
        "Estas operaciones de relación también se pueden hacer con texto y otros objetos, pero se deben tener otras consideraciones presentes. Pero lo usaremos la mayoría del tiempo en la comparación de valores."
      ],
      "metadata": {
        "id": "q0oEpo1kgwV6"
      }
    },
    {
      "cell_type": "markdown",
      "source": [
        "# Operadores Lógicos\n",
        "\n",
        "En Python, los operadores lógicos son herramientas fundamentales para realizar evaluaciones lógicas y combinar condiciones. Estos operadores permiten construir expresiones lógicas más complejas a partir de comparaciones simples.\n",
        "\n",
        "\n",
        "- `and`: (y)\n",
        "\n",
        "- `or`: (o)\n",
        "\n",
        "- `not`: (no)\n",
        "\n"
      ],
      "metadata": {
        "id": "wIy3XuZrin5R"
      }
    },
    {
      "cell_type": "markdown",
      "source": [
        "## Tabla operación lógica AND (y)\n",
        "\n",
        "| A     | B     | A AND B |\n",
        "|-------|-------|---------|\n",
        "| True  | True  | True    |\n",
        "| True  | False | False   |\n",
        "| False | True  | False   |\n",
        "| False | False | False   |\n"
      ],
      "metadata": {
        "id": "XoE1Mk5AjSFw"
      }
    },
    {
      "cell_type": "code",
      "source": [
        "# Ejemplo de operador AND\n",
        "a = True\n",
        "b = False\n",
        "\n",
        "resultado_and = a and b\n",
        "print('Resultado de ', a ,' AND ', b , ' = ', resultado_and)"
      ],
      "metadata": {
        "colab": {
          "base_uri": "https://localhost:8080/"
        },
        "id": "5K2m6eWmjYL5",
        "outputId": "e89e32db-e09f-4efc-bd40-b403945a13dc"
      },
      "execution_count": null,
      "outputs": [
        {
          "output_type": "stream",
          "name": "stdout",
          "text": [
            "Resultado de  True  AND  False  =  False\n"
          ]
        }
      ]
    },
    {
      "cell_type": "markdown",
      "source": [
        "## Tabla operación lógica OR (o)\n",
        "\n",
        "| A     | B     | A OR B  |\n",
        "|-------|-------|---------|\n",
        "| True  | True  | True    |\n",
        "| True  | False | True    |\n",
        "| False | True  | True    |\n",
        "| False | False | False   |\n"
      ],
      "metadata": {
        "id": "Job7Bn6pjX1I"
      }
    },
    {
      "cell_type": "code",
      "source": [
        "# Ejemplo de operador OR\n",
        "a = True\n",
        "b = False\n",
        "\n",
        "resultado_or = a or b\n",
        "print('Resultado de ', a ,' or ', b , ' = ', resultado_or)"
      ],
      "metadata": {
        "colab": {
          "base_uri": "https://localhost:8080/"
        },
        "id": "4OwI9VQGjiS_",
        "outputId": "1d20cf47-543f-4842-a556-f148fb0397d7"
      },
      "execution_count": null,
      "outputs": [
        {
          "output_type": "stream",
          "name": "stdout",
          "text": [
            "Resultado de  True  or  False  =  True\n"
          ]
        }
      ]
    },
    {
      "cell_type": "markdown",
      "source": [
        "## Tabla operación lógica NOT (no)\n",
        "\n",
        "| A     | NOT A  |\n",
        "|-------|--------|\n",
        "| True  | False  |\n",
        "| False | True   |\n"
      ],
      "metadata": {
        "id": "-qY2EAZykCYo"
      }
    },
    {
      "cell_type": "code",
      "source": [
        "# Ejemplo de operador NOT\n",
        "a = True\n",
        "\n",
        "resultado_not = not a\n",
        "print('Resultado de NOT ', a , ' = ', resultado_not)"
      ],
      "metadata": {
        "colab": {
          "base_uri": "https://localhost:8080/"
        },
        "id": "4D-HEddIk2WG",
        "outputId": "64761414-f196-4c10-9e59-763c62088bd7"
      },
      "execution_count": null,
      "outputs": [
        {
          "output_type": "stream",
          "name": "stdout",
          "text": [
            "Resultado de NOT  True  =  False\n"
          ]
        }
      ]
    },
    {
      "cell_type": "markdown",
      "source": [
        "---\n",
        "Como han podido observar, los Operadores Relacionales nos regresan valores booleanos de `True` o `False`, los cuales son utilizados por los Operadores Lógicos. Podemos usarlos en conjunto para comparar dos o más condiciones requeridas, estructuradas de la siguiente manera:\n",
        "\n",
        "`Condición 1 a evaluar + operador lógico a usar + Condición 2 a evaluar`\n",
        "\n",
        "Ejemplo:\n",
        "```python\n",
        "(1 == 1) and (-2.5 <= -2.1)  # True\n",
        "```\n",
        "\n",
        "Es recomendable hacer la agrupación de cada una de las condiciones a evaluar por medio de paréntesis `()` como en las operaciones matemáticas. Esto garantiza que sea entendible tanto para la máquina como para el usuario la lectura y ejecución del código."
      ],
      "metadata": {
        "id": "qedsITNDlD0d"
      }
    },
    {
      "cell_type": "code",
      "source": [
        "#( True ) and ( True ) = True\n",
        "(1 == 1) and (-2.5 <= -2.1)  # True"
      ],
      "metadata": {
        "colab": {
          "base_uri": "https://localhost:8080/"
        },
        "id": "wJuE7E9mmens",
        "outputId": "2e3ddaa3-de57-44ca-cdbb-5996b97f7f33"
      },
      "execution_count": null,
      "outputs": [
        {
          "output_type": "execute_result",
          "data": {
            "text/plain": [
              "True"
            ]
          },
          "metadata": {},
          "execution_count": 21
        }
      ]
    },
    {
      "cell_type": "markdown",
      "source": [
        "Pero se puede evaluar más de 2 condiciones.\n",
        "\n",
        "Ejemplo:\n",
        "```python\n",
        "(1 == 1) and (-2.5 <= -2.1)  and (1000 > 1000.1) # False\n",
        "```"
      ],
      "metadata": {
        "id": "v6EZXJvGoo6b"
      }
    },
    {
      "cell_type": "code",
      "source": [
        "#( True ) and ( True ) and ( False ) = False\n",
        "(1 == 1) and (-2.5 <= -2.1) and (1000 > 1000.1)  # False"
      ],
      "metadata": {
        "colab": {
          "base_uri": "https://localhost:8080/"
        },
        "id": "IEfbvcQ4o6bh",
        "outputId": "dfd10a57-2cbe-4bf8-8977-1386cdce836d"
      },
      "execution_count": null,
      "outputs": [
        {
          "output_type": "execute_result",
          "data": {
            "text/plain": [
              "False"
            ]
          },
          "metadata": {},
          "execution_count": 22
        }
      ]
    },
    {
      "cell_type": "markdown",
      "source": [
        "# Operadores a nivel de bits\n",
        "\n",
        "En Python, también existen operadores a nivel de bits que permiten realizar operaciones bit a bit. Pero para nuestra simplicidad solo vamos a considerar dos símiles a los operadores lógicos.\n",
        "\n",
        "1. AND a nivel de bits `&`\n",
        "2. OR a nivel de bits `|`\n",
        "\n",
        "Ejemplo:\n",
        "```python\n",
        "print(True & True) # True -- and\n",
        "print(True | False) # True -- or\n",
        "```"
      ],
      "metadata": {
        "id": "QFdoEjcgp-ZR"
      }
    },
    {
      "cell_type": "code",
      "source": [
        "print(True & True) # True -- and\n",
        "print(True | False) # True -- or"
      ],
      "metadata": {
        "colab": {
          "base_uri": "https://localhost:8080/"
        },
        "id": "R-VktvAJqxmx",
        "outputId": "ebdeace4-d8da-4b89-b8ce-65672b4bd91b"
      },
      "execution_count": null,
      "outputs": [
        {
          "output_type": "stream",
          "name": "stdout",
          "text": [
            "True\n",
            "True\n"
          ]
        }
      ]
    },
    {
      "cell_type": "markdown",
      "source": [
        "#Fin"
      ],
      "metadata": {
        "id": "aPUQ5XBQcUCq"
      }
    },
    {
      "cell_type": "code",
      "source": [],
      "metadata": {
        "id": "c2roRy9JcVMw"
      },
      "execution_count": null,
      "outputs": []
    }
  ]
}