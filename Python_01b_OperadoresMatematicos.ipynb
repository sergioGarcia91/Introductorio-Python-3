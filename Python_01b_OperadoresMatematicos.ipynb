{
  "nbformat": 4,
  "nbformat_minor": 0,
  "metadata": {
    "colab": {
      "provenance": [],
      "toc_visible": true,
      "authorship_tag": "ABX9TyPnFTD8brtJQtqEk+1h4QjV",
      "include_colab_link": true
    },
    "kernelspec": {
      "name": "python3",
      "display_name": "Python 3"
    },
    "language_info": {
      "name": "python"
    }
  },
  "cells": [
    {
      "cell_type": "markdown",
      "metadata": {
        "id": "view-in-github",
        "colab_type": "text"
      },
      "source": [
        "<a href=\"https://colab.research.google.com/github/sergioGarcia91/Introductorio-Python-3/blob/main/Python_01b_OperadoresMatematicos.ipynb\" target=\"_parent\"><img src=\"https://colab.research.google.com/assets/colab-badge.svg\" alt=\"Open In Colab\"/></a>"
      ]
    },
    {
      "cell_type": "markdown",
      "source": [
        "#Python 01b: Operadores matemáticos\n",
        "\n",
        "> *Ser tan rápidos como el más lento,\\\n",
        "y ser tan lentos como el más rápido.*\n",
        "\n",
        "**Autor:** Sergio Andrés García Arias  \n",
        "**Versión 01:** Diciembre 2023"
      ],
      "metadata": {
        "id": "sXbajhk77Mge"
      }
    },
    {
      "cell_type": "markdown",
      "source": [
        "## Introducción\n",
        "\n",
        "En programación, los operadores matemáticos son herramientas esenciales para realizar operaciones aritméticas en variables y valores. Python proporciona una variedad de operadores matemáticos estándar que permiten realizar cálculos y manipular datos de manera eficiente.\n",
        "\n",
        "\n"
      ],
      "metadata": {
        "id": "GXuqUWNk7iuD"
      }
    },
    {
      "cell_type": "markdown",
      "source": [
        "#Inicio"
      ],
      "metadata": {
        "id": "_lXWHF-L7eOr"
      }
    },
    {
      "cell_type": "markdown",
      "source": [
        "# Suma (+)\n",
        "El operador de suma se utiliza para agregar dos valores.\n",
        "\n",
        "```python\n",
        "a = 5\n",
        "b = 3\n",
        "resultado = a + b\n",
        "print(resultado)  # Salida: 8\n",
        "```"
      ],
      "metadata": {
        "id": "GJm6rMli7sZk"
      }
    },
    {
      "cell_type": "code",
      "source": [
        "a = 5\n",
        "b = 3\n",
        "resultado = a + b\n",
        "print(resultado)  # Salida: 8"
      ],
      "metadata": {
        "colab": {
          "base_uri": "https://localhost:8080/"
        },
        "id": "yJZpa-4vIrdN",
        "outputId": "c8b2e391-7a08-4129-fd0f-51ca3757f4c3"
      },
      "execution_count": null,
      "outputs": [
        {
          "output_type": "stream",
          "name": "stdout",
          "text": [
            "8\n"
          ]
        }
      ]
    },
    {
      "cell_type": "markdown",
      "source": [
        "# Resta (-)\n",
        "El operador de resta se utiliza para restar el segundo valor del primero.\n",
        "\n",
        "```python\n",
        "a = 10\n",
        "b = 4\n",
        "resultado = a - b\n",
        "print(resultado)  # Salida: 6\n",
        "```"
      ],
      "metadata": {
        "id": "ln2Fj9I5IpPc"
      }
    },
    {
      "cell_type": "code",
      "execution_count": null,
      "metadata": {
        "id": "gEyMwdHq5DpM"
      },
      "outputs": [],
      "source": [
        "a = 10\n",
        "b = 4\n",
        "resultado = a - b\n",
        "print(resultado)  # Salida: 6"
      ]
    },
    {
      "cell_type": "markdown",
      "source": [
        "# Multiplicación (*)\n",
        "El operador de multiplicación realiza la multiplicación de dos valores.\n",
        "\n",
        "```python\n",
        "a = 5\n",
        "b = 3\n",
        "resultado = a + b\n",
        "print(resultado)  # Salida: 8\n",
        "```"
      ],
      "metadata": {
        "id": "VTW2PVkiIx6F"
      }
    },
    {
      "cell_type": "code",
      "source": [
        "a = 3\n",
        "b = 7\n",
        "resultado = a * b\n",
        "print(resultado)  # Salida: 21"
      ],
      "metadata": {
        "id": "JegTkZc2Igh-"
      },
      "execution_count": null,
      "outputs": []
    },
    {
      "cell_type": "markdown",
      "source": [
        "# División (/)\n",
        "El operador de división realiza la división del primer valor por el segundo.\n",
        "\n",
        "```python\n",
        "a = 11\n",
        "b = 4\n",
        "resultado = a / b\n",
        "print(resultado)  # Salida: 2.75\n",
        "```\n",
        "\n",
        "\\begin{array}{rc|l}\n",
        "11  &   & {4} \\\\ \\hline\n",
        "-8  &   & 2.75 \\\\\n",
        "=3   & 0 &     \\\\\n",
        "30  &   &     \\\\\n",
        "-28 &   &     \\\\\n",
        "=2   & 0 &     \\\\\n",
        "20  &   &     \\\\\n",
        "-20 &   &     \\\\\n",
        "=0   &   &     \\\\\n",
        "\\end{array}"
      ],
      "metadata": {
        "id": "whDsf-2dIyk2"
      }
    },
    {
      "cell_type": "code",
      "source": [
        "a = 11\n",
        "b = 4\n",
        "resultado = a / b\n",
        "print(resultado)  # Salida: 2.75"
      ],
      "metadata": {
        "colab": {
          "base_uri": "https://localhost:8080/"
        },
        "id": "v-_0Mqf0Ihmv",
        "outputId": "f7a00200-409b-4830-c3b9-6ac0afb3317b"
      },
      "execution_count": null,
      "outputs": [
        {
          "output_type": "stream",
          "name": "stdout",
          "text": [
            "2.75\n"
          ]
        }
      ]
    },
    {
      "cell_type": "markdown",
      "source": [
        "# División Entera (//)\n",
        "El operador de división entera devuelve la parte entera del cociente de la división.\n",
        "\n",
        "```python\n",
        "a = 11\n",
        "b = 4\n",
        "resultado = a // b\n",
        "print(resultado)  # Salida: 2\n",
        "```\n",
        "\n",
        "$ x = \\frac{a}{b} =  \\frac{11}{4} = 2 + \\frac{3}{4} $ ... 2 enteros y $\\frac{3}{4}$\n",
        "\n",
        "\\begin{array}{r|l}\n",
        "11   & {4} \\\\ \\hline\n",
        "-8 & 2 \\\\\n",
        "3\n",
        "\\end{array}"
      ],
      "metadata": {
        "id": "KG2RoHldIzOt"
      }
    },
    {
      "cell_type": "code",
      "source": [
        "a = 11\n",
        "b = 4\n",
        "resultado = a // b\n",
        "print(resultado)  # Salida: 2"
      ],
      "metadata": {
        "colab": {
          "base_uri": "https://localhost:8080/"
        },
        "id": "u1bs2TBXIko-",
        "outputId": "15974860-7817-431d-a8e2-06d08d38cf2c"
      },
      "execution_count": null,
      "outputs": [
        {
          "output_type": "stream",
          "name": "stdout",
          "text": [
            "2\n"
          ]
        }
      ]
    },
    {
      "cell_type": "markdown",
      "source": [
        "# Módulo (%)\n",
        "El operador de módulo devuelve el resto de la división del primer valor por el segundo.\n",
        "\n",
        "```python\n",
        "a = 11\n",
        "b = 4\n",
        "resultado = a % b\n",
        "print(resultado)  # Salida: 3\n",
        "```\n",
        "\n",
        "$ x = \\frac{a}{b} =  \\frac{11}{4} = 2 + \\frac{3}{4} $ ... 2 enteros y $\\frac{3}{4}$\n",
        "\n",
        "\\begin{array}{r|l}\n",
        "11   & {4} \\\\ \\hline\n",
        "-8 & 2 \\\\\n",
        "3\n",
        "\\end{array}"
      ],
      "metadata": {
        "id": "CL4iuA5tIz31"
      }
    },
    {
      "cell_type": "code",
      "source": [
        "a = 11\n",
        "b = 4\n",
        "resultado = a % b\n",
        "print(resultado)  # Salida: 3"
      ],
      "metadata": {
        "colab": {
          "base_uri": "https://localhost:8080/"
        },
        "id": "w6npbcFCIluN",
        "outputId": "af598ce6-5dfb-4fe2-d25b-72cb3f3f08b3"
      },
      "execution_count": null,
      "outputs": [
        {
          "output_type": "stream",
          "name": "stdout",
          "text": [
            "3\n"
          ]
        }
      ]
    },
    {
      "cell_type": "markdown",
      "source": [
        "# Potenciación (**)\n",
        "El operador de potenciación eleva el primer valor a la potencia del segundo.\n",
        "\n",
        "```python\n",
        "a = 2\n",
        "b = 3\n",
        "resultado = a ** b\n",
        "print(resultado)  # Salida: 8\n",
        "```"
      ],
      "metadata": {
        "id": "stREkkoSI0st"
      }
    },
    {
      "cell_type": "code",
      "source": [
        "a = 2\n",
        "b = 3\n",
        "resultado = a ** b\n",
        "print(resultado)  # Salida: 8"
      ],
      "metadata": {
        "colab": {
          "base_uri": "https://localhost:8080/"
        },
        "id": "0Ik4WDSXViFX",
        "outputId": "6a79ac78-a013-48c0-8e22-6a6258805375"
      },
      "execution_count": null,
      "outputs": [
        {
          "output_type": "stream",
          "name": "stdout",
          "text": [
            "8\n"
          ]
        }
      ]
    },
    {
      "cell_type": "markdown",
      "source": [
        "---\n",
        "Como han podido observar, se ha reutilizado las variables `a`, `b` y `resultado`. Pueden verificar esto en la pestaña `{x}` de Colab. Estas variables han estado cambiando su valor, conservando únicamente la última asignación. Lo que se ha hecho es una \"reutilización\" de la variable en cada nueva celda.\n",
        "\n",
        "Es importante destacar que al intentar realizar una operación y obtener el mismo resultado previo, puede que no suceda si alguna de las dos variables `a` o `b` ha cambiado entre celdas.\n"
      ],
      "metadata": {
        "id": "9xQDa14tVzrH"
      }
    },
    {
      "cell_type": "markdown",
      "source": [
        "---\n",
        "En Python, los operadores aritméticos siguen una jerarquía o precedencia específica. Aquí está la jerarquía de los operadores aritméticos de mayor a menor precedencia:\n",
        "\n",
        "1. Paréntesis `()`\n",
        "2. Exponente `**`\n",
        "3. Negación unaria `-` (operador unario)\n",
        "4. Multiplicación `*`, División `/`, División entera `//`, Módulo `%`\n",
        "5. Adición `+`, Sustracción `-`\n",
        "\n",
        "Algo similar a cuando resolvemos ecuaciones tradicionales.\n",
        "\n",
        "Ejemplo:\n",
        "```python\n",
        "x = 5\n",
        "y = 2\n",
        "\n",
        "z1 = x + 3 * y  # El producto tiene prioridad sobre la suma\n",
        "z2 = (x + 3) * y  # Los paréntesis tienen prioridad\n",
        "\n",
        "print('z1= ', z1)\n",
        "print('z2= ', z2)\n",
        "```\n"
      ],
      "metadata": {
        "id": "2ef3Kl9znB8D"
      }
    },
    {
      "cell_type": "code",
      "source": [
        "x = 5\n",
        "y = 2\n",
        "\n",
        "z1 = x + 3 * y  # El producto tiene prioridad sobre la suma\n",
        "z2 = (x + 3) * y  # Los paréntesis tienen prioridad\n",
        "\n",
        "print('z1= ', z1)\n",
        "print('z2= ', z2)"
      ],
      "metadata": {
        "colab": {
          "base_uri": "https://localhost:8080/"
        },
        "id": "U7y1BuS_oS8z",
        "outputId": "6e124d34-01e4-4904-9951-74fd927e0e1b"
      },
      "execution_count": null,
      "outputs": [
        {
          "output_type": "stream",
          "name": "stdout",
          "text": [
            "z1=  11\n",
            "z2=  16\n"
          ]
        }
      ]
    },
    {
      "cell_type": "code",
      "source": [
        "z3 = ( (x + 3) * y ) ** 2\n",
        "z4 = z2 ** 2\n",
        "print('z3= ', z3)\n",
        "print('z4= ', z4)"
      ],
      "metadata": {
        "colab": {
          "base_uri": "https://localhost:8080/"
        },
        "id": "rL-XTx_Iq-nQ",
        "outputId": "5342133f-67a2-4ce8-9a57-01890d8793f9"
      },
      "execution_count": null,
      "outputs": [
        {
          "output_type": "stream",
          "name": "stdout",
          "text": [
            "z3=  256\n",
            "z4=  256\n"
          ]
        }
      ]
    },
    {
      "cell_type": "markdown",
      "source": [
        "# Asignación Múltiple de Variables\n",
        "\n",
        "En Python, es posible asignar valores a múltiples variables en una sola línea. Para hacerlo, colocamos de manera ordenada cada una de las variables a crear, separadas por coma `,`, seguido del signo `=` y en el mismo orden, los valores a asignar a las respectivas variables, también separados por coma `,`.\n",
        "\n",
        "Ejemplo:\n",
        "```python\n",
        "# Podemos crear múltiples variables en una misma línea\n",
        "# para ello las separamos por una coma\n",
        "variable_1, variable_2 = 3, 5.2\n",
        "resultado = variable_1 + variable_2\n",
        "\n",
        "print(\n",
        "    'La primera variable es = ', variable_1, '\\n',\n",
        "    'La segunda variable es = ', variable_2, '\\n',\n",
        "    'Y su suma es = ', resultado\n",
        ")\n"
      ],
      "metadata": {
        "id": "8_HfDHz8Xv5l"
      }
    },
    {
      "cell_type": "code",
      "source": [
        "# Podemos crear múltiples variables en una misma línea\n",
        "# para ello las separamos por una coma\n",
        "variable_1, variable_2 = 3, 5.2\n",
        "resultado = variable_1 + variable_2\n",
        "\n",
        "print(\n",
        "    'La primera variable es = ', variable_1, '\\n',\n",
        "    'La segunda variable es = ', variable_2, '\\n',\n",
        "    'Y su suma es = ', resultado\n",
        ")"
      ],
      "metadata": {
        "colab": {
          "base_uri": "https://localhost:8080/"
        },
        "id": "1Ul1N3ZoXwRF",
        "outputId": "8e386520-e8a4-45be-df21-fbe8eea9b142"
      },
      "execution_count": null,
      "outputs": [
        {
          "output_type": "stream",
          "name": "stdout",
          "text": [
            "La primera variable es =  3 \n",
            " La segunda variable es =  5.2 \n",
            " Y su suma es =  8.2\n"
          ]
        }
      ]
    },
    {
      "cell_type": "markdown",
      "source": [
        "Esta opción es bastante útil y en muchas ocasiones se observará que son creadas varias variables en una sola línea de código. Sin embargo, se deben considerar los siguientes puntos:\n",
        "\n",
        "- **Legibilidad:** Cuando se asignan muchas variables en una sola línea, especialmente si los nombres de las variables o los valores asignados son complejos, la legibilidad del código puede disminuir. En casos como este, puede ser más difícil de entender, especialmente para aquellos que revisan el código por primera vez.\n",
        "\n",
        "- **Orden de Evaluación:** La asignación múltiple se evalúa de izquierda a derecha. Esto significa que si hay expresiones complejas o funciones con efectos secundarios involucrados, el orden en que se evalúan y asignan puede ser relevante.\n",
        "\n",
        "- **Simplicidad:** La asignación múltiple es más adecuada para situaciones simples. Si la lógica de asignación se vuelve demasiado compleja, puede ser mejor dividirla en líneas individuales para mejorar la claridad y expresividad.\n"
      ],
      "metadata": {
        "id": "JsNgKrf7ZAEU"
      }
    },
    {
      "cell_type": "markdown",
      "source": [
        "#Fin"
      ],
      "metadata": {
        "id": "vSBj-Q6b7f6G"
      }
    },
    {
      "cell_type": "code",
      "source": [],
      "metadata": {
        "id": "isp9ZGnM7hFu"
      },
      "execution_count": null,
      "outputs": []
    }
  ]
}