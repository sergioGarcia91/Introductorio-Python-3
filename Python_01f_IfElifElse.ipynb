{
  "nbformat": 4,
  "nbformat_minor": 0,
  "metadata": {
    "colab": {
      "provenance": [],
      "toc_visible": true,
      "authorship_tag": "ABX9TyMEl3i0YeGIGQtFAYh5SIqS",
      "include_colab_link": true
    },
    "kernelspec": {
      "name": "python3",
      "display_name": "Python 3"
    },
    "language_info": {
      "name": "python"
    }
  },
  "cells": [
    {
      "cell_type": "markdown",
      "metadata": {
        "id": "view-in-github",
        "colab_type": "text"
      },
      "source": [
        "<a href=\"https://colab.research.google.com/github/sergioGarcia91/Introductorio-Python-3/blob/main/Python_01f_IfElifElse.ipynb\" target=\"_parent\"><img src=\"https://colab.research.google.com/assets/colab-badge.svg\" alt=\"Open In Colab\"/></a>"
      ]
    },
    {
      "cell_type": "markdown",
      "source": [
        "#Python 01f: If - Elif - Else\n",
        "\n",
        "> *Ser tan rápidos como el más lento,\\\n",
        "y ser tan lentos como el más rápido.*\n",
        "\n",
        "**Autor:** Sergio Andrés García Arias  \n",
        "**Versión 01:** Diciembre 2023"
      ],
      "metadata": {
        "id": "zqyW0wmU8_m2"
      }
    },
    {
      "cell_type": "markdown",
      "source": [
        "#Introducción\n",
        "En Python las sentencias `if`, `elif` y `else` son utilizadas para realizar evaluaciones condicionales en el código, algo similar a lo visto en bucles. Con la diferencia que el bloque de código en la sentencia solo se se ejecutan 1 vez si se cumple la condición."
      ],
      "metadata": {
        "id": "j73oquBJ9PpV"
      }
    },
    {
      "cell_type": "markdown",
      "source": [
        "#Inicio"
      ],
      "metadata": {
        "id": "iQ5a0uei9MoV"
      }
    },
    {
      "cell_type": "markdown",
      "source": [
        "#if\n",
        "La sentencia `if` en Python permite ejecutar código si se cumple una condición. Utiliza la palabra clave `if` seguida de la condición que debe cumplirse.\n",
        "\n",
        "Se evalúa la condición y el bloque de código asociado al `if` se ejecuta si la condición es verdadera `True`. De lo contrario `False`, el código del bloque `if` no se ejecuta, y se procede a ejecutar la sentencia que sigue al `if`. En ambos casos, cualquier línea de código fuera de la sentencia `if` se evalúa por defecto.\n",
        "\n",
        "La estructura sería:\n",
        "```python\n",
        "if condicion_a_evaluar_01:\n",
        "  # Bloque de código que se ejecuta si la condición es verdadera\n",
        "  print('Dentro del primer if')\n",
        "\n",
        "if condicion_a_evaluar_02:\n",
        "  # Bloque de código que se ejecuta si la condición es verdadera\n",
        "  print('Dentro del segundo if')\n",
        "\n",
        "if condicion_a_evaluar_03:\n",
        "  # Bloque de código que se ejecuta si la condición es verdadera\n",
        "  print('Dentro del tercer if')\n",
        "```\n",
        "---\n",
        "Se pueden generar tantas sentencias `if` como sean requeridas."
      ],
      "metadata": {
        "id": "J6G57lXK-YgW"
      }
    },
    {
      "cell_type": "code",
      "source": [
        "# Definimos una variable\n",
        "edad = 20\n",
        "\n",
        "# Utilizamos la sentencia if para verificar la condición 01\n",
        "if edad < 10:\n",
        "  # este bloque no se va ha ejecutar\n",
        "  print('\\n Primer if')\n",
        "  print('La edad es menor a 10')\n",
        "\n",
        "if edad == 20:\n",
        "  # este bloque si se ejecuta\n",
        "  print('\\n Segundo if')\n",
        "  print('La edad es igual a 20')\n",
        "\n",
        "if edad >= 18:\n",
        "  # este bloque tambien se ejecuta\n",
        "  print('\\n Tercer if')\n",
        "  print('Ud es mayor de edad')\n",
        "\n",
        "if edad != 20:\n",
        "  # este bloque no se ejecuta\n",
        "  print('\\n Cuarto if')\n",
        "  print('Ud no tiene 20 años')\n"
      ],
      "metadata": {
        "colab": {
          "base_uri": "https://localhost:8080/"
        },
        "id": "YgYv1bC89N7t",
        "outputId": "d6bfa15a-c165-4f82-818f-7aa8e563818b"
      },
      "execution_count": null,
      "outputs": [
        {
          "output_type": "stream",
          "name": "stdout",
          "text": [
            "\n",
            " Segundo if\n",
            "La edad es igual a 20\n",
            "\n",
            " Tercer if\n",
            "Ud es mayor de edad\n"
          ]
        }
      ]
    },
    {
      "cell_type": "markdown",
      "source": [
        "#if-else\n",
        "La sentencia `else` se utiliza para ejecutar un bloque de código si ninguna de las condiciones anteriores es verdadera.\n",
        "\n",
        "La estructura junto con el `if` es la siguiente:\n",
        "La estructura sería:\n",
        "\n",
        "```python\n",
        "if condicion_a_evaluar_01:\n",
        "  # Bloque de código que se ejecuta si la condición es verdadera\n",
        "  print('Dentro del primer if')\n",
        "\n",
        "else:\n",
        "  # De no cumplirse la condicion_a_evaluar_01\n",
        "  # se ejecuta este bloque de código\n",
        "  print('Dentro del else, no se cumplió la condición.')\n",
        "```\n",
        "---\n",
        "Cuando solo se quiere evaluar UN SOLO `if` y su negación `else` se usa preferiblemente la sentencia anterior."
      ],
      "metadata": {
        "id": "DLn_wqz8-axD"
      }
    },
    {
      "cell_type": "code",
      "source": [
        "#siguiendo con el ejemplo de la edad\n",
        "edad = 20\n",
        "\n",
        "# La condicion de principal interes\n",
        "if edad > 20:\n",
        "  # este bloque no se va ha ejecutar\n",
        "  print('\\n Primer if')\n",
        "  print('Ud es mayor de 20 años')\n",
        "# si no se cumple\n",
        "else:\n",
        "  print('Ud no es mayor de 20 años.')\n"
      ],
      "metadata": {
        "colab": {
          "base_uri": "https://localhost:8080/"
        },
        "id": "WMxmXxtE-ca0",
        "outputId": "3e736023-5bba-4df2-ec13-f47200e3be9b"
      },
      "execution_count": null,
      "outputs": [
        {
          "output_type": "stream",
          "name": "stdout",
          "text": [
            "Ud no es mayor de 20 años.\n"
          ]
        }
      ]
    },
    {
      "cell_type": "markdown",
      "source": [
        "#if-elif-else\n",
        "La declaración `elif` (abreviatura de \"else if\") se utiliza para evaluar multiples condiciones adicionales si la condición en el `if` no es verdadera. Puedes tener múltiples bloques `elif` después de un `if`.\n",
        "\n",
        "Si recordamos el ejemplo de la edad con el `if`:\n",
        "```python\n",
        "# Definimos una variable\n",
        "edad = 20\n",
        "\n",
        "# Utilizamos la sentencia if para verificar la condición 01\n",
        "if edad < 10:\n",
        "  # este bloque no se va ha ejecutar\n",
        "  print('\\n Primer if')\n",
        "  print('La edad es menor a 10')\n",
        "\n",
        "if edad == 20:\n",
        "  # este bloque si se ejecuta\n",
        "  print('\\n Segundo if')\n",
        "  print('La edad es igual a 20')\n",
        "\n",
        "if edad >= 18:\n",
        "  # este bloque tambien se ejecuta\n",
        "  print('\\n Tercer if')\n",
        "  print('Ud es mayor de edad')\n",
        "\n",
        "if edad != 20:\n",
        "  # este bloque no se ejecuta\n",
        "  print('\\n Cuarto if')\n",
        "  print('Ud no tiene 20 años')  \n",
        "```\n",
        "\n",
        "Entregó como salida:  \n",
        "\n",
        "```python\n",
        " Segundo if\n",
        "La edad es igual a 20\n",
        "\n",
        " Tercer if\n",
        "Ud es mayor de edad\n",
        "```\n",
        "\n",
        "El `elif` es adecuado utilizarlo como una escalera de sentencias. Se inicia comprobando la condición de la sentencia `if`, y si se cumplen `True`, se ejecuta el conjunto de sentencias de ese bloque.\n",
        "\n",
        "De no cumplirse `False` la sentencia del `if`, se procede a evaluar el primer bloque `elif`. Si se cumple `True` se ejecuta ese bloque de código, de no cumplirse `False` se procese al siguiente o segundo bloque `elif` de existir y así sucesivamente hasta el `else`.\n",
        "\n",
        "Por lo que en una secuencia `if-elif-else` se va evaluar los diferentes bloques de código hasta que uno se cumpla, de cumplirse no verifica los demás.\n",
        "\n",
        "---\n",
        "Ajustando el ejemplo de la edad:\n",
        "```python\n",
        "# Definimos una variable\n",
        "edad = 20\n",
        "\n",
        "# Se establese solo 1 if\n",
        "if edad < 10:\n",
        "  # primera condicion a evaluar\n",
        "  print('\\n En el único if')\n",
        "  print('La edad es menor a 10')\n",
        "\n",
        "elif edad == 20:\n",
        "  # este bloque se evalúa y se ejecuta\n",
        "  # si las condiciones en los anteriores no se cumplieron\n",
        "  print('\\n Primer elif')\n",
        "  print('La edad es igual a 20')\n",
        "\n",
        "elif edad >= 18:\n",
        "  # este bloque se evalúa y se ejecuta\n",
        "  # si las condiciones en los anteriores no se cumplieron\n",
        "  print('\\n Segundo elif')\n",
        "  print('Ud es mayor de edad')\n",
        "\n",
        "else:\n",
        "  # se elimina el bloque if edad != 20:\n",
        "  # para facilitar el ejemplo\n",
        "  # este bloque se evalúa y se ejecuta\n",
        "  # si las condiciones en los anteriores no se cumplieron\n",
        "  print('\\n En el else')\n",
        "  print('Su edad es entre los 10 y 17 años')\n",
        "  \n",
        "```"
      ],
      "metadata": {
        "id": "8xHnXsHQ-cJ8"
      }
    },
    {
      "cell_type": "code",
      "source": [
        "# Definimos una variable\n",
        "edad = 20\n",
        "\n",
        "#se adicionan estas líneas de Código para ayudar a la comprensión\n",
        "print('Antes de evaluar cualquier condición')\n",
        "print('La edad es: ', edad, '\\n')\n",
        "\n",
        "# Se establese solo 1 if\n",
        "if edad < 10:\n",
        "  # primera condicion a evaluar\n",
        "  print('\\n En el único if')\n",
        "  print('La edad es menor a 10')\n",
        "\n",
        "elif edad == 20:\n",
        "  # este bloque se evalúa y se ejecuta\n",
        "  # si las condiciones en los anteriores no se cumplieron\n",
        "  print('\\n Primer elif')\n",
        "  print('La edad es igual a 20')\n",
        "\n",
        "elif edad >= 18:\n",
        "  # este bloque se evalúa y se ejecuta\n",
        "  # si las condiciones en los anteriores no se cumplieron\n",
        "  print('\\n Segundo elif')\n",
        "  print('Ud es mayor de edad') # este bloque no se ejecutó\n",
        "  #ya que en el elif anterior se cumplió la condición\n",
        "\n",
        "else:\n",
        "  # se elimina el bloque if edad != 20:\n",
        "  # para facilitar el ejemplo\n",
        "  # este bloque se evalúa y se ejecuta\n",
        "  # si las condiciones en los anteriores no se cumplieron\n",
        "  print('\\n En el else')\n",
        "  print('Su edad es entre los 10 y 17 años')\n",
        "\n",
        "print('\\n --- \\n Fuera del if-elif-else')"
      ],
      "metadata": {
        "colab": {
          "base_uri": "https://localhost:8080/"
        },
        "id": "b0PPtn3D-dfr",
        "outputId": "77a1bde2-280e-4f0d-8d4b-8dbf0dc2bfa2"
      },
      "execution_count": null,
      "outputs": [
        {
          "output_type": "stream",
          "name": "stdout",
          "text": [
            "Antes de evaluar cualquier condición\n",
            "La edad es:  20 \n",
            "\n",
            "\n",
            " Primer elif\n",
            "La edad es igual a 20\n",
            "\n",
            " --- \n",
            " Fuera del if-elif-else\n"
          ]
        }
      ]
    },
    {
      "cell_type": "markdown",
      "source": [
        "Como se observa, solo se ejecutó el primer `elif` (`edad == 20`), aunque el segundo `elif` (`edad >= 18`) también es verdadero. Esta es una de las consideraciones del bloque `if-elif-else`: las condiciones se evalúan en orden y, una vez que se cumple una condición, las subsiguientes se descartan. Por lo tanto, es crucial tener cuidado con el orden en que se establecen las condiciones para asegurarse de que no haya conflictos entre ellas.\n"
      ],
      "metadata": {
        "id": "6YEV0XbaHx_i"
      }
    },
    {
      "cell_type": "markdown",
      "source": [
        "#Anidación\n",
        "Las sentencias de condición también se pueden anidar."
      ],
      "metadata": {
        "id": "hMTeY2-6I29p"
      }
    },
    {
      "cell_type": "code",
      "source": [
        "# Definimos una variable\n",
        "edad = 20\n",
        "\n",
        "# Primero evaluamos si se es mayor de edad\n",
        "if edad >= 18:\n",
        "  print(\"Eres mayor de edad\")\n",
        "\n",
        "  # ya se sabe que es mayor de edad\n",
        "  # ahora se quiere saber si es mayor de 21\n",
        "  if edad >= 21:\n",
        "    print(\"Tienes 21 o mas años.\")\n",
        "\n",
        "  # si no es mayor de edad y tampoco tiene mas de 21 años\n",
        "  # se ejecuta el else\n",
        "  else:\n",
        "    print('Pero tienes entre 18 y 20')\n",
        "\n",
        "# si no se es mayor de edad pasa al else\n",
        "else:\n",
        "  print(\"Eres menor de edad\")\n"
      ],
      "metadata": {
        "colab": {
          "base_uri": "https://localhost:8080/"
        },
        "id": "E2Vs_W47I_G4",
        "outputId": "48899051-d7e5-4d07-b8c9-d134e92a5a63"
      },
      "execution_count": null,
      "outputs": [
        {
          "output_type": "stream",
          "name": "stdout",
          "text": [
            "Eres mayor de edad\n",
            "Pero tienes entre 18 y 20\n"
          ]
        }
      ]
    },
    {
      "cell_type": "markdown",
      "source": [
        "Y se pueden usar en conjunto con los bucles."
      ],
      "metadata": {
        "id": "VrNjbJU8J2dP"
      }
    },
    {
      "cell_type": "code",
      "source": [
        "edad = 20\n",
        "\n",
        "if edad >= 18:\n",
        "  texto = \"Eres mayor de edad\"\n",
        "  # for dentro del if\n",
        "  for letra in texto:\n",
        "    print(letra)\n",
        "\n",
        "else:\n",
        "  print(\"Eres menor de edad\")"
      ],
      "metadata": {
        "colab": {
          "base_uri": "https://localhost:8080/"
        },
        "id": "ieAZma0BJ6JI",
        "outputId": "0903109a-acc0-49de-83b9-7c6d4c6097d8"
      },
      "execution_count": null,
      "outputs": [
        {
          "output_type": "stream",
          "name": "stdout",
          "text": [
            "E\n",
            "r\n",
            "e\n",
            "s\n",
            " \n",
            "m\n",
            "a\n",
            "y\n",
            "o\n",
            "r\n",
            " \n",
            "d\n",
            "e\n",
            " \n",
            "e\n",
            "d\n",
            "a\n",
            "d\n"
          ]
        }
      ]
    },
    {
      "cell_type": "markdown",
      "source": [
        "#Fin"
      ],
      "metadata": {
        "id": "OKWugrGW9OQG"
      }
    },
    {
      "cell_type": "code",
      "execution_count": null,
      "metadata": {
        "id": "_yBP-_3D88zW"
      },
      "outputs": [],
      "source": []
    }
  ]
}