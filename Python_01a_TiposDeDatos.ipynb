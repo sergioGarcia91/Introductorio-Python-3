{
  "nbformat": 4,
  "nbformat_minor": 0,
  "metadata": {
    "colab": {
      "provenance": [],
      "toc_visible": true,
      "authorship_tag": "ABX9TyPyAXHnb/VClSI0sHurjDJn",
      "include_colab_link": true
    },
    "kernelspec": {
      "name": "python3",
      "display_name": "Python 3"
    },
    "language_info": {
      "name": "python"
    }
  },
  "cells": [
    {
      "cell_type": "markdown",
      "metadata": {
        "id": "view-in-github",
        "colab_type": "text"
      },
      "source": [
        "<a href=\"https://colab.research.google.com/github/sergioGarcia91/Introductorio-Python-3/blob/main/Python_01a_TiposDeDatos.ipynb\" target=\"_parent\"><img src=\"https://colab.research.google.com/assets/colab-badge.svg\" alt=\"Open In Colab\"/></a>"
      ]
    },
    {
      "cell_type": "markdown",
      "source": [
        "#Python 01a: Tipos de datos\n",
        "\n",
        "> *Ser tan rápidos como el más lento,\\\n",
        "y ser tan lentos como el más rápido.*\n",
        "\n",
        "**Autor:** Sergio Andrés García Arias  \n",
        "**Versión 01:** Diciembre 2023\n",
        "\n",
        "\n"
      ],
      "metadata": {
        "id": "ivkWM8btDKiP"
      }
    },
    {
      "cell_type": "markdown",
      "source": [
        "##Introducción\n",
        "Google Colaboratory, o simplemente *'Colab'*, se puede considerar como un entorno de trabajo en el que podemos escribir y ejecutar código directamente desde el navegador. Esto puede realizarse tanto en `Python 3` como en `R`, aunque en nuestro caso nos enfocaremos en `Python`. La característica principal de Colab es la posibilidad de ejecutar código sin necesidad de realizar instalaciones previas en el equipo de cómputo. Esta capacidad, similar a otros productos de Google como Documentos, Presentaciones y Formularios.\n",
        "\n",
        "---\n",
        "\n",
        "Como material complementario a esta serie de Notebooks se puede consultar:\n",
        "\n",
        "1. **Python Data Science Handbook: Essential Tools for Working with Data** de Jake VanderPlas (2016).\n",
        "  - ISBN: 978-1491912058\n",
        "  - [Enlace al libro](https://jakevdp.github.io/PythonDataScienceHandbook/)\n",
        "\n",
        "2. **Introduction to Python in Earth Science Data Analysis** de Marco Petrelli (2021).\n",
        "  - Publicado en Springer Textbooks in Earth Sciences, Geography, and Environment.\n",
        "  - DOI: [10.1007/978-3-030-78055-5](https://doi.org/10.1007/978-3-030-78055-5)\n",
        "  - [Repositorio en GitHub](https://github.com/petrelli-m/python_earth_science_book)\n",
        "\n",
        "---\n"
      ],
      "metadata": {
        "id": "SzHXXw5rJ9Yg"
      }
    },
    {
      "cell_type": "markdown",
      "source": [
        "##Markdown\n",
        "En Colab, contamos con dos tipos de celdas: una para `texto` y otras para `código`. Las celdas de texto utilizan el formato `Markdown`, que facilita la adición de formato al texto, vínculos e imágenes de manera sencilla.\n",
        "\n",
        "Este formato proporciona una forma eficaz de estructurar y resaltar partes importantes de tu documentación, haciéndola más legible y fácil de entender para ti y para quienes revisen tu trabajo.\n",
        "\n",
        "Para obtener más información sobre el formato de texto Markdown, puedes consultar el siguiente [enlace](https://colab.research.google.com/notebooks/markdown_guide.ipynb#scrollTo=Lhfnlq1Surtk) o realizar una búsqueda en Google.\n",
        "\n",
        "---\n",
        "Para insertar una nueva celda de `Texto` o `Código`, se puede hacer desde la pestaña de `Insertar --> 'Celda de código' o 'Celda de texto'`.\n",
        "O simplemente ubicando el cursor después de una celda o en medio de dos celdas, nos dará la opción de insertar una celda de Código `+Código` o Texto `+Texto`.\n",
        "\n",
        "<center><img src='https://github.com/sergioGarcia91/Introductorio-Python-3/blob/main/imagen_Colab.png?raw=true' width=1000 /></center>\n",
        "\n",
        "\n"
      ],
      "metadata": {
        "id": "6dMJJ2PfNSk7"
      }
    },
    {
      "cell_type": "markdown",
      "source": [
        "## Observaciones\n",
        "\n",
        "En la pestaña de `Índice` de Colab, podrás realizar una navegación rápida por el Notebook. Se recomienda hacer uso de los títulos de sección en Markdown, al menos incluir un título de `Inicio` y `Fin`. Esto facilitará la navegación directa a las partes específicas del código.\n",
        "\n",
        "Utilizando los títulos de sección, como se muestra a continuación:\n",
        "\n",
        "```markdown\n",
        "# Inicio\n",
        "\n",
        "... (celdas del Notebook)\n",
        "\n",
        "# Fin\n"
      ],
      "metadata": {
        "id": "sajHHkBUPXVi"
      }
    },
    {
      "cell_type": "markdown",
      "source": [
        "---\n",
        "Con el surgimiento de nuevas herramientas de inteligencia artificial (IA), es tentador para quienes están iniciando en el mundo de la programación dejarle toda esta tarea a una IA. Esto podría considerarse adecuado por algunos y erróneo por otros. En nuestro caso, no descartamos el uso de la IA como herramienta, pero destacamos la importancia de tener las bases para comprender lo que nos devuelve en código Python la IA.\n",
        "\n"
      ],
      "metadata": {
        "id": "WtmqDha-Rwmw"
      }
    },
    {
      "cell_type": "markdown",
      "source": [
        "#Inicio"
      ],
      "metadata": {
        "id": "LAZ0X2RXDc7-"
      }
    },
    {
      "cell_type": "markdown",
      "source": [
        "Tras esta breve y generalizada introducción, ya podemos iniciar a conocer las celdas de código. La siguiente es una celda vacía:\n",
        "```python\n",
        "\n",
        "```\n",
        "\n"
      ],
      "metadata": {
        "id": "N6gqJ6kMSxLo"
      }
    },
    {
      "cell_type": "code",
      "source": [],
      "metadata": {
        "id": "0o2PfCgdL1Ot"
      },
      "execution_count": null,
      "outputs": []
    },
    {
      "cell_type": "markdown",
      "source": [
        "Si se observa la esquina superior derecha, se encontrará con una pestaña que dice `Conectar`, lo cual indica que de momento no se ha conectado al servidor para poder ejecutar código. Esta conexión se hace automáticamente cuando se ejecuta una celda de código. Para ejecutar una celda de código, basta con darle al botón de `Play` de la celda o con `Ctrl+Enter`. Cuando se encuentre conectado, aparecerá un estado de la `RAM` y `Disco`. Se debe considerar que se cuentan con recursos limitados para trabajar en Colab, pero para nuestros intereses son más que suficientes.\n",
        "\n",
        "---\n",
        "Ejecute la celda anterior, y observará que no pasa nada, solo aparecerá a la izquierda un `check` que indica que se ejecutó correctamente, el tiempo de ejecución es de `0 s`egundos y entre corchetes un número `[0]`. Este número aparecerá en cada una de las celdas de código e irá incrementando conforme se ejecute una nueva celda o celdas antiguas; es una referencia importante para conocer el orden que se está llevando de ejecución.\n",
        "\n",
        "\n",
        "\n"
      ],
      "metadata": {
        "id": "QWno27YmS_Ef"
      }
    },
    {
      "cell_type": "markdown",
      "source": [
        "# Comentarios en Python\n",
        "\n",
        "En Python, el primer tipo de dato que exploraremos son los comentarios. Los comentarios son líneas o secciones de código diseñadas para ser comprendidas por los humanos, y no por la máquina que ejecuta el código.\n",
        "\n",
        "Ejemplo:\n",
        "\n",
        "```python\n",
        "#Este es un comentario y no va a ser ejecutado por la máquina.\n",
        "```\n",
        "\n",
        "El fin de los comentarios es facilitar la lectura del código a las personas. Incluso, al escribir código y retomarlo después de un largo tiempo, los comentarios ayudan a recordar por qué se escribió una línea y qué hace esa parte específica del código. Esta práctica es especialmente útil al comenzar en la programación, ya que permite recordar paso a paso qué se está haciendo. Con el tiempo, se pueden mantener solo los comentarios necesarios y pertinentes.\n",
        "\n"
      ],
      "metadata": {
        "id": "T6J6Y4wFXZ-r"
      }
    },
    {
      "cell_type": "code",
      "source": [
        "#Este es un comentario y no va a ser ejecutado por la máquina."
      ],
      "metadata": {
        "id": "bXg3qjUmS-zW"
      },
      "execution_count": null,
      "outputs": []
    },
    {
      "cell_type": "markdown",
      "source": [
        "# Tipos de Datos: Strings, Integers y Floats\n",
        "\n",
        "Ahora vamos a conocer tres tipos de datos básicos en Python:\n",
        "\n",
        "- **Strings (cadenas de texto):** Datos de tipo texto.\n",
        "- **Integers (números enteros):** Datos de tipo numérico entero (sin cifra decimal).\n",
        "- **Floats (números de punto flotante):** Datos de tipo número decimal. En Python, el decimal se denota con el punto `.`.\n",
        "\n",
        "Ejemplos:\n",
        "```python\n",
        "‘Uno’    # Esto es un string o texto, y para ello se usan las comillas simples ‘ ’ o dobles “ ”\n",
        "1        # Este es un integer o número entero\n",
        "1.0      # Este es un float o número decimal\n"
      ],
      "metadata": {
        "id": "vhXjeER6aIaq"
      }
    },
    {
      "cell_type": "code",
      "source": [
        "'Uno'     # Esto es un string o texto, y para ello se usan las comillas simples ‘ ’ o dobles “ ”"
      ],
      "metadata": {
        "colab": {
          "base_uri": "https://localhost:8080/",
          "height": 35
        },
        "id": "rVM4jI6wcDOO",
        "outputId": "6ed90232-9185-414e-a604-3951121cfc6e"
      },
      "execution_count": null,
      "outputs": [
        {
          "output_type": "execute_result",
          "data": {
            "text/plain": [
              "'Uno'"
            ],
            "application/vnd.google.colaboratory.intrinsic+json": {
              "type": "string"
            }
          },
          "metadata": {},
          "execution_count": 2
        }
      ]
    },
    {
      "cell_type": "code",
      "source": [
        "\"Uno\"     # Esto es un string o texto, y para ello se usan las comillas simples ‘ ’ o dobles “ ”"
      ],
      "metadata": {
        "colab": {
          "base_uri": "https://localhost:8080/",
          "height": 35
        },
        "id": "t37O3dwVcr6e",
        "outputId": "546c3d99-6de9-4988-b218-6ba55b1ed2cb"
      },
      "execution_count": null,
      "outputs": [
        {
          "output_type": "execute_result",
          "data": {
            "text/plain": [
              "'Uno'"
            ],
            "application/vnd.google.colaboratory.intrinsic+json": {
              "type": "string"
            }
          },
          "metadata": {},
          "execution_count": 3
        }
      ]
    },
    {
      "cell_type": "code",
      "execution_count": null,
      "metadata": {
        "colab": {
          "base_uri": "https://localhost:8080/"
        },
        "id": "V_iR6hY3DJ_1",
        "outputId": "c333c430-3f3c-4194-d3c6-e029bb4c6e21"
      },
      "outputs": [
        {
          "output_type": "execute_result",
          "data": {
            "text/plain": [
              "1"
            ]
          },
          "metadata": {},
          "execution_count": 4
        }
      ],
      "source": [
        "1         # Este es un integer o número entero"
      ]
    },
    {
      "cell_type": "code",
      "source": [
        "1.0       # Este es un float o número decimal"
      ],
      "metadata": {
        "colab": {
          "base_uri": "https://localhost:8080/"
        },
        "id": "vRH4UFsXcI3g",
        "outputId": "a359e915-e4d5-4b84-a451-82947d32ae6a"
      },
      "execution_count": null,
      "outputs": [
        {
          "output_type": "execute_result",
          "data": {
            "text/plain": [
              "1.0"
            ]
          },
          "metadata": {},
          "execution_count": 5
        }
      ]
    },
    {
      "cell_type": "markdown",
      "source": [
        "Python ofrece varias `Built-in Functions`, entre las cuales está `type()`. Esta función nos permite conocer el tipo de datos.\n",
        "\n",
        "Ejemplo:\n",
        "```python\n",
        "type('Uno')    # Nos regresa str, que es de tipo string o texto\n",
        "type(1)        # Nos regresa int, que es de tipo integer o número entero\n",
        "type(1.0)      # Nos regresa float, que es de tipo float o número decimal\n",
        "```\n",
        "\n",
        "Mas información de la función [type()](https://www.geeksforgeeks.org/python-type-function/)\n"
      ],
      "metadata": {
        "id": "fu2dFXskeoY9"
      }
    },
    {
      "cell_type": "code",
      "source": [
        "type('Uno')     # Nos regresa str, que es de tipo string o texto"
      ],
      "metadata": {
        "colab": {
          "base_uri": "https://localhost:8080/"
        },
        "id": "xEEG6wuZer2c",
        "outputId": "e204a257-f7a1-42bf-a15e-4aab45cfb5c5"
      },
      "execution_count": null,
      "outputs": [
        {
          "output_type": "execute_result",
          "data": {
            "text/plain": [
              "str"
            ]
          },
          "metadata": {},
          "execution_count": 6
        }
      ]
    },
    {
      "cell_type": "code",
      "source": [
        "type(\"Uno\")     # Nos regresa str, que es de tipo string o texto"
      ],
      "metadata": {
        "colab": {
          "base_uri": "https://localhost:8080/"
        },
        "id": "Ui7ZVLnwev4D",
        "outputId": "e110c6b3-85f4-44a8-ad89-f499a6a69e54"
      },
      "execution_count": null,
      "outputs": [
        {
          "output_type": "execute_result",
          "data": {
            "text/plain": [
              "str"
            ]
          },
          "metadata": {},
          "execution_count": 7
        }
      ]
    },
    {
      "cell_type": "code",
      "source": [
        "type(1)         # Nos regresa int, que es de tipo integer o número entero"
      ],
      "metadata": {
        "colab": {
          "base_uri": "https://localhost:8080/"
        },
        "id": "VUM2H-WoeyAL",
        "outputId": "a15253f5-715d-4875-ba39-ea23f7f655ce"
      },
      "execution_count": null,
      "outputs": [
        {
          "output_type": "execute_result",
          "data": {
            "text/plain": [
              "int"
            ]
          },
          "metadata": {},
          "execution_count": 8
        }
      ]
    },
    {
      "cell_type": "code",
      "source": [
        "type(1.0)       # Nos regresa float, que es de tipo float o número decimal"
      ],
      "metadata": {
        "colab": {
          "base_uri": "https://localhost:8080/"
        },
        "id": "X61IJoENezrj",
        "outputId": "318411a4-105f-4b7f-ba48-914463b68e6a"
      },
      "execution_count": null,
      "outputs": [
        {
          "output_type": "execute_result",
          "data": {
            "text/plain": [
              "float"
            ]
          },
          "metadata": {},
          "execution_count": 9
        }
      ]
    },
    {
      "cell_type": "markdown",
      "source": [
        "En este punto, ya es evidente algo adicional en las celdas de código: el color de lo que escribimos, algo muy útil para hacer más legible el código. Hasta ahora, hemos ejecutado cada uno de los datos en una celda individual. Como se observa en Colab, da una salida o se visualiza, en este caso, cada uno de los datos inmediatamente después de la celda de código. Sin embargo, también podemos escribir múltiples líneas a la vez en una sola celda.\n",
        "\n",
        "Ejemplo:\n",
        "```python\n",
        "# Ejemplo de múltiples líneas en una celda\n",
        "'Linea 1' # línea de código 1\n",
        "2         # línea de código 2\n",
        "3.0       # línea de código 3\n",
        "```\n",
        "\n",
        "---\n",
        "La ejecución de código en celdas individuales puede ser una buena práctica, especialmente mientras se toma confianza en el entorno de trabajo. Esta aproximación facilita la comprensión y depuración del código paso a paso. Además, permite examinar los resultados y las salidas de manera más controlada.\n",
        "\n",
        "A medida que se adquiere más experiencia y comodidad con el entorno, también es posible realizar ejecuciones de bloques más extensos o escribir múltiples líneas en una sola celda.\n",
        "\n",
        "\n"
      ],
      "metadata": {
        "id": "jylhgkndcKlf"
      }
    },
    {
      "cell_type": "code",
      "source": [
        "# Ejemplo de múltiples líneas en una celda\n",
        "'Linea 1' # línea de código 1\n",
        "2         # línea de código 2\n",
        "3.0       # línea de código 3"
      ],
      "metadata": {
        "colab": {
          "base_uri": "https://localhost:8080/"
        },
        "id": "nXzmhfjUeA8k",
        "outputId": "5d5a7380-8c25-4758-f5a7-5c57a9eb5584"
      },
      "execution_count": null,
      "outputs": [
        {
          "output_type": "execute_result",
          "data": {
            "text/plain": [
              "3.0"
            ]
          },
          "metadata": {},
          "execution_count": 10
        }
      ]
    },
    {
      "cell_type": "markdown",
      "source": [
        "Al ejecutar la celda anterior, se puede observar que no regresa o se visualiza todo lo escrito, solo el `3.0`. Esto se debe a que en Colab siempre nos dará una salida o regreso ('visualizar en pantalla'), siempre y cuando se pueda, de la última línea de código en la celda. Para poder visualizar las líneas anteriores, se debe hacer uso de la función `print()`.\n",
        "\n",
        "Ejemplo:\n",
        "```python\n",
        "# Ejemplo de múltiples líneas en una celda usando la función print()\n",
        "print('Linea 1')  # Línea de código 1\n",
        "print(2)          # Línea de código 2\n",
        "print(3.0)        # Línea de código 3\n",
        "```\n",
        "\n",
        "Mas información de la función [print()](https://www.geeksforgeeks.org/python-print-function/?ref=lbp)"
      ],
      "metadata": {
        "id": "ZByoAlTyeC5s"
      }
    },
    {
      "cell_type": "code",
      "source": [
        "# Ejemplo de múltiples líneas en una celda usando la función print()\n",
        "print('Linea 1')  # Línea de código 1\n",
        "print(2)          # Línea de código 2\n",
        "print(3.0)        # Línea de código 3"
      ],
      "metadata": {
        "colab": {
          "base_uri": "https://localhost:8080/"
        },
        "id": "XxJGDWGsjKuC",
        "outputId": "81b34f13-e65f-4851-b65a-81d8ab8e87d9"
      },
      "execution_count": null,
      "outputs": [
        {
          "output_type": "stream",
          "name": "stdout",
          "text": [
            "Linea 1\n",
            "2\n",
            "3.0\n"
          ]
        }
      ]
    },
    {
      "cell_type": "code",
      "source": [
        "#usando a la vez print() y type()\n",
        "print( type('Linea 1') )\n",
        "print( type(2) )\n",
        "print( type(3.0) )\n"
      ],
      "metadata": {
        "colab": {
          "base_uri": "https://localhost:8080/"
        },
        "id": "FAAAT6Y-jdlw",
        "outputId": "ad4e2ece-1c5f-43fc-ac64-6e4f30970c24"
      },
      "execution_count": null,
      "outputs": [
        {
          "output_type": "stream",
          "name": "stdout",
          "text": [
            "<class 'str'>\n",
            "<class 'int'>\n",
            "<class 'float'>\n"
          ]
        }
      ]
    },
    {
      "cell_type": "markdown",
      "source": [
        "La celda anterior nos regresó la palabra `class`, que para facilitar esta introducción, no profundizaremos en ella.\n",
        "\n",
        "---\n",
        "\n",
        "En este punto, se debe considerar que Python es un lenguaje *CASE SENSITIVE*, es decir, sensible a mayúsculas y minúsculas. Por lo que ejecutar la siguiente línea de código nos generará un error.\n",
        "\n",
        "```python\n",
        "Print('Saldrá un error')\n",
        "```\n",
        "\n",
        "Y en muchas ocasiones, Python nos dará un indicio de qué tipo de error es y cómo podríamos solucionarlo. En este caso, nos dice que `Print` no está definida.\n",
        "\n",
        "```python\n",
        "NameError: name 'Print' is not defined\n"
      ],
      "metadata": {
        "id": "w6UAxSR2lHee"
      }
    },
    {
      "cell_type": "code",
      "source": [
        "Print('Saldrá un error')"
      ],
      "metadata": {
        "colab": {
          "base_uri": "https://localhost:8080/",
          "height": 175
        },
        "id": "1fBgMgBEkkpm",
        "outputId": "25046cb0-55db-4bbf-935f-52b59d2350de"
      },
      "execution_count": null,
      "outputs": [
        {
          "output_type": "error",
          "ename": "NameError",
          "evalue": "ignored",
          "traceback": [
            "\u001b[0;31m---------------------------------------------------------------------------\u001b[0m",
            "\u001b[0;31mNameError\u001b[0m                                 Traceback (most recent call last)",
            "\u001b[0;32m<ipython-input-13-0aeadce7b199>\u001b[0m in \u001b[0;36m<cell line: 1>\u001b[0;34m()\u001b[0m\n\u001b[0;32m----> 1\u001b[0;31m \u001b[0mPrint\u001b[0m\u001b[0;34m(\u001b[0m\u001b[0;34m'Saldrá un error'\u001b[0m\u001b[0;34m)\u001b[0m\u001b[0;34m\u001b[0m\u001b[0;34m\u001b[0m\u001b[0m\n\u001b[0m",
            "\u001b[0;31mNameError\u001b[0m: name 'Print' is not defined"
          ]
        }
      ]
    },
    {
      "cell_type": "markdown",
      "source": [
        "De momento, se han visto dos funciones propias de Python, `print()` y `type()`, a lo que podemos concluir que cuando la expresión tiene un `()` es una función y que entre los paréntesis puede ir algo más.\n",
        "\n",
        "En Python, al hacer saltos de línea dentro de los `()` se va a realizar una división de la línea de código, y aún así, el código será comprendido por la máquina sin generar problemas. Para el uso de múltiples líneas de texto se hace uso de tres comillas simples `'''... texto ...'''`.\n",
        "\n",
        "Ejemplo:\n",
        "```python\n",
        "# Texto en múltiples líneas, divididas por un salto de línea al pulsar Enter\n",
        "# que aún así van a ser entendidas por la máquina\n",
        "# Es útil para darle legibilidad al código.\n",
        "\n",
        "print('''Texto\n",
        "en múltiples\n",
        "líneas de código.'''\n",
        ")\n",
        "```\n"
      ],
      "metadata": {
        "id": "854XmvKF2DBK"
      }
    },
    {
      "cell_type": "code",
      "source": [
        "# Texto en múltiples líneas, divididas por un salto de línea al pulsar Enter\n",
        "# que aún así van a ser entendidas por la máquina\n",
        "# Es útil para darle legibilidad al código.\n",
        "\n",
        "print('''Texto\n",
        "en múltiples\n",
        "líneas de código.'''\n",
        ")"
      ],
      "metadata": {
        "colab": {
          "base_uri": "https://localhost:8080/"
        },
        "id": "P2PE7BnK2s56",
        "outputId": "155e71a4-0e78-4ab5-d19b-2eef6e52b28b"
      },
      "execution_count": null,
      "outputs": [
        {
          "output_type": "stream",
          "name": "stdout",
          "text": [
            "Texto\n",
            "en múltiples\n",
            "líneas de código.\n"
          ]
        }
      ]
    },
    {
      "cell_type": "markdown",
      "source": [
        "#Variables"
      ],
      "metadata": {
        "id": "7tH71gJ1-jSr"
      }
    },
    {
      "cell_type": "markdown",
      "source": [
        "Todas estas acciones de escribir texto o número se consideran sin almacenar, lo que implica que no podemos recuperar o volver a usar un texto o número ya utilizado previamente. Para ello, hacemos uso de las `variables`, las cuales son simplemente palabras a las que asignamos algún texto, número u otras opciones usando el signo `=`.\n",
        "\n",
        "Ejemplo:\n",
        "```python\n",
        "miPrimeraVariable = 'Esta es mi primera variable de tipo texto'\n",
        "numeroEntero = 1\n",
        "numeroFlotante = 1.1\n",
        "\n",
        "print(miPrimeraVariable)\n",
        "print(numeroEntero)\n",
        "print(numeroFlotante)\n",
        "```"
      ],
      "metadata": {
        "id": "VHAbzEwr_uiY"
      }
    },
    {
      "cell_type": "code",
      "source": [
        "miPrimeraVariable = 'Esta es mi primera variable de tipo texto'\n",
        "numeroEntero = 1\n",
        "numeroFlotante = 1.1\n",
        "\n",
        "print(miPrimeraVariable)\n",
        "print(numeroEntero)\n",
        "print(numeroFlotante)"
      ],
      "metadata": {
        "colab": {
          "base_uri": "https://localhost:8080/"
        },
        "id": "zXjOngZw-knp",
        "outputId": "45c06aaf-3d02-46e5-e776-ac69565fffe3"
      },
      "execution_count": null,
      "outputs": [
        {
          "output_type": "stream",
          "name": "stdout",
          "text": [
            "Esta es mi primera variable de tipo texto\n",
            "1\n",
            "1.1\n"
          ]
        }
      ]
    },
    {
      "cell_type": "markdown",
      "source": [
        "Como ya se ha mencionado, Python es *CASE SENSITIVE* y, además, las variables no pueden tener espacios en su nombre. Por lo tanto, se puede hacer uso de la escritura tipo *CAMEL CASE* alternando mayúsculas o minúsculas, o usar la barra baja `_`.\n",
        "\n",
        "---\n",
        "Cuando existan errores de sintaxis o una variable no esté definida, Colab los señalará de manera visual. Similar a los documentos de texto, donde los errores ortográficos son indicados con un subrayado ondulado de colores. En Colab, los errores de sintaxis se destacan en color rojo, mientras que las variables no definidas se resaltan en amarillo.\n",
        "\n",
        "\n"
      ],
      "metadata": {
        "id": "qYLUryv9ArX3"
      }
    },
    {
      "cell_type": "code",
      "source": [
        "Variable nueva = 12345 # va ha generar un error\n",
        "print(Variable nueva)"
      ],
      "metadata": {
        "colab": {
          "base_uri": "https://localhost:8080/",
          "height": 141
        },
        "id": "YeQ5QiqHAeTe",
        "outputId": "70ab6432-d131-465c-dbc5-540832028af0"
      },
      "execution_count": null,
      "outputs": [
        {
          "output_type": "error",
          "ename": "SyntaxError",
          "evalue": "ignored",
          "traceback": [
            "\u001b[0;36m  File \u001b[0;32m\"<ipython-input-16-6c049575738a>\"\u001b[0;36m, line \u001b[0;32m1\u001b[0m\n\u001b[0;31m    Variable nueva = 12345 # va ha generar un error\u001b[0m\n\u001b[0m             ^\u001b[0m\n\u001b[0;31mSyntaxError\u001b[0m\u001b[0;31m:\u001b[0m invalid syntax\n"
          ]
        }
      ]
    },
    {
      "cell_type": "code",
      "source": [
        "Variable_nueva = 12345 # NO va ha generar un error\n",
        "print(Variable_nueva)"
      ],
      "metadata": {
        "colab": {
          "base_uri": "https://localhost:8080/"
        },
        "id": "4mqdjeflA5Ve",
        "outputId": "bf802f05-7eb3-4e60-9fd3-f3e7609f7c9a"
      },
      "execution_count": null,
      "outputs": [
        {
          "output_type": "stream",
          "name": "stdout",
          "text": [
            "12345\n"
          ]
        }
      ]
    },
    {
      "cell_type": "markdown",
      "source": [
        "Para conocer o hacer seguimiento de todas las variables creadas, simplemente haz clic en el icono `{x}` a la izquierda de Colab. Esto permitirá observar todas las variables creadas hasta el momento junto con otra información relevante. Sin embargo, estas variables se pueden borrar utilizando la función `del`. A continuación, se muestra un ejemplo de cómo eliminar la variable `Variable_nueva` creada previamente.\n",
        "\n",
        "Ejemplo:\n",
        "```python\n",
        "del Variable_nueva\n",
        "# Intentar imprimir Variable_nueva generará un error indicando que la variable no existe.\n",
        "print(Variable_nueva)\n",
        "```\n"
      ],
      "metadata": {
        "id": "74YpA8tGCBYO"
      }
    },
    {
      "cell_type": "code",
      "source": [
        "del Variable_nueva\n",
        "# Intentar imprimir Variable_nueva generará un error indicando que la variable no existe.\n",
        "print(Variable_nueva)"
      ],
      "metadata": {
        "colab": {
          "base_uri": "https://localhost:8080/",
          "height": 210
        },
        "id": "3rQ8pnFVD2Q0",
        "outputId": "c2b520cb-8201-43c7-819a-5035fa081d7e"
      },
      "execution_count": null,
      "outputs": [
        {
          "output_type": "error",
          "ename": "NameError",
          "evalue": "ignored",
          "traceback": [
            "\u001b[0;31m---------------------------------------------------------------------------\u001b[0m",
            "\u001b[0;31mNameError\u001b[0m                                 Traceback (most recent call last)",
            "\u001b[0;32m<ipython-input-18-50081f3bc6f6>\u001b[0m in \u001b[0;36m<cell line: 3>\u001b[0;34m()\u001b[0m\n\u001b[1;32m      1\u001b[0m \u001b[0;32mdel\u001b[0m \u001b[0mVariable_nueva\u001b[0m\u001b[0;34m\u001b[0m\u001b[0;34m\u001b[0m\u001b[0m\n\u001b[1;32m      2\u001b[0m \u001b[0;31m# Intentar imprimir Variable_nueva generará un error indicando que la variable no existe.\u001b[0m\u001b[0;34m\u001b[0m\u001b[0;34m\u001b[0m\u001b[0m\n\u001b[0;32m----> 3\u001b[0;31m \u001b[0mprint\u001b[0m\u001b[0;34m(\u001b[0m\u001b[0mVariable_nueva\u001b[0m\u001b[0;34m)\u001b[0m\u001b[0;34m\u001b[0m\u001b[0;34m\u001b[0m\u001b[0m\n\u001b[0m",
            "\u001b[0;31mNameError\u001b[0m: name 'Variable_nueva' is not defined"
          ]
        }
      ]
    },
    {
      "cell_type": "markdown",
      "source": [
        "Al definir variables en Python, es recomendable asignar nombres nemotécnicos que faciliten recordar la información que se almacena en ellas. Se sugiere que los nombres no sean excesivamente largos, aunque para quienes están comenzando en la programación, utilizar nombres más extensos puede ser pertinente para recordar fácilmente el propósito de la variable.\n",
        "\n",
        "---\n",
        "Otra consideración importante es crear solo las variables estrictamente necesarias para evitar problemas de almacenamiento o ocupación innecesaria de memoria. En esta serie de Notebooks, no impondremos restricciones en la creación de variables adicionales, pero se enfatiza la importancia de mantener el número de variables al mínimo necesario para aumentar la practicidad del código.\n",
        "\n",
        "---\n",
        "Recuerda que un buen equilibrio entre nombres significativos y la cantidad adecuada de variables contribuirá a hacer tu código más legible y mantenible.\n"
      ],
      "metadata": {
        "id": "LwnO3RrTEuk7"
      }
    },
    {
      "cell_type": "code",
      "source": [
        "Variable_nueva = 'Creada de nuevo' # la generamos de nuevo\n",
        "print(Variable_nueva)"
      ],
      "metadata": {
        "colab": {
          "base_uri": "https://localhost:8080/"
        },
        "id": "Bx-EvJhHIPGY",
        "outputId": "827167a2-f9f2-42fd-c614-0606fbd29060"
      },
      "execution_count": null,
      "outputs": [
        {
          "output_type": "stream",
          "name": "stdout",
          "text": [
            "Creada de nuevo\n"
          ]
        }
      ]
    },
    {
      "cell_type": "markdown",
      "source": [
        "---\n",
        "Una última observación importante es evitar el uso de acentos gramaticales o la letra ñ al escribir código en Python, ya que se prefiere una redacción en inglés. Esto incluye la creación de variables y otros elementos del código. Aunque los comentarios pueden contener acentos o la letra ñ, es recomendable mantener una consistencia en inglés para facilitar la comprensión y asegurar compatibilidad con las funciones de Python, que generalmente están en inglés.\n",
        "\n",
        "Es deseable que el código esté escrito en inglés, no solo para llegar a un público más amplio, sino también porque sigue las convenciones y estándares de la comunidad de desarrollo en Python. Si bien este detalle puede omitirse en este momento, es recomendable tenerlo presente para futuros códigos y mantener una práctica coherente en el uso del idioma.\n"
      ],
      "metadata": {
        "id": "5MAQdDwljiKf"
      }
    },
    {
      "cell_type": "markdown",
      "source": [
        "#Fin"
      ],
      "metadata": {
        "id": "2rnhSmqZDeYu"
      }
    },
    {
      "cell_type": "code",
      "source": [],
      "metadata": {
        "id": "-BvQJpGODgX-"
      },
      "execution_count": null,
      "outputs": []
    }
  ]
}