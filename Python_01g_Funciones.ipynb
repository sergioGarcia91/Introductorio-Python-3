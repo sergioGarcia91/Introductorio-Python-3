{
  "nbformat": 4,
  "nbformat_minor": 0,
  "metadata": {
    "colab": {
      "provenance": [],
      "toc_visible": true,
      "authorship_tag": "ABX9TyODBEDklt7pXxEXb/+cRHIk",
      "include_colab_link": true
    },
    "kernelspec": {
      "name": "python3",
      "display_name": "Python 3"
    },
    "language_info": {
      "name": "python"
    }
  },
  "cells": [
    {
      "cell_type": "markdown",
      "metadata": {
        "id": "view-in-github",
        "colab_type": "text"
      },
      "source": [
        "<a href=\"https://colab.research.google.com/github/sergioGarcia91/Introductorio-Python-3/blob/main/Python_01g_Funciones.ipynb\" target=\"_parent\"><img src=\"https://colab.research.google.com/assets/colab-badge.svg\" alt=\"Open In Colab\"/></a>"
      ]
    },
    {
      "cell_type": "markdown",
      "source": [
        "#Python 01g: Funciones\n",
        "\n",
        "> *Ser tan rápidos como el más lento,\\\n",
        "y ser tan lentos como el más rápido.*\n",
        "\n",
        "**Autor:** Sergio Andrés García Arias  \n",
        "**Versión 01:** Diciembre 2023"
      ],
      "metadata": {
        "id": "QVH7mp5TTcJB"
      }
    },
    {
      "cell_type": "markdown",
      "source": [
        "#Introducción\n",
        "\n",
        "# Introducción\n",
        "\n",
        "A menudo, te habrás dado cuenta de la necesidad de repetir una tarea específica (un bloque de código) en varias celdas de código posteriores. En estos casos, solemos \"reutilizar\" bloques de código previos, copiándolos y pegándolos, realizando cambios en algunos valores de nuestras variables. Esta situación ilustra de manera general el uso de `funciones` en Python.\n",
        "\n",
        "Las funciones desempeñan un papel crucial al organizar y estructurar el código al dividirlo en unidades más pequeñas y manejables. Aunque Python ya incluye funciones predefinidas, también nosotros podemos definir nuestras propias funciones para utilizarlas según sea necesario.\n",
        "\n",
        "Una de las principales ventajas de incorporar funciones en el código es la reducción del número total de líneas de código.\n"
      ],
      "metadata": {
        "id": "9uGBtt5ZTgP9"
      }
    },
    {
      "cell_type": "markdown",
      "source": [
        "#Inicio"
      ],
      "metadata": {
        "id": "aswLmJTaVG7s"
      }
    },
    {
      "cell_type": "markdown",
      "source": [
        "Para crear una funcion en Python se hace uso de la palabra reservada `def`. La estructura básica general para definir una función es la siguiente:\n",
        "\n",
        "```python\n",
        "def nombre_de_la_funcion_a_crear(variable_o_parametro_1, variable_o_parametro_2, ... , variable_o_parametro_N):\n",
        "  # Una función puede NO tener o tener tantos parametros (hasta N) como se requiera\n",
        "\n",
        "  # Cuerpo de la función\n",
        "  # En este bloque de código indentado se especifica o escribe la tarea a ejecutar usando\n",
        "  # las N variable_o_parametro definidos\n",
        "  print('Print dentro de la función.')\n",
        "  print(variable_o_parametro_1)\n",
        "  # en este caso imprime variable_o_parametro_1\n",
        "  \n",
        "  # Como opcional se puede establecer que devuelva un resultado con la palabra reservada 'return'.\n",
        "  # para ser almacenada en otra variable nueva o futura\n",
        "  unirParametros = variable_o_parametro_1 + variable_o_parametro_2\n",
        "\n",
        "  return unirParametros\n",
        "  # De ser requerido se puede guardar la variable unirParametros, generada dentro de la función.\n",
        "```\n",
        "\n",
        "---\n",
        "Una vez que se ja creado una función en Python, puede ser utilizada simplemente \"llamándola\" y proporcionando los parámetros necesarios. Para hacer esto, especifica el nombre de la función seguido de los valores de los parámetros:\n",
        "\n",
        "```python\n",
        "nombre_de_la_funcion_a_llamar(variable_o_parametro_requerido_1, variable_o_parametro_requerido_2)\n",
        "# La función se ejecutará y proporcionará las salidas respectivas.\n",
        "```\n",
        "\n",
        "Si la función utiliza `return` y se quiere almacenar el resultado en una variable, simplemente se debe asignar la llamada de la función a una variable:\n",
        "\n",
        "```python\n",
        "return_a_guardar = nombre_de_la_funcion_a_llamar(variable_o_parametro_requerido_1, variable_o_parametro_requerido_2)\n",
        "# La función se ejecutará y proporcionará las salidas respectivas.\n",
        "# Además, el resultado se guardará en la variable return_a_guardar.\n",
        "```\n",
        "\n",
        "\n",
        "\n"
      ],
      "metadata": {
        "id": "Y_fr2WDFVJ8-"
      }
    },
    {
      "cell_type": "code",
      "source": [
        "# Vamos a iniciar con una función simple que sea de saludar\n",
        "def saludar():\n",
        "    print('Hola a todos, esta es mi primera función.')\n",
        "# esta función no requiere parámetros o alguna variable de ingresarse\n",
        "# tampoco nos da un return\n",
        "# solo es un print"
      ],
      "metadata": {
        "id": "7cIW0DYtVIMk"
      },
      "execution_count": null,
      "outputs": []
    },
    {
      "cell_type": "markdown",
      "source": [
        "Al ejecutar la celda que contiene la definición de la función `saludar()`, no se mostrará ninguna salida ni se generará un error. Esto se debe a que la función se está creando, pero no se ejecuta automáticamente.\n",
        "\n",
        "Es importante tener en cuenta que, aunque no haya errores aparentes al definir la función, posibles problemas en la estructura de la misma no se manifestarán hasta que intentes ejecutar o llamar a la función.\n",
        "\n"
      ],
      "metadata": {
        "id": "AuuJXXniaOJn"
      }
    },
    {
      "cell_type": "code",
      "source": [
        "# Ahora vamos a llamar o ejecutar la función\n",
        "saludar() # deberia dar el mensaje asignado"
      ],
      "metadata": {
        "colab": {
          "base_uri": "https://localhost:8080/"
        },
        "id": "thp8KddFaLvg",
        "outputId": "b439c7fe-c0f4-479b-8309-3232c54f4e16"
      },
      "execution_count": null,
      "outputs": [
        {
          "output_type": "stream",
          "name": "stdout",
          "text": [
            "Hola a todos, esta es mi primera función.\n"
          ]
        }
      ]
    },
    {
      "cell_type": "code",
      "source": [
        "# Ahora quiero mejorarla, que tenga 2 parámetros\n",
        "# 1ro que será el nombre de la persona quien está saludando\n",
        "# 2do la edad de la persona\n",
        "def saludar_v2(nomprePersona, edad):\n",
        "    print('Hola a todos, esta es mi primera función. \\n')\n",
        "    print('Mi nombre es ', nomprePersona, ',\\n')\n",
        "    print('Y tengo ', edad, ' años.')"
      ],
      "metadata": {
        "id": "slqFvE-Mbqq_"
      },
      "execution_count": null,
      "outputs": []
    },
    {
      "cell_type": "code",
      "source": [
        "# ingresando el nombre y la edad\n",
        "# en el mismo orden\n",
        "saludar_v2('Pepito', 99)"
      ],
      "metadata": {
        "colab": {
          "base_uri": "https://localhost:8080/"
        },
        "id": "bNRLaEzPcggl",
        "outputId": "1d4d8199-1bae-481b-9773-92663a294944"
      },
      "execution_count": null,
      "outputs": [
        {
          "output_type": "stream",
          "name": "stdout",
          "text": [
            "Hola a todos, esta es mi primera función. \n",
            "\n",
            "Mi nombre es  Pepito ,\n",
            "\n",
            "Y tengo  99  años.\n"
          ]
        }
      ]
    },
    {
      "cell_type": "code",
      "source": [
        "# si no se asignan valores sale error ...\n",
        "saludar_v2() # nos dirá que argumentos faltan"
      ],
      "metadata": {
        "colab": {
          "base_uri": "https://localhost:8080/",
          "height": 193
        },
        "id": "L_8T7J19cal2",
        "outputId": "5cec0c77-cafe-43d4-98a1-63aa0aeaf9ad"
      },
      "execution_count": null,
      "outputs": [
        {
          "output_type": "error",
          "ename": "TypeError",
          "evalue": "ignored",
          "traceback": [
            "\u001b[0;31m---------------------------------------------------------------------------\u001b[0m",
            "\u001b[0;31mTypeError\u001b[0m                                 Traceback (most recent call last)",
            "\u001b[0;32m<ipython-input-7-09f4aed39a3e>\u001b[0m in \u001b[0;36m<cell line: 2>\u001b[0;34m()\u001b[0m\n\u001b[1;32m      1\u001b[0m \u001b[0;31m# si no se asignan valores sale error ...\u001b[0m\u001b[0;34m\u001b[0m\u001b[0;34m\u001b[0m\u001b[0m\n\u001b[0;32m----> 2\u001b[0;31m \u001b[0msaludar_v2\u001b[0m\u001b[0;34m(\u001b[0m\u001b[0;34m)\u001b[0m \u001b[0;31m# nos dirá que argumentos faltan\u001b[0m\u001b[0;34m\u001b[0m\u001b[0;34m\u001b[0m\u001b[0m\n\u001b[0m",
            "\u001b[0;31mTypeError\u001b[0m: saludar_v2() missing 2 required positional arguments: 'nomprePersona' and 'edad'"
          ]
        }
      ]
    },
    {
      "cell_type": "markdown",
      "source": [
        "Al crear una función que requiere variable/argumento/parámetros para su ejecución, si no son ingresados nos puede salir un error. Para nuestro ejemplo es:\n",
        "\n",
        "```python\n",
        "TypeError: saludar_v2() missing 2 required positional arguments: 'nomprePersona' and 'edad'\n",
        "```\n",
        "Para evitar este error ya sea porque el usuario no tenga presente que parametros son relevantes, se pueden establecer valores por defecto de la siguiente manera.\n",
        "\n",
        "```python\n",
        "def saludar_v3(nomprePersona='Juan Sin Nombre', # si el usuario no ingresa un nombre, por defecto va a tomar ’Juan Sin Nombre’\n",
        " edad= 30 # y lo mismo para la edad, que por defecto queda en 30\n",
        "):\n",
        "    print('Hola a todos, esta es mi primera función. \\n')\n",
        "    print('Mi nombre es ', nomprePersona, ',\\n')\n",
        "    print('Y tengo ', edad, ' años.')\n",
        "```\n",
        "\n"
      ],
      "metadata": {
        "id": "riJm1K7zd4wd"
      }
    },
    {
      "cell_type": "code",
      "source": [
        "# nueva versión asignando parámetros por defecto\n",
        "def saludar_v3(nomprePersona='Juan Sin Nombre',\n",
        "               edad= 30 ):\n",
        "    print('Hola a todos, esta es mi primera función. \\n')\n",
        "    print('Mi nombre es ', nomprePersona, ',\\n')\n",
        "    print('Y tengo ', edad, ' años.')"
      ],
      "metadata": {
        "id": "N51kmZZReBbz"
      },
      "execution_count": null,
      "outputs": []
    },
    {
      "cell_type": "code",
      "source": [
        "# esta versión no deberia generar error\n",
        "# si se olvida pasar parametros o argumentos\n",
        "saludar_v3()"
      ],
      "metadata": {
        "colab": {
          "base_uri": "https://localhost:8080/"
        },
        "id": "7M3o3ZvoeQTk",
        "outputId": "2f2004af-d5d3-4895-9ee3-2c6b17ed04ba"
      },
      "execution_count": null,
      "outputs": [
        {
          "output_type": "stream",
          "name": "stdout",
          "text": [
            "Hola a todos, esta es mi primera función. \n",
            "\n",
            "Mi nombre es  Juan Sin Nombre ,\n",
            "\n",
            "Y tengo  30  años.\n"
          ]
        }
      ]
    },
    {
      "cell_type": "code",
      "source": [
        "# si solo paro el nombre\n",
        "saludar_v3('Pepito')"
      ],
      "metadata": {
        "colab": {
          "base_uri": "https://localhost:8080/"
        },
        "id": "Ehw6eaxSeZyt",
        "outputId": "2135cab9-f8fa-4eb9-e55f-156bffaeecdd"
      },
      "execution_count": null,
      "outputs": [
        {
          "output_type": "stream",
          "name": "stdout",
          "text": [
            "Hola a todos, esta es mi primera función. \n",
            "\n",
            "Mi nombre es  Pepito ,\n",
            "\n",
            "Y tengo  30  años.\n"
          ]
        }
      ]
    },
    {
      "cell_type": "code",
      "source": [
        "# si solo paso la edad\n",
        "saludar_v3(15)"
      ],
      "metadata": {
        "colab": {
          "base_uri": "https://localhost:8080/"
        },
        "id": "JYzlEI9-eiES",
        "outputId": "4cc4296f-64d7-4c57-d0e6-ebfe5959c80d"
      },
      "execution_count": null,
      "outputs": [
        {
          "output_type": "stream",
          "name": "stdout",
          "text": [
            "Hola a todos, esta es mi primera función. \n",
            "\n",
            "Mi nombre es  15 ,\n",
            "\n",
            "Y tengo  30  años.\n"
          ]
        }
      ]
    },
    {
      "cell_type": "markdown",
      "source": [
        "En el ejemplo anterior, expresamos `saludar_v3(15)`, indicando que solo queríamos especificar que la persona tiene 15 años. Sin embargo, en las salidas no se manejó adecuadamente, ya que el número `15` quedó en la posición del nombre. Este problema se debe a que el orden en que se colocan los parámetros/variables/argumentos es crucial, y se completarán en la función en el mismo orden.\n",
        "\n",
        "Para evitar estos inconvenientes y mejorar la claridad al especificar qué argumento queremos modificar y con qué valor, se pueden especificar los `argumentos` al llamar a la función. Esto significa que en lugar de depender del orden, especificamos explícitamente a qué parámetro estamos asignando cada valor, mejorando así la legibilidad del código.\n",
        "\n",
        "```python\n",
        "# Llamada a la función especificando el argumento de palabra clave\n",
        "saludar_v3(edad=15)\n"
      ],
      "metadata": {
        "id": "mIkDud5Fg4TM"
      }
    },
    {
      "cell_type": "code",
      "source": [
        "# Llamada a la función especificando el argumento de palabra clave\n",
        "saludar_v3(edad=15)"
      ],
      "metadata": {
        "colab": {
          "base_uri": "https://localhost:8080/"
        },
        "id": "n0Aenmg8hQph",
        "outputId": "c46d305a-c326-49f5-f072-b6641c91dd7a"
      },
      "execution_count": null,
      "outputs": [
        {
          "output_type": "stream",
          "name": "stdout",
          "text": [
            "Hola a todos, esta es mi primera función. \n",
            "\n",
            "Mi nombre es  Juan Sin Nombre ,\n",
            "\n",
            "Y tengo  15  años.\n"
          ]
        }
      ]
    },
    {
      "cell_type": "code",
      "source": [
        "saludar_v3(edad=15, nomprePersona='Pepito') # el orden no afecta"
      ],
      "metadata": {
        "colab": {
          "base_uri": "https://localhost:8080/"
        },
        "id": "vQbU5y4UhrFA",
        "outputId": "ee28459f-9967-4501-e021-b57ce381e423"
      },
      "execution_count": null,
      "outputs": [
        {
          "output_type": "stream",
          "name": "stdout",
          "text": [
            "Hola a todos, esta es mi primera función. \n",
            "\n",
            "Mi nombre es  Pepito ,\n",
            "\n",
            "Y tengo  15  años.\n"
          ]
        }
      ]
    },
    {
      "cell_type": "code",
      "source": [
        "saludar_v3(nomprePersona='Pepito', edad=15)"
      ],
      "metadata": {
        "colab": {
          "base_uri": "https://localhost:8080/"
        },
        "id": "Tcl6z4PehuaY",
        "outputId": "2b9483f0-0906-42ff-f7c7-6954c6aafaa8"
      },
      "execution_count": null,
      "outputs": [
        {
          "output_type": "stream",
          "name": "stdout",
          "text": [
            "Hola a todos, esta es mi primera función. \n",
            "\n",
            "Mi nombre es  Pepito ,\n",
            "\n",
            "Y tengo  15  años.\n"
          ]
        }
      ]
    },
    {
      "cell_type": "code",
      "source": [
        "saludar_v3(edad=15, nomprePersona=12345)"
      ],
      "metadata": {
        "colab": {
          "base_uri": "https://localhost:8080/"
        },
        "id": "q-0TEKrnhT4B",
        "outputId": "df7319f5-a3fd-45eb-dc5c-ba687dcefabc"
      },
      "execution_count": null,
      "outputs": [
        {
          "output_type": "stream",
          "name": "stdout",
          "text": [
            "Hola a todos, esta es mi primera función. \n",
            "\n",
            "Mi nombre es  12345 ,\n",
            "\n",
            "Y tengo  15  años.\n"
          ]
        }
      ]
    },
    {
      "cell_type": "markdown",
      "source": [
        "Al ejecutar `saludar_v3(edad=15, nomprePersona=12345)`, observamos que en el nombre se escribió un número en lugar de un texto que represente un nombre. Este ejemplo destaca la importancia de tener claro el propósito de la función y el tipo de variables que cada argumento debe recibir.\n",
        "\n",
        "Es esencial tener en cuenta que una función puede ser tan simple o compleja como sea necesario para cumplir su objetivo. Sin embargo, a medida que una función se vuelve más compleja, puede volverse más difícil realizar un seguimiento de las variables y asegurarse de que se utilicen de manera coherente.\n",
        "\n",
        "Es fundamental establecer un entendimiento claro de los tipos de datos que cada argumento debe contener, evitando así posibles errores al proporcionar valores incorrectos.\n",
        "\n",
        "---\n",
        "\n",
        "Una forma sencilla de comenzar a trabajar con funciones es escribir inicialmente el bloque de código en una celda de forma estándar y asegurarse de que todo funcione correctamente. Posteriormente, se puede proceder a definir la función, tabular el bloque de código dentro de la función y realizar los ajustes menores pertinentes.\n",
        "\n",
        "1. Escribir código\n",
        "\n",
        "```python\n",
        "# Bloque de código sin función\n",
        "variable_a = 10\n",
        "variable_b = 20\n",
        "resultado = variable_a + variable_b\n",
        "print(\"El resultado es:\", resultado)\n",
        "```\n"
      ],
      "metadata": {
        "id": "W9a1X0CBhjxh"
      }
    },
    {
      "cell_type": "code",
      "source": [
        "# Bloque de código sin función\n",
        "variable_a = 10\n",
        "variable_b = 20\n",
        "resultado = variable_a + variable_b\n",
        "print(\"El resultado es:\", resultado)\n",
        "\n",
        "# el código parece funcionar adecuadamente"
      ],
      "metadata": {
        "colab": {
          "base_uri": "https://localhost:8080/"
        },
        "id": "eA0-9zChjZiI",
        "outputId": "6cf19254-7585-43aa-81e6-aa8ebf9b895a"
      },
      "execution_count": null,
      "outputs": [
        {
          "output_type": "stream",
          "name": "stdout",
          "text": [
            "El resultado es: 30\n"
          ]
        }
      ]
    },
    {
      "cell_type": "markdown",
      "source": [
        "2. Crear la función\n",
        "\n",
        "```python\n",
        "def sumar_dos_numeros(numero_1, numero_2):\n",
        "  resultado = numero_1 + numero_2\n",
        "  print('El resultado de sumar ', numero_1, ' + ', numero_2, ' es igual a ', resultado)\n",
        "  #se incluye un print\n",
        "  return resultado\n",
        "  #si se hace el return porque queremos recuperar ese resultado\n",
        "```"
      ],
      "metadata": {
        "id": "Wwsu7cxAkfxF"
      }
    },
    {
      "cell_type": "code",
      "source": [
        "def sumar_dos_numeros(numero_1, numero_2):\n",
        "  resultado = numero_1 + numero_2\n",
        "  print('El resultado de sumar ', numero_1, ' + ', numero_2, ' es igual a ', resultado)\n",
        "  #se incluye un print\n",
        "  return resultado"
      ],
      "metadata": {
        "id": "MtCzJWHElB2G"
      },
      "execution_count": null,
      "outputs": []
    },
    {
      "cell_type": "markdown",
      "source": [
        "3. Validar\n",
        "\n",
        "```python\n",
        "variable_a = 10\n",
        "variable_b = 20\n",
        "sumar_dos_numeros(variable_a, variable_b)\n",
        "```"
      ],
      "metadata": {
        "id": "paFs5ZHJlNLl"
      }
    },
    {
      "cell_type": "code",
      "source": [
        "variable_a = 10\n",
        "variable_b = 20\n",
        "sumar_dos_numeros(variable_a, variable_b)\n",
        "# aparece el 30 de nuevo al final por el return\n",
        "# almacenemos el resultado"
      ],
      "metadata": {
        "colab": {
          "base_uri": "https://localhost:8080/"
        },
        "id": "vVWYB2QalJKW",
        "outputId": "9b043d22-744a-497c-84f3-ac1d9ab4e803"
      },
      "execution_count": null,
      "outputs": [
        {
          "output_type": "stream",
          "name": "stdout",
          "text": [
            "El resultado de sumar  10  +  20  es igual a  30\n"
          ]
        },
        {
          "output_type": "execute_result",
          "data": {
            "text/plain": [
              "30"
            ]
          },
          "metadata": {},
          "execution_count": 23
        }
      ]
    },
    {
      "cell_type": "code",
      "source": [
        "variable_a = 10\n",
        "variable_b = 20\n",
        "resultado = sumar_dos_numeros(variable_a, variable_b)"
      ],
      "metadata": {
        "colab": {
          "base_uri": "https://localhost:8080/"
        },
        "id": "jTqp6uXflhuU",
        "outputId": "301c2270-3f9a-4869-97a8-1edad467a7bf"
      },
      "execution_count": null,
      "outputs": [
        {
          "output_type": "stream",
          "name": "stdout",
          "text": [
            "El resultado de sumar  10  +  20  es igual a  30\n"
          ]
        }
      ]
    },
    {
      "cell_type": "code",
      "source": [
        "# se ejecutó el print de la función, creado para verificar que este ejecutandose\n",
        "# ahora imprimamos la variable donde se guardó el return\n",
        "print(resultado) # 30"
      ],
      "metadata": {
        "colab": {
          "base_uri": "https://localhost:8080/"
        },
        "id": "zN8GWGhMlkzM",
        "outputId": "ead3cd37-d74c-4cb1-e1d8-999ebefd4d8d"
      },
      "execution_count": null,
      "outputs": [
        {
          "output_type": "stream",
          "name": "stdout",
          "text": [
            "30\n"
          ]
        }
      ]
    },
    {
      "cell_type": "markdown",
      "source": [
        "---\n",
        "Si actualmente sientes que el uso de funciones resulta complejo o desafiante, no se preocupe. Puede continuar sin utilizarlas por el momento. Lo más importante es no desistir en su crecimiento en la programación.\n",
        "\n",
        "Las funciones son una herramienta poderosa que puede facilitar la organización del código, pero su comprensión y aplicación pueden llevar tiempo. Es válido avanzar a tu propio ritmo y abordar las funciones cuando se sienta más cómodo.\n",
        "\n",
        "Recuerda que aprender a programar es un proceso continuo, y cada paso que tomes contribuirá a su desarrollo. Las funciones son una habilidad valiosa, y con el tiempo, podrás integrarlas de manera más natural en tus proyectos.\n",
        "\n",
        "¡No dudes en regresar a ellas cuando te sientas listo para explorarlas!\n"
      ],
      "metadata": {
        "id": "Ua71JIf-l0u8"
      }
    },
    {
      "cell_type": "markdown",
      "source": [
        "#Fin"
      ],
      "metadata": {
        "id": "5ukK3gCSVIh9"
      }
    },
    {
      "cell_type": "code",
      "execution_count": null,
      "metadata": {
        "id": "5vrwBFlRTUZz"
      },
      "outputs": [],
      "source": []
    }
  ]
}