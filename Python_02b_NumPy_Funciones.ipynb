{
  "nbformat": 4,
  "nbformat_minor": 0,
  "metadata": {
    "colab": {
      "provenance": [],
      "toc_visible": true,
      "authorship_tag": "ABX9TyNHPZmTLrATy74d5KhyzuX0",
      "include_colab_link": true
    },
    "kernelspec": {
      "name": "python3",
      "display_name": "Python 3"
    },
    "language_info": {
      "name": "python"
    }
  },
  "cells": [
    {
      "cell_type": "markdown",
      "metadata": {
        "id": "view-in-github",
        "colab_type": "text"
      },
      "source": [
        "<a href=\"https://colab.research.google.com/github/sergioGarcia91/Introductorio-Python-3/blob/main/Python_02b_NumPy_Funciones.ipynb\" target=\"_parent\"><img src=\"https://colab.research.google.com/assets/colab-badge.svg\" alt=\"Open In Colab\"/></a>"
      ]
    },
    {
      "cell_type": "markdown",
      "source": [
        "#Python 02a: NumPy - Funciones\n",
        "\n",
        "> *Ser tan rápidos como el más lento,\\\n",
        "y ser tan lentos como el más rápido.*\n",
        "\n",
        "**Autor:** Sergio Andrés García Arias  \n",
        "**Versión 01:** Diciembre 2023"
      ],
      "metadata": {
        "id": "NCIrqKh0Y-q1"
      }
    },
    {
      "cell_type": "markdown",
      "source": [
        "# Introducción\n",
        "\n",
        "NumPy es una biblioteca en Python que proporciona múltiples herramientas para la manipulación de arrays y operaciones matemáticas avanzadas. A continuación, se enumeran algunas de las funciones más destacadas, junto con un enlace a su documentación respectiva, que podrían ser de tu interés:\n",
        "\n",
        "- Creación de Arrays\n",
        "  - `np.array()`: [Crear un array](https://numpy.org/doc/stable/reference/generated/numpy.array.html)\n",
        "  - `np.zeros()`, `np.ones()`: [Arrays de ceros o unos](https://numpy.org/doc/stable/reference/generated/numpy.zeros.html)\n",
        "  - `np.arange()`: [Crear un array con valores espaciados uniformemente en un rango](https://numpy.org/doc/stable/reference/generated/numpy.arange.html)\n",
        "  - `np.linspace()`: [Crear un array con valores espaciados de manera lineal](https://numpy.org/doc/stable/reference/generated/numpy.linspace.html)\n",
        "  - `np.logspace()`: [Crear un array con valores espaciados de manera logarítmica](https://numpy.org/doc/stable/reference/generated/numpy.logspace.html)\n",
        "\n",
        "- Operaciones Matemáticas\n",
        "  - `np.add()`, `np.subtract()`, `np.multiply()`, `np.divide()`, `np.sin()`, `np.cos()`, `np.exp()`: [Operaciones aritméticas entre arrays](https://numpy.org/doc/stable/reference/routines.math.html)\n",
        "  - `np.sum()`, `np.mean()`, `np.max()`, `np.min()`: [Funciones de estadística](https://numpy.org/doc/stable/reference/routines.statistics.html)\n",
        "\n",
        "- Manipulación de Arrays\n",
        "  - `np.reshape()`: [Cambiar la forma de un array](https://numpy.org/doc/stable/reference/generated/numpy.reshape.html)\n",
        "  - `np.concatenate()`: [Concatenar dos o más arrays](https://numpy.org/doc/stable/reference/generated/numpy.concatenate.html)\n",
        "  - `np.transpose()`: [Transponer un array](https://numpy.org/doc/stable/reference/generated/numpy.transpose.html)\n",
        "  - `np.append()`: [Concatenar valores al final de un array](https://numpy.org/doc/stable/reference/generated/numpy.append.html)\n",
        "\n",
        "- Operaciones de Álgebra Lineal\n",
        "  - `np.dot()`: [Producto punto entre dos arrays](https://numpy.org/doc/stable/reference/generated/numpy.dot.html)\n",
        "  - `np.linalg.inv()`: [Inversa de una matriz](https://numpy.org/doc/stable/reference/generated/numpy.linalg.inv.html)\n",
        "  - `np.linalg.det()`: [Determinante de una matriz](https://numpy.org/doc/stable/reference/generated/numpy.linalg.det.html)\n",
        "\n",
        "- Generación de Números Aleatorios\n",
        "  - `np.random.rand()`, `np.random.randn()`: [Generación de números aleatorios](https://numpy.org/doc/stable/reference/random/generated/numpy.random.rand.html)\n",
        "\n",
        "- Funciones para Trabajar con Números Complejos\n",
        "  - `np.real()`, `np.imag()`: [Parte real e imaginaria de un número complejo](https://numpy.org/doc/stable/reference/generated/numpy.real.html)\n"
      ],
      "metadata": {
        "id": "6T98k7SSY-g8"
      }
    },
    {
      "cell_type": "markdown",
      "source": [
        "# Inicio"
      ],
      "metadata": {
        "id": "HCiZ0Zh1ZcWc"
      }
    },
    {
      "cell_type": "code",
      "source": [
        "import numpy as np"
      ],
      "metadata": {
        "id": "joCucvhLZdtW"
      },
      "execution_count": null,
      "outputs": []
    },
    {
      "cell_type": "markdown",
      "source": [
        "Siempre es bueno revisar la documentación de las librerías que se estén empleando. Para crear un array usando `numpy.arange()`, podemos recurrir a dicha [documentación](https://numpy.org/doc/stable/reference/generated/numpy.arange.html).\n",
        "\n",
        "<center><img src='https://github.com/sergioGarcia91/Introductorio-Python-3/blob/main/imagen_NumpyArange.png?raw=true' width=1000 /></center>\n",
        "\n",
        "Algunas librerías ofrecen recomendaciones de otras posibles funciones de interés junto con algunos ejemplos de cómo se usa la función actual de interés.\n",
        "\n",
        "<center><img src='https://github.com/sergioGarcia91/Introductorio-Python-3/blob/main/imagen_NumpyArange_ejemplo.png?raw=true' width=1000 /></center>\n",
        "\n",
        "\n"
      ],
      "metadata": {
        "id": "1ZAwMkdguNPE"
      }
    },
    {
      "cell_type": "markdown",
      "source": [
        "Revisando la documentacion, el uso de la funcion `numpy.arange()` sería de manera general como:\n",
        "\n",
        "```python\n",
        "mi_array_a_crear = np.arange(inicio, fin, pasos)\n",
        "```\n"
      ],
      "metadata": {
        "id": "y2jwpAHTxBEp"
      }
    },
    {
      "cell_type": "code",
      "source": [
        "# Vamos a crear un array con np.arange()\n",
        "array_arange = np.arange(0, 10, 2)\n",
        "# Nos va generar un array del 0 al 10 (sin incluirlo) con paso 2\n",
        "print(\"Array creado con np.arange():\", array_arange)\n",
        "\n",
        "# Y con np.array() vamos a crear otro\n",
        "array_array = np.array([1, 3, 5, 7, 9])  # Lista de números convertida a array\n",
        "print(\"Array creado con np.array():\", array_array)\n"
      ],
      "metadata": {
        "colab": {
          "base_uri": "https://localhost:8080/"
        },
        "id": "YnbQ0py-l-Sz",
        "outputId": "417ae9af-a191-4cb9-8fe4-0ff60fea80aa"
      },
      "execution_count": null,
      "outputs": [
        {
          "output_type": "stream",
          "name": "stdout",
          "text": [
            "Array creado con np.arange(): [0 2 4 6 8]\n",
            "Array creado con np.array(): [1 3 5 7 9]\n"
          ]
        }
      ]
    },
    {
      "cell_type": "code",
      "source": [
        "# Podemos conocer la forma de nuestros arrays con np.shape()\n",
        "print('Forma del array_arange con np.shape(): ', np.shape(array_arange))\n",
        "# O tambien con el atributo .shape\n",
        "print('Forma del array_arange el atributo .shape: ', array_arange.shape)\n",
        "# Ambas salidas nos da (5,) o cinco elementos"
      ],
      "metadata": {
        "colab": {
          "base_uri": "https://localhost:8080/"
        },
        "id": "ZaLD6vdMmyxi",
        "outputId": "949bcff3-5b85-4052-821f-73c28ab4d3d1"
      },
      "execution_count": null,
      "outputs": [
        {
          "output_type": "stream",
          "name": "stdout",
          "text": [
            "Forma del array_arange con np.shape():  (5,)\n",
            "Forma del array_arange el atributo .shape:  (5,)\n"
          ]
        }
      ]
    },
    {
      "cell_type": "code",
      "source": [
        "# Podemos realizar algunas operaciones aritméticas\n",
        "multiplicar = array_arange * 2\n",
        "restar = array_arange - 3\n",
        "suma = array_arange + 4\n",
        "potencia = array_arange ** 2\n",
        "\n",
        "print('Original: ', array_arange)\n",
        "print('Multiplicar: ', multiplicar)\n",
        "print('Restar: ', restar)\n",
        "print('Sumar: ', suma)\n",
        "print('Elevar a una potencia: ', potencia)"
      ],
      "metadata": {
        "colab": {
          "base_uri": "https://localhost:8080/"
        },
        "id": "0NUk8QHXnV0r",
        "outputId": "7c1c0cc7-a170-46ef-d5bc-979f9966f0bd"
      },
      "execution_count": null,
      "outputs": [
        {
          "output_type": "stream",
          "name": "stdout",
          "text": [
            "Original:  [0 2 4 6 8]\n",
            "Multiplicar:  [ 0  4  8 12 16]\n",
            "Restar:  [-3 -1  1  3  5]\n",
            "Sumar:  [ 4  6  8 10 12]\n",
            "Elevar a una potencia:  [ 0  4 16 36 64]\n"
          ]
        }
      ]
    },
    {
      "cell_type": "code",
      "source": [
        "# vamos a reutilizar las variables y a operar entre los dos arrays\n",
        "multiplicar = array_arange * array_array\n",
        "restar = array_arange - array_array\n",
        "suma = array_arange + array_array\n",
        "potencia = array_arange ** array_array\n",
        "\n",
        "print('Original arange: ', array_arange)\n",
        "print('Original array: ', array_array)\n",
        "print('Multiplicar: ', multiplicar)\n",
        "print('Restar: ', restar)\n",
        "print('Sumar: ', suma)\n",
        "print('Elevar a una potencia: ', potencia)"
      ],
      "metadata": {
        "colab": {
          "base_uri": "https://localhost:8080/"
        },
        "id": "u3800x7foTfQ",
        "outputId": "5bdd7f94-509b-494f-9334-46b2171af865"
      },
      "execution_count": null,
      "outputs": [
        {
          "output_type": "stream",
          "name": "stdout",
          "text": [
            "Original arange:  [0 2 4 6 8]\n",
            "Original array:  [1 3 5 7 9]\n",
            "Multiplicar:  [ 0  6 20 42 72]\n",
            "Restar:  [-1 -1 -1 -1 -1]\n",
            "Sumar:  [ 1  5  9 13 17]\n",
            "Elevar a una potencia:  [        0         8      1024    279936 134217728]\n"
          ]
        }
      ]
    },
    {
      "cell_type": "markdown",
      "source": [
        "- Suma de Matrices\n",
        "\n",
        "La suma de dos matrices del mismo tamaño se realiza sumando los elementos en sus correspondientes posiciones.\n",
        "\n",
        "$\n",
        "\\begin{bmatrix}\n",
        "a_{11} & a_{12} \\\\\n",
        "a_{21} & a_{22} \\\\\n",
        "\\end{bmatrix}\n",
        "+\n",
        "\\begin{bmatrix}\n",
        "b_{11} & b_{12} \\\\\n",
        "b_{21} & b_{22} \\\\\n",
        "\\end{bmatrix}\n",
        "=\n",
        "\\begin{bmatrix}\n",
        "a_{11} + b_{11} & a_{12} + b_{12} \\\\\n",
        "a_{21} + b_{21} & a_{22} + b_{22} \\\\\n",
        "\\end{bmatrix}\n",
        "$\n",
        "\n",
        "- Resta de Matrices\n",
        "\n",
        "La resta de dos matrices del mismo tamaño se realiza restando los elementos en sus correspondientes posiciones.\n",
        "\n",
        "$\n",
        "\\begin{bmatrix}\n",
        "a_{11} & a_{12} \\\\\n",
        "a_{21} & a_{22} \\\\\n",
        "\\end{bmatrix}\n",
        "-\n",
        "\\begin{bmatrix}\n",
        "b_{11} & b_{12} \\\\\n",
        "b_{21} & b_{22} \\\\\n",
        "\\end{bmatrix}\n",
        "=\n",
        "\\begin{bmatrix}\n",
        "a_{11} - b_{11} & a_{12} - b_{12} \\\\\n",
        "a_{21} - b_{21} & a_{22} - b_{22} \\\\\n",
        "\\end{bmatrix}\n",
        "$\n",
        "\n",
        "---\n",
        "Pero parece que los resultados de los arrays de NumPy para la multiplicación `*` y la potencia `**` realizan la respectiva operación elemento a elemento. Esto es algo que para la multiplicación matricial no es correcto.\n",
        "\n",
        "En NumPy, al utilizar el operador `*` o `**` en arrays, se realiza la operación elemento a elemento, y no la multiplicación matricial tradicional. Para llevar a cabo la multiplicación matricial en NumPy, es necesario utilizar `np.dot()`.\n",
        "\n"
      ],
      "metadata": {
        "id": "2lXpsWOrpJpX"
      }
    },
    {
      "cell_type": "code",
      "source": [
        "# vamos a multiplicar de manera matricial array_arange con array_array\n",
        "# si recordamos la multiplicación entre matrices debe\n",
        "# conservar las mismas en las columnas de la primera y las filas de la segunda\n",
        "# (m,n) x (n,l)\n",
        "# para ello podemos usar .reshape (5, 1)x(1,5)\n",
        "np.dot(array_arange.reshape(5, 1) , array_array.reshape(1,5))"
      ],
      "metadata": {
        "colab": {
          "base_uri": "https://localhost:8080/"
        },
        "id": "PaNp3AC0q2JN",
        "outputId": "18b2a40a-950d-4a1b-f723-6cade5f816ae"
      },
      "execution_count": null,
      "outputs": [
        {
          "output_type": "execute_result",
          "data": {
            "text/plain": [
              "array([[ 0,  0,  0,  0,  0],\n",
              "       [ 2,  6, 10, 14, 18],\n",
              "       [ 4, 12, 20, 28, 36],\n",
              "       [ 6, 18, 30, 42, 54],\n",
              "       [ 8, 24, 40, 56, 72]])"
            ]
          },
          "metadata": {},
          "execution_count": 17
        }
      ]
    },
    {
      "cell_type": "markdown",
      "source": [
        "$\n",
        "\\begin{bmatrix}\n",
        "0 \\\\\n",
        "2 \\\\\n",
        "4 \\\\\n",
        "6 \\\\\n",
        "8\n",
        "\\end{bmatrix}\n",
        "\\times\n",
        "\\begin{bmatrix}\n",
        "1 & 3 & 5 & 7 & 9\n",
        "\\end{bmatrix}\n",
        "=\n",
        "\\begin{bmatrix}\n",
        "0 \\times 1 & 0 \\times 3 & 0 \\times 5 & 0 \\times 7 & 0 \\times 9 \\\\\n",
        "2 \\times 1 & 2 \\times 3 & 2 \\times 5 & 2 \\times 7 & 2 \\times 9 \\\\\n",
        "4 \\times 1 & 4 \\times 3 & 4 \\times 5 & 4 \\times 7 & 4 \\times 9 \\\\\n",
        "6 \\times 1 & 6 \\times 3 & 6 \\times 5 & 6 \\times 7 & 6 \\times 9 \\\\\n",
        "8 \\times 1 & 8 \\times 3 & 8 \\times 5 & 8 \\times 7 & 8 \\times 9\n",
        "\\end{bmatrix}\n",
        "=\n",
        "\\begin{bmatrix}\n",
        "0 & 0 & 0 & 0 & 0 \\\\\n",
        "2 & 6 & 10 & 14 & 18 \\\\\n",
        "4 & 12 & 20 & 28 & 36 \\\\\n",
        "6 & 18 & 30 & 42 & 54 \\\\\n",
        "8 & 24 & 40 & 56 & 72\n",
        "\\end{bmatrix}\n",
        "$\n"
      ],
      "metadata": {
        "id": "tMF8LZwHtWW5"
      }
    },
    {
      "cell_type": "code",
      "source": [
        "# para ello podemos usar .reshape (1, 5)x(5, 1)\n",
        "np.dot(array_arange.reshape(1, 5) , array_array.reshape(5, 1))"
      ],
      "metadata": {
        "colab": {
          "base_uri": "https://localhost:8080/"
        },
        "id": "HXB9s5K3sX1T",
        "outputId": "40ae2bc5-83cf-41a4-d7ad-0861b97445f7"
      },
      "execution_count": null,
      "outputs": [
        {
          "output_type": "execute_result",
          "data": {
            "text/plain": [
              "array([[140]])"
            ]
          },
          "metadata": {},
          "execution_count": 19
        }
      ]
    },
    {
      "cell_type": "markdown",
      "source": [
        "$\n",
        "\\begin{bmatrix}\n",
        "0 & 2 & 4 & 6 & 8\n",
        "\\end{bmatrix}\n",
        "\\times\n",
        "\\begin{bmatrix}\n",
        "1 \\\\\n",
        "3 \\\\\n",
        "5 \\\\\n",
        "7 \\\\\n",
        "9\n",
        "\\end{bmatrix}\n",
        "=\n",
        "\\begin{bmatrix}\n",
        "(0 \\times 1) + (2 \\times 3) + (4 \\times 5) + (6 \\times 7) + (8 \\times 9)\n",
        "\\end{bmatrix}\n",
        "=\n",
        "\\begin{bmatrix}\n",
        "140\n",
        "\\end{bmatrix}\n",
        "$\n"
      ],
      "metadata": {
        "id": "5msA1_T4ssIc"
      }
    },
    {
      "cell_type": "markdown",
      "source": [
        "# Broadcasting\n",
        "\n",
        "El [Broadcasting](https://numpy.org/doc/stable/user/basics.broadcasting.html) nos permite realizar operaciones entre arrays de diferentes formas y tamaños. NumPy maneja arrays con formas diferentes durante operaciones aritméticas, como hemos podido inferir en nuestro trabajo con vectores. Ahora:\n",
        "\n",
        "- El array más pequeño se `broadcastea` a lo largo del array más grande para que tengan formas compatibles.\n"
      ],
      "metadata": {
        "id": "vNsxxOofZa0V"
      }
    },
    {
      "cell_type": "code",
      "source": [
        "# Crearemos un array con np.linespace\n",
        "# que inicia en 2 y termine en 3\n",
        "# con un total de 6 numeros\n",
        "array_linspace = np.linspace(2, 3, 6)\n",
        "array_linspace # nuestro array con 6 elementos equidistantes"
      ],
      "metadata": {
        "colab": {
          "base_uri": "https://localhost:8080/"
        },
        "id": "lbt3BZ4IZfcd",
        "outputId": "cd5fff9a-19b2-4cea-ffd3-54b605fad436"
      },
      "execution_count": null,
      "outputs": [
        {
          "output_type": "execute_result",
          "data": {
            "text/plain": [
              "array([2. , 2.2, 2.4, 2.6, 2.8, 3. ])"
            ]
          },
          "metadata": {},
          "execution_count": 21
        }
      ]
    },
    {
      "cell_type": "code",
      "source": [
        "array_linspace.shape # verificamos que tenga 6 elementos"
      ],
      "metadata": {
        "colab": {
          "base_uri": "https://localhost:8080/"
        },
        "id": "G05kZk1z05Eu",
        "outputId": "1855f047-ab58-4419-8c58-98738089085f"
      },
      "execution_count": null,
      "outputs": [
        {
          "output_type": "execute_result",
          "data": {
            "text/plain": [
              "(6,)"
            ]
          },
          "metadata": {},
          "execution_count": 22
        }
      ]
    },
    {
      "cell_type": "code",
      "source": [
        "# Ahora vamos a crear una array de solo unos de con 12 elementos\n",
        "# con una forma de 3 filas y 4 columnas\n",
        "array_ones = np.ones( (3, 4) ) #la forma ingresa como una pareja en una tupla\n",
        "array_ones # debe contener solo 1."
      ],
      "metadata": {
        "colab": {
          "base_uri": "https://localhost:8080/"
        },
        "id": "El7TSU5V08-s",
        "outputId": "75da4070-34c2-494e-e1ef-2845e5e484a4"
      },
      "execution_count": null,
      "outputs": [
        {
          "output_type": "execute_result",
          "data": {
            "text/plain": [
              "array([[1., 1., 1., 1.],\n",
              "       [1., 1., 1., 1.],\n",
              "       [1., 1., 1., 1.]])"
            ]
          },
          "metadata": {},
          "execution_count": 23
        }
      ]
    },
    {
      "cell_type": "code",
      "source": [
        "array_ones.shape # verificamos la forma"
      ],
      "metadata": {
        "colab": {
          "base_uri": "https://localhost:8080/"
        },
        "id": "ctT_32ms1UnM",
        "outputId": "7fbdaef2-5339-4a5e-8b36-da34a0cb19c2"
      },
      "execution_count": null,
      "outputs": [
        {
          "output_type": "execute_result",
          "data": {
            "text/plain": [
              "(3, 4)"
            ]
          },
          "metadata": {},
          "execution_count": 24
        }
      ]
    },
    {
      "cell_type": "markdown",
      "source": [
        "Para ejemplificar el broadcasting, lo haremos con el operador `*`, ya que hemos observado que opera al igual que la suma `+` y la resta `-`, elemento a elemento."
      ],
      "metadata": {
        "id": "VFXT5x4J1dYH"
      }
    },
    {
      "cell_type": "code",
      "source": [
        "# procedemos primero convirtiendo a una forma de 3,2\n",
        "# nuestro\n",
        "array_linspace_3x2 = np.reshape(array_linspace, (3,2))\n",
        "print('Shape o forma de array_linspace_3x2: ', array_linspace_3x2.shape)\n",
        "print('Shape o forma de array_ones: ', array_ones.shape)\n",
        "# ahora vamos a multiplicarlo con nuestro array de unos\n",
        "# no lo vamos a guardar en una variable,\n",
        "# solo queremos ver el resultado\n",
        "array_ones * array_linspace_3x2"
      ],
      "metadata": {
        "colab": {
          "base_uri": "https://localhost:8080/",
          "height": 245
        },
        "id": "ZBEFhrUG1a6w",
        "outputId": "7dfe5758-e93b-4dc2-c10a-739d6e42b958"
      },
      "execution_count": null,
      "outputs": [
        {
          "output_type": "stream",
          "name": "stdout",
          "text": [
            "Shape o forma de array_linspace_3x2:  (3, 2)\n",
            "Shape o forma de array_ones:  (3, 4)\n"
          ]
        },
        {
          "output_type": "error",
          "ename": "ValueError",
          "evalue": "ignored",
          "traceback": [
            "\u001b[0;31m---------------------------------------------------------------------------\u001b[0m",
            "\u001b[0;31mValueError\u001b[0m                                Traceback (most recent call last)",
            "\u001b[0;32m<ipython-input-37-64ecd08e2581>\u001b[0m in \u001b[0;36m<cell line: 9>\u001b[0;34m()\u001b[0m\n\u001b[1;32m      7\u001b[0m \u001b[0;31m# no lo vamos a guardar en una variable,\u001b[0m\u001b[0;34m\u001b[0m\u001b[0;34m\u001b[0m\u001b[0m\n\u001b[1;32m      8\u001b[0m \u001b[0;31m# solo queremos ver el resultado\u001b[0m\u001b[0;34m\u001b[0m\u001b[0;34m\u001b[0m\u001b[0m\n\u001b[0;32m----> 9\u001b[0;31m \u001b[0marray_ones\u001b[0m \u001b[0;34m+\u001b[0m \u001b[0marray_linspace_3x2\u001b[0m\u001b[0;34m\u001b[0m\u001b[0;34m\u001b[0m\u001b[0m\n\u001b[0m",
            "\u001b[0;31mValueError\u001b[0m: operands could not be broadcast together with shapes (3,4) (3,2) "
          ]
        }
      ]
    },
    {
      "cell_type": "markdown",
      "source": [
        "Nos surge un error:\n",
        "\n",
        "```python\n",
        "ValueError: operands could not be broadcast together with shapes (3,4) (3,2)\n",
        "```\n",
        "\n",
        "Aunque el broadcasting es una herramienta útil para operar entre arrays, no siempre es tan sencillo. Por esta razón, se recomienda evitar el uso excesivo de esta característica de NumPy.\n"
      ],
      "metadata": {
        "id": "td6Pxrc33eLs"
      }
    },
    {
      "cell_type": "code",
      "source": [
        "# Vamos solo a tomar la primera colunma de array_linspace_3x2\n",
        "# y a serciorarnos que tenga la forma (3,1)\n",
        "\n",
        "columna1_array_linspace_3x2 = array_linspace_3x2[:,0].reshape(3,1)\n",
        "\n",
        "print('Shape o forma de columna1_array_linspace_3x2: ',\n",
        "      columna1_array_linspace_3x2.shape)\n",
        "print(columna1_array_linspace_3x2)\n",
        "\n",
        "print('\\n')\n",
        "print('Shape o forma de array_ones: ', array_ones.shape)\n",
        "print(array_ones)\n",
        "print('\\n')\n",
        "\n",
        "array_ones * columna1_array_linspace_3x2"
      ],
      "metadata": {
        "colab": {
          "base_uri": "https://localhost:8080/"
        },
        "id": "Y9fCYLu23Zte",
        "outputId": "ff117d84-633e-436a-e2a3-b69a4161e1f6"
      },
      "execution_count": null,
      "outputs": [
        {
          "output_type": "stream",
          "name": "stdout",
          "text": [
            "Shape o forma de columna1_array_linspace_3x2:  (3, 1)\n",
            "[[2. ]\n",
            " [2.4]\n",
            " [2.8]]\n",
            "\n",
            "\n",
            "Shape o forma de array_ones:  (3, 4)\n",
            "[[1. 1. 1. 1.]\n",
            " [1. 1. 1. 1.]\n",
            " [1. 1. 1. 1.]]\n",
            "\n",
            "\n"
          ]
        },
        {
          "output_type": "execute_result",
          "data": {
            "text/plain": [
              "array([[2. , 2. , 2. , 2. ],\n",
              "       [2.4, 2.4, 2.4, 2.4],\n",
              "       [2.8, 2.8, 2.8, 2.8]])"
            ]
          },
          "metadata": {},
          "execution_count": 39
        }
      ]
    },
    {
      "cell_type": "code",
      "source": [
        "# Ahora con una fila\n",
        "# solo voy a tomar 4 valores\n",
        "# y me confirmo una forma (1,4)\n",
        "fila_array_linspace = array_linspace[0:4].reshape(1,4)\n",
        "\n",
        "print('Shape o forma de fila_array_linspace: ',\n",
        "      fila_array_linspace.shape)\n",
        "print(fila_array_linspace)\n",
        "\n",
        "print('\\n')\n",
        "print('Shape o forma de array_ones: ', array_ones.shape)\n",
        "print(array_ones)\n",
        "print('\\n')\n",
        "\n",
        "array_ones * fila_array_linspace"
      ],
      "metadata": {
        "colab": {
          "base_uri": "https://localhost:8080/"
        },
        "id": "BiNQl3u84l5p",
        "outputId": "800a83f3-9b59-489e-9e05-023c05954916"
      },
      "execution_count": null,
      "outputs": [
        {
          "output_type": "stream",
          "name": "stdout",
          "text": [
            "Shape o forma de fila_array_linspace:  (1, 4)\n",
            "[[2.  2.2 2.4 2.6]]\n",
            "\n",
            "\n",
            "Shape o forma de array_ones:  (3, 4)\n",
            "[[1. 1. 1. 1.]\n",
            " [1. 1. 1. 1.]\n",
            " [1. 1. 1. 1.]]\n",
            "\n",
            "\n"
          ]
        },
        {
          "output_type": "execute_result",
          "data": {
            "text/plain": [
              "array([[2. , 2.2, 2.4, 2.6],\n",
              "       [2. , 2.2, 2.4, 2.6],\n",
              "       [2. , 2.2, 2.4, 2.6]])"
            ]
          },
          "metadata": {},
          "execution_count": 43
        }
      ]
    },
    {
      "cell_type": "code",
      "source": [
        "# Si tomo solo 2 elementos de array_linspace\n",
        "array_linspace_2elementos = array_linspace[0:2].reshape(1,2)\n",
        "\n",
        "print('Shape o forma de array_linspace_2elementos: ',\n",
        "      array_linspace_2elementos.shape)\n",
        "print(array_linspace_2elementos)\n",
        "\n",
        "print('\\n')\n",
        "print('Shape o forma de array_ones: ', array_ones.shape)\n",
        "print(array_ones)\n",
        "print('\\n')\n",
        "\n",
        "array_ones * array_linspace_2elementos # Deberia salir error"
      ],
      "metadata": {
        "colab": {
          "base_uri": "https://localhost:8080/",
          "height": 384
        },
        "id": "N6dY1gI55Kqb",
        "outputId": "53f57370-6441-404b-9787-588bbef5ed02"
      },
      "execution_count": null,
      "outputs": [
        {
          "output_type": "stream",
          "name": "stdout",
          "text": [
            "Shape o forma de array_linspace_2elementos:  (1, 2)\n",
            "[[2.  2.2]]\n",
            "\n",
            "\n",
            "Shape o forma de array_ones:  (3, 4)\n",
            "[[1. 1. 1. 1.]\n",
            " [1. 1. 1. 1.]\n",
            " [1. 1. 1. 1.]]\n",
            "\n",
            "\n"
          ]
        },
        {
          "output_type": "error",
          "ename": "ValueError",
          "evalue": "ignored",
          "traceback": [
            "\u001b[0;31m---------------------------------------------------------------------------\u001b[0m",
            "\u001b[0;31mValueError\u001b[0m                                Traceback (most recent call last)",
            "\u001b[0;32m<ipython-input-46-20d22df22930>\u001b[0m in \u001b[0;36m<cell line: 13>\u001b[0;34m()\u001b[0m\n\u001b[1;32m     11\u001b[0m \u001b[0mprint\u001b[0m\u001b[0;34m(\u001b[0m\u001b[0;34m'\\n'\u001b[0m\u001b[0;34m)\u001b[0m\u001b[0;34m\u001b[0m\u001b[0;34m\u001b[0m\u001b[0m\n\u001b[1;32m     12\u001b[0m \u001b[0;34m\u001b[0m\u001b[0m\n\u001b[0;32m---> 13\u001b[0;31m \u001b[0marray_ones\u001b[0m \u001b[0;34m*\u001b[0m \u001b[0marray_linspace_2elementos\u001b[0m \u001b[0;31m# Deberia salir error\u001b[0m\u001b[0;34m\u001b[0m\u001b[0;34m\u001b[0m\u001b[0m\n\u001b[0m",
            "\u001b[0;31mValueError\u001b[0m: operands could not be broadcast together with shapes (3,4) (1,2) "
          ]
        }
      ]
    },
    {
      "cell_type": "markdown",
      "source": [
        "Hemos explorado varias características fundamentales de `NumPy`, desde la creación de arrays y matrices hasta operaciones básicas como la suma y resta. También hemos introducido el concepto de broadcasting, que facilita la realización de operaciones entre arrays de diferentes formas.\n",
        "\n",
        "Aunque NumPy ofrece potentes capacidades para el manejo de datos numéricos en Python, es importante tener en cuenta las limitaciones y comprender el uso adecuado de sus funciones para evitar posibles errores. Estas habilidades son fundamentales para cualquier persona que desee trabajar en el análisis de datos, aprendizaje automático u otras disciplinas relacionadas con la ciencia de datos.\n",
        "\n",
        "Una consideración adicional clave es que NumPy sirve como base para numerosas bibliotecas en el ecosistema de Python, lo que significa que muchas de estas bibliotecas heredan y aprovechan sus funcionalidades.\n",
        "\n",
        "Algunas bibliotecas populares son:\n",
        "- [Pandas](https://pandas.pydata.org) para manipulación de datos.\n",
        "- [Matplotlib](https://matplotlib.org) para visualización de información.\n",
        "- [Scikit-learn](https://scikit-learn.org/stable/index.html) para aprendizaje automático."
      ],
      "metadata": {
        "id": "zNVzFamq59Ww"
      }
    },
    {
      "cell_type": "markdown",
      "source": [
        "# Fin"
      ],
      "metadata": {
        "id": "n2CAzsu1ZeH1"
      }
    },
    {
      "cell_type": "code",
      "execution_count": null,
      "metadata": {
        "id": "WKRymgQ0Y6Wt"
      },
      "outputs": [],
      "source": []
    }
  ]
}