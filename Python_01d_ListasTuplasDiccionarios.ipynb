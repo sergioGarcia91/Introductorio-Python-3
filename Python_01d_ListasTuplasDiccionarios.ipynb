{
  "nbformat": 4,
  "nbformat_minor": 0,
  "metadata": {
    "colab": {
      "provenance": [],
      "toc_visible": true,
      "authorship_tag": "ABX9TyPITBsyMT2j0K0U9/RlgLdz",
      "include_colab_link": true
    },
    "kernelspec": {
      "name": "python3",
      "display_name": "Python 3"
    },
    "language_info": {
      "name": "python"
    }
  },
  "cells": [
    {
      "cell_type": "markdown",
      "metadata": {
        "id": "view-in-github",
        "colab_type": "text"
      },
      "source": [
        "<a href=\"https://colab.research.google.com/github/sergioGarcia91/Introductorio-Python-3/blob/main/Python_01d_ListasTuplasDiccionarios.ipynb\" target=\"_parent\"><img src=\"https://colab.research.google.com/assets/colab-badge.svg\" alt=\"Open In Colab\"/></a>"
      ]
    },
    {
      "cell_type": "markdown",
      "source": [
        "#Python 01d: Listas - Tuplas - Diccionarios\n",
        "\n",
        "> *Ser tan rápidos como el más lento,\\\n",
        "y ser tan lentos como el más rápido.*\n",
        "\n",
        "**Autor:** Sergio Andrés García Arias  \n",
        "**Versión 01:** Diciembre 2023"
      ],
      "metadata": {
        "id": "yHuIodk8rl7G"
      }
    },
    {
      "cell_type": "markdown",
      "source": [
        "# Introducción\n",
        "En Python, las listas, tuplas y diccionarios son tipos de datos compuestos que permiten almacenar múltiples valores.\n",
        "\n",
        "- [Listas](https://www.geeksforgeeks.org/python-lists/?ref=shm)\n",
        "\n",
        "**Sintaxis:** Se definen utilizando corchetes `[]`.\n",
        "\n",
        "- [Tuplas](https://www.geeksforgeeks.org/python-tuples/?ref=shm)\n",
        "\n",
        "**Sintaxis:** Se definen utilizando paréntesis `()`.\n",
        "\n",
        "- [Diccionarios](https://www.geeksforgeeks.org/python-dictionary/?ref=shm)\n",
        "\n",
        "**Sintaxis:** Se definen utilizando llaves `{}` y tienen pares clave-valor."
      ],
      "metadata": {
        "id": "mTGzRB0Vtlvb"
      }
    },
    {
      "cell_type": "markdown",
      "source": [
        "#Inicio"
      ],
      "metadata": {
        "id": "G92ESK75tjjF"
      }
    },
    {
      "cell_type": "markdown",
      "source": [
        "# Listas"
      ],
      "metadata": {
        "id": "GbfFOvDfvbps"
      }
    },
    {
      "cell_type": "markdown",
      "source": [
        "Una lista en Python puede contener elementos de cualquier tipo de datos, incluyendo números, cadenas, booleanos, otras listas, entre otros."
      ],
      "metadata": {
        "id": "DYAToedBxbZw"
      }
    },
    {
      "cell_type": "code",
      "source": [
        "['Elemento 01', 2, 'Tres', 'tres', 5.1, True] # Esta es una lista ... pero no esta aun en una variable"
      ],
      "metadata": {
        "colab": {
          "base_uri": "https://localhost:8080/"
        },
        "id": "-0pEawsdtjHF",
        "outputId": "26c08b59-9f15-426f-8dec-e263c1f82465"
      },
      "execution_count": null,
      "outputs": [
        {
          "output_type": "execute_result",
          "data": {
            "text/plain": [
              "['Elemento 01', 2, 'Tres', 'tres', 5.1, True]"
            ]
          },
          "metadata": {},
          "execution_count": 7
        }
      ]
    },
    {
      "cell_type": "code",
      "source": [
        "# Vamos a guardarla en una variable llamada lista01\n",
        "lista01 = ['Elemento 01', 2, 'Tres', 'tres', 5.1, True]"
      ],
      "metadata": {
        "id": "txG7PUgGv-Bp"
      },
      "execution_count": null,
      "outputs": []
    },
    {
      "cell_type": "markdown",
      "source": [
        "Nuestra lista guardad en la variable `lista01` no se ha visualizado aun en pantalla, para ello se puede hacer volviendo a llamar la variable en una celda de código, al final de la celda de código anterior o haciendo uso de la función `print()`."
      ],
      "metadata": {
        "id": "NyLzNYyGwM3w"
      }
    },
    {
      "cell_type": "code",
      "source": [
        "lista01 # Esto imprimirá la lista directamente en la salida"
      ],
      "metadata": {
        "colab": {
          "base_uri": "https://localhost:8080/"
        },
        "id": "d4Il-7z0wrmh",
        "outputId": "97c1b72b-c94c-4e04-a6cb-c4ca0bf6de70"
      },
      "execution_count": null,
      "outputs": [
        {
          "output_type": "execute_result",
          "data": {
            "text/plain": [
              "['Elemento 01', 2, 'Tres', 'tres', 5.1, True]"
            ]
          },
          "metadata": {},
          "execution_count": 9
        }
      ]
    },
    {
      "cell_type": "code",
      "source": [
        "print(lista01) # Esto también imprimirá la lista en la salida"
      ],
      "metadata": {
        "colab": {
          "base_uri": "https://localhost:8080/"
        },
        "id": "FX1b4DbJwJSp",
        "outputId": "9db3caff-c454-4960-d43b-29920e84b2b2"
      },
      "execution_count": null,
      "outputs": [
        {
          "output_type": "stream",
          "name": "stdout",
          "text": [
            "['Elemento 01', 2, 'Tres', 'tres', 5.1, True]\n"
          ]
        }
      ]
    },
    {
      "cell_type": "markdown",
      "source": [
        "Haciendo uso de la función `type()`, podemos verificar el tipo de nuestra variable `lista01`.\n",
        "\n",
        "Ejemplo:\n",
        "```python\n",
        "type(lista01)  # Esto imprimirá 'list'\n",
        "```\n",
        "\n",
        "---\n",
        "Previamente se mencionó que una lista puede contener diferentes tipos de datos. Sin embargo, es recomendable mantener la consistencia en los tipos de datos dentro de una lista para facilitar la legibilidad y el mantenimiento del código. Aunque Python permite mezclar tipos de datos en una lista, puede dificultar el trabajo con ellas a largo plazo.\n",
        "\n"
      ],
      "metadata": {
        "id": "nlMIyOvBw-x6"
      }
    },
    {
      "cell_type": "code",
      "source": [
        "type(lista01) # list"
      ],
      "metadata": {
        "colab": {
          "base_uri": "https://localhost:8080/"
        },
        "id": "RZiIXvt4w8KI",
        "outputId": "0057ea14-a804-434e-c2ff-9bf9e8d0301f"
      },
      "execution_count": null,
      "outputs": [
        {
          "output_type": "execute_result",
          "data": {
            "text/plain": [
              "list"
            ]
          },
          "metadata": {},
          "execution_count": 11
        }
      ]
    },
    {
      "cell_type": "code",
      "source": [
        "#Vamos a crear una lista de listas,\n",
        "#pero todas con el mismo tipo de datos, para simplicidad números.\n",
        "lista_de_listas = [ [1, 2, 3] , [4, 5] , [6] ]\n",
        "\n",
        "print(lista_de_listas)\n",
        "type(lista_de_listas)"
      ],
      "metadata": {
        "colab": {
          "base_uri": "https://localhost:8080/"
        },
        "id": "MezWRAT6zATe",
        "outputId": "3f0d44cd-9188-4915-e948-751aa5d7214c"
      },
      "execution_count": null,
      "outputs": [
        {
          "output_type": "stream",
          "name": "stdout",
          "text": [
            "[[1, 2, 3], [4, 5], [6]]\n"
          ]
        },
        {
          "output_type": "execute_result",
          "data": {
            "text/plain": [
              "list"
            ]
          },
          "metadata": {},
          "execution_count": 12
        }
      ]
    },
    {
      "cell_type": "markdown",
      "source": [
        "Como se puede observar, se ha creado una variable llamada `lista_de_listas`, en la cual se encuentran tres listas, cada una de un tamaño diferente. Si no es claro, vamos a volver a crear esa lista, pero desglosada en diferentes líneas de código.\n",
        "\n",
        "Ejemplo:\n",
        "```python\n",
        "lista01 = [1, 2, 3]  # Vamos a reutilizar esta variable ya definida\n",
        "lista02 = [4, 5]     # Esta variable es nueva\n",
        "lista03 = [6]        # Esta variable también es nueva\n",
        "\n",
        "# Para unirlas, simplemente colocamos las listas ordenadas en una nueva lista\n",
        "lista_de_listas_2 = [lista01, lista02, lista03]\n",
        "lista_de_listas_2  # La misma lista de listas creada de otra manera\n",
        "```"
      ],
      "metadata": {
        "id": "VC-aiyag2dyj"
      }
    },
    {
      "cell_type": "code",
      "source": [
        "lista01 = [1, 2, 3]  # Vamos a reutilizar esta variable ya definida\n",
        "lista02 = [4, 5]     # Esta variable es nueva\n",
        "lista03 = [6]        # Esta variable también es nueva\n",
        "\n",
        "# Para unirlas, simplemente colocamos las listas ordenadas en una nueva lista\n",
        "lista_de_listas_2 = [lista01, lista02, lista03]\n",
        "lista_de_listas_2  # La misma lista de listas creada de otra manera"
      ],
      "metadata": {
        "colab": {
          "base_uri": "https://localhost:8080/"
        },
        "id": "oG3kC1ba2hsC",
        "outputId": "c5206457-5fda-4271-f6e9-03688d1baa98"
      },
      "execution_count": null,
      "outputs": [
        {
          "output_type": "execute_result",
          "data": {
            "text/plain": [
              "[[1, 2, 3], [4, 5], [6]]"
            ]
          },
          "metadata": {},
          "execution_count": 13
        }
      ]
    },
    {
      "cell_type": "code",
      "source": [
        "#Comparemos las dos listas … deberían ser iguales en sus elementos\n",
        "print(lista_de_listas)\n",
        "print(lista_de_listas_2)"
      ],
      "metadata": {
        "colab": {
          "base_uri": "https://localhost:8080/"
        },
        "id": "PqW0UgBJ2kQi",
        "outputId": "d6124666-6851-4202-f84c-197ff5418b6e"
      },
      "execution_count": null,
      "outputs": [
        {
          "output_type": "stream",
          "name": "stdout",
          "text": [
            "[[1, 2, 3], [4, 5], [6]]\n",
            "[[1, 2, 3], [4, 5], [6]]\n"
          ]
        }
      ]
    },
    {
      "cell_type": "markdown",
      "source": [
        "Si queremos incluir un nuevo elemento en la lista, podemos hacer uso de `.append()`. Este método se coloca inmediatamente después de nuestra lista de interés, y entre paréntesis se especifica el nuevo elemento que se incluirá. El nuevo elemento se agrega al final de la lista.\n",
        "\n",
        "Ejemplo:\n",
        "```python\n",
        "lista_de_listas_2.append(7)\n",
        "print(lista_de_listas)\n",
        "print(lista_de_listas_2)\n",
        "```\n",
        "\n",
        "Más información de [.append()](https://www.geeksforgeeks.org/python-list-append-method/?ref=header_search) y de [listas](https://docs.python.org/es/3/tutorial/datastructures.html).\n",
        "\n"
      ],
      "metadata": {
        "id": "Q03OTLZr2jxy"
      }
    },
    {
      "cell_type": "code",
      "source": [
        "lista_de_listas_2.append(7)\n",
        "print(lista_de_listas)\n",
        "print(lista_de_listas_2)"
      ],
      "metadata": {
        "colab": {
          "base_uri": "https://localhost:8080/"
        },
        "id": "c1JyRbFu3orp",
        "outputId": "a4dced33-72ec-4eb6-bcde-2f445a3c32bf"
      },
      "execution_count": null,
      "outputs": [
        {
          "output_type": "stream",
          "name": "stdout",
          "text": [
            "[[1, 2, 3], [4, 5], [6]]\n",
            "[[1, 2, 3], [4, 5], [6], 7]\n"
          ]
        }
      ]
    },
    {
      "cell_type": "markdown",
      "source": [
        "# Tuplas"
      ],
      "metadata": {
        "id": "b11QAh1_vdci"
      }
    },
    {
      "cell_type": "markdown",
      "source": [
        "Una tupla en Python es una secuencia ordenada e inmutable de elementos. Algo similar a las listas, más adelante veremos sus diferencias. Vamos a proceder similar a lo visto en las listas."
      ],
      "metadata": {
        "id": "wirvGFe35JNI"
      }
    },
    {
      "cell_type": "code",
      "source": [
        "('Elemento 01', 2, 'Tres', 'tres', 5.1, True) # Esta es una tupla ... pero no esta aun en una variable"
      ],
      "metadata": {
        "colab": {
          "base_uri": "https://localhost:8080/"
        },
        "id": "owuBf-GuvfAp",
        "outputId": "e181f986-592b-4940-b002-339c58dcb8c9"
      },
      "execution_count": null,
      "outputs": [
        {
          "output_type": "execute_result",
          "data": {
            "text/plain": [
              "('Elemento 01', 2, 'Tres', 'tres', 5.1, True)"
            ]
          },
          "metadata": {},
          "execution_count": 17
        }
      ]
    },
    {
      "cell_type": "code",
      "source": [
        "# Vamos a guardarla en una variable llamada tupla01\n",
        "tupla01 = ('Elemento 01', 2, 'Tres', 'tres', 5.1, True)\n",
        "tupla01"
      ],
      "metadata": {
        "colab": {
          "base_uri": "https://localhost:8080/"
        },
        "id": "7ZYQiYpP5t_X",
        "outputId": "c4b45439-3dac-4e54-b6ed-81207b2a34d8"
      },
      "execution_count": null,
      "outputs": [
        {
          "output_type": "execute_result",
          "data": {
            "text/plain": [
              "('Elemento 01', 2, 'Tres', 'tres', 5.1, True)"
            ]
          },
          "metadata": {},
          "execution_count": 18
        }
      ]
    },
    {
      "cell_type": "code",
      "source": [
        "type(tupla01) # tuple"
      ],
      "metadata": {
        "colab": {
          "base_uri": "https://localhost:8080/"
        },
        "id": "GW760g_H8E8z",
        "outputId": "6988df29-4d83-4e24-c7a9-483e5405e01c"
      },
      "execution_count": null,
      "outputs": [
        {
          "output_type": "execute_result",
          "data": {
            "text/plain": [
              "tuple"
            ]
          },
          "metadata": {},
          "execution_count": 19
        }
      ]
    },
    {
      "cell_type": "code",
      "source": [
        "tupla_de_tuplas = ( (1, 2, 3) , (4, 5) , (6) )\n",
        "\n",
        "print(tupla_de_tuplas)\n",
        "type(tupla_de_tuplas)"
      ],
      "metadata": {
        "colab": {
          "base_uri": "https://localhost:8080/"
        },
        "id": "FbwctfG38Pq8",
        "outputId": "111bd771-caf0-4baf-c956-c9151d084469"
      },
      "execution_count": null,
      "outputs": [
        {
          "output_type": "stream",
          "name": "stdout",
          "text": [
            "((1, 2, 3), (4, 5), 6)\n"
          ]
        },
        {
          "output_type": "execute_result",
          "data": {
            "text/plain": [
              "tuple"
            ]
          },
          "metadata": {},
          "execution_count": 20
        }
      ]
    },
    {
      "cell_type": "code",
      "source": [
        "tupla01 = (1, 2, 3)\n",
        "tupla02 = (4, 5)\n",
        "tupla03 = (6)\n",
        "\n",
        "# Las unimos\n",
        "tupla_de_tuplas_2 = (tupla01, tupla02, tupla03)\n",
        "tupla_de_tuplas_2"
      ],
      "metadata": {
        "colab": {
          "base_uri": "https://localhost:8080/"
        },
        "id": "ZoHmzpkj8aW0",
        "outputId": "04424519-a0c2-4435-aa1c-12111acc55a5"
      },
      "execution_count": null,
      "outputs": [
        {
          "output_type": "execute_result",
          "data": {
            "text/plain": [
              "((1, 2, 3), (4, 5), 6)"
            ]
          },
          "metadata": {},
          "execution_count": 21
        }
      ]
    },
    {
      "cell_type": "code",
      "source": [
        "print(tupla_de_tuplas)\n",
        "print(tupla_de_tuplas_2)"
      ],
      "metadata": {
        "colab": {
          "base_uri": "https://localhost:8080/"
        },
        "id": "YGi0xi-K8wrE",
        "outputId": "8eac5212-79b0-4d5e-8ceb-a4a8a4847742"
      },
      "execution_count": null,
      "outputs": [
        {
          "output_type": "stream",
          "name": "stdout",
          "text": [
            "((1, 2, 3), (4, 5), 6)\n",
            "((1, 2, 3), (4, 5), 6)\n"
          ]
        }
      ]
    },
    {
      "cell_type": "code",
      "source": [
        "tupla_de_tuplas_2.append(7)\n",
        "print(tupla_de_tuplas)\n",
        "print(tupla_de_tuplas_2)"
      ],
      "metadata": {
        "colab": {
          "base_uri": "https://localhost:8080/",
          "height": 210
        },
        "id": "e8Vpn1Ik83Ob",
        "outputId": "427d1c39-f53a-4e9b-95de-5ed80a4d4452"
      },
      "execution_count": null,
      "outputs": [
        {
          "output_type": "error",
          "ename": "AttributeError",
          "evalue": "ignored",
          "traceback": [
            "\u001b[0;31m---------------------------------------------------------------------------\u001b[0m",
            "\u001b[0;31mAttributeError\u001b[0m                            Traceback (most recent call last)",
            "\u001b[0;32m<ipython-input-23-febe5856e3c9>\u001b[0m in \u001b[0;36m<cell line: 1>\u001b[0;34m()\u001b[0m\n\u001b[0;32m----> 1\u001b[0;31m \u001b[0mtupla_de_tuplas_2\u001b[0m\u001b[0;34m.\u001b[0m\u001b[0mappend\u001b[0m\u001b[0;34m(\u001b[0m\u001b[0;36m7\u001b[0m\u001b[0;34m)\u001b[0m\u001b[0;34m\u001b[0m\u001b[0;34m\u001b[0m\u001b[0m\n\u001b[0m\u001b[1;32m      2\u001b[0m \u001b[0mprint\u001b[0m\u001b[0;34m(\u001b[0m\u001b[0mtupla_de_tuplas\u001b[0m\u001b[0;34m)\u001b[0m\u001b[0;34m\u001b[0m\u001b[0;34m\u001b[0m\u001b[0m\n\u001b[1;32m      3\u001b[0m \u001b[0mprint\u001b[0m\u001b[0;34m(\u001b[0m\u001b[0mtupla_de_tuplas_2\u001b[0m\u001b[0;34m)\u001b[0m\u001b[0;34m\u001b[0m\u001b[0;34m\u001b[0m\u001b[0m\n",
            "\u001b[0;31mAttributeError\u001b[0m: 'tuple' object has no attribute 'append'"
          ]
        }
      ]
    },
    {
      "cell_type": "markdown",
      "source": [
        "Acaba de salir un error. La función `.append()` no se puede usar con las tupla. La razón es que las tuplas son inmutables en Python, lo que significa que no se pueden modificar después de su creación. La función `.append()` está diseñada para agregar elementos a listas, que son estructuras de datos mutables.\n",
        "\n",
        "Para incluir nuevos elementos a una tupla podemos usar el operod `+`.\n",
        "\n",
        "Ejemplo:\n",
        "```python\n",
        "tupla_de_tuplas_2 + 7\n",
        "print(tupla_de_tuplas)\n",
        "print(tupla_de_tuplas_2)\n",
        "```\n",
        "\n",
        "Más [información](https://sparkbyexamples.com/python/append-element-to-a-tuple-in-python/#:~:text=To%20append%20a%20single%20element,will%20get%20you%20an%20error.)."
      ],
      "metadata": {
        "id": "FX8Uv-Bz5tdX"
      }
    },
    {
      "cell_type": "code",
      "source": [
        "tupla_de_tuplas_2 + 7\n",
        "print(tupla_de_tuplas)\n",
        "print(tupla_de_tuplas_2)"
      ],
      "metadata": {
        "colab": {
          "base_uri": "https://localhost:8080/",
          "height": 210
        },
        "id": "E4giezd6-OfT",
        "outputId": "f88d5e93-c27a-472b-b8d1-dbd9dc6d7887"
      },
      "execution_count": null,
      "outputs": [
        {
          "output_type": "error",
          "ename": "TypeError",
          "evalue": "ignored",
          "traceback": [
            "\u001b[0;31m---------------------------------------------------------------------------\u001b[0m",
            "\u001b[0;31mTypeError\u001b[0m                                 Traceback (most recent call last)",
            "\u001b[0;32m<ipython-input-26-96c3d096883b>\u001b[0m in \u001b[0;36m<cell line: 1>\u001b[0;34m()\u001b[0m\n\u001b[0;32m----> 1\u001b[0;31m \u001b[0mtupla_de_tuplas_2\u001b[0m \u001b[0;34m+\u001b[0m \u001b[0;36m7\u001b[0m\u001b[0;34m\u001b[0m\u001b[0;34m\u001b[0m\u001b[0m\n\u001b[0m\u001b[1;32m      2\u001b[0m \u001b[0mprint\u001b[0m\u001b[0;34m(\u001b[0m\u001b[0mtupla_de_tuplas\u001b[0m\u001b[0;34m)\u001b[0m\u001b[0;34m\u001b[0m\u001b[0;34m\u001b[0m\u001b[0m\n\u001b[1;32m      3\u001b[0m \u001b[0mprint\u001b[0m\u001b[0;34m(\u001b[0m\u001b[0mtupla_de_tuplas_2\u001b[0m\u001b[0;34m)\u001b[0m\u001b[0;34m\u001b[0m\u001b[0;34m\u001b[0m\u001b[0m\n",
            "\u001b[0;31mTypeError\u001b[0m: can only concatenate tuple (not \"int\") to tuple"
          ]
        }
      ]
    },
    {
      "cell_type": "markdown",
      "source": [
        "Pero no sale el error:\n",
        "```python\n",
        "TypeError: can only concatenate tuple (not \"int\") to tuple\n",
        "```\n",
        "El cual nos dice que solo se pueden concatenar o unir tuplas a una tupla. Por lo que solo es necesario ajustar el valor a incluir como tupla.\n"
      ],
      "metadata": {
        "id": "uzmL2u5u-r0i"
      }
    },
    {
      "cell_type": "code",
      "source": [
        "tupla_de_tuplas_2 + (7,) # la , se incluye para garantizar que no genere error"
      ],
      "metadata": {
        "colab": {
          "base_uri": "https://localhost:8080/"
        },
        "id": "MuO4iRJY_FZo",
        "outputId": "ad5b7345-0bd6-4cf5-e7d2-6854223d3425"
      },
      "execution_count": null,
      "outputs": [
        {
          "output_type": "execute_result",
          "data": {
            "text/plain": [
              "((1, 2, 3), (4, 5), 6, 7)"
            ]
          },
          "metadata": {},
          "execution_count": 30
        }
      ]
    },
    {
      "cell_type": "code",
      "source": [
        "print(tupla_de_tuplas)\n",
        "print(tupla_de_tuplas_2)"
      ],
      "metadata": {
        "colab": {
          "base_uri": "https://localhost:8080/"
        },
        "id": "majnHTJX_RHy",
        "outputId": "3d8a2d2c-7e6d-448c-f0c7-5c4ab3eb6b60"
      },
      "execution_count": null,
      "outputs": [
        {
          "output_type": "stream",
          "name": "stdout",
          "text": [
            "((1, 2, 3), (4, 5), 6)\n",
            "((1, 2, 3), (4, 5), 6)\n"
          ]
        }
      ]
    },
    {
      "cell_type": "markdown",
      "source": [
        "Pero si volvemos a revisar ambas variables vemos que ` tupla_de_tuplas_2` no ha cambiado y no aparece este nuevo elemento. Esto se debe, y véamelo de una manera sencilla, a que debemos \"guardar\" ese cambio, por lo que se debe sobrescribir ese cambio en la misma variable.\n",
        "\n",
        "Ejemplo:\n",
        "```python\n",
        "tupla_de_tuplas_2  = tupla_de_tuplas_2 + (7,)\n",
        "print(tupla_de_tuplas)\n",
        "print(tupla_de_tuplas_2)\n",
        "```\n"
      ],
      "metadata": {
        "id": "i8CHj63y_v61"
      }
    },
    {
      "cell_type": "code",
      "source": [
        "tupla_de_tuplas_2  = tupla_de_tuplas_2 + (7,)\n",
        "print(tupla_de_tuplas)\n",
        "print(tupla_de_tuplas_2) # ahora si debe aparecer el 7"
      ],
      "metadata": {
        "colab": {
          "base_uri": "https://localhost:8080/"
        },
        "id": "X7Vuzxio_4Nf",
        "outputId": "94927304-d3ea-447e-c51f-3f76fec67572"
      },
      "execution_count": null,
      "outputs": [
        {
          "output_type": "stream",
          "name": "stdout",
          "text": [
            "((1, 2, 3), (4, 5), 6)\n",
            "((1, 2, 3), (4, 5), 6, 7)\n"
          ]
        }
      ]
    },
    {
      "cell_type": "markdown",
      "source": [
        "Tanto en la definición simple de tuplas y listas se mencionó que estas pueden tener cualquier tipo de variables, por lo que pueden se pueden mezclar.\n",
        "\n",
        "Ejemplo:\n",
        "```python\n",
        "mezcla_tipo_lista = [lista01, tupla01, lista02, tupla03, 1, 2.1, True]\n",
        "mezcla_tipo_tupla = (tupla01, lista02, lista03, 4.1, 5, False)\n",
        "\n",
        "print('La variable tipo lista con una mezcla de elementos tiene:')\n",
        "print(mezcla_tipo_lista)\n",
        "print(type(mezcla_tipo_lista))\n",
        "print('\\n') # \\n ... este comando hace un salto de línea en textos.\n",
        "print('La variable tipo lista con una mezcla de elementos tiene:')\n",
        "print(mezcla_tipo_tupla)\n",
        "print(type(mezcla_tipo_tupla))\n",
        "```"
      ],
      "metadata": {
        "id": "K9g9NfSqBJf-"
      }
    },
    {
      "cell_type": "code",
      "source": [
        "mezcla_tipo_lista = [lista01, tupla01, lista02, tupla03, 1, 2.1, True]\n",
        "mezcla_tipo_tupla = (tupla01, lista02, lista03, 4.1, 5, False)\n",
        "\n",
        "print('La variable tipo lista con una mezcla de elementos tiene:')\n",
        "print(mezcla_tipo_lista)\n",
        "print(type(mezcla_tipo_lista))\n",
        "print('\\n') # \\n ... este comando hace un salto de línea en textos.\n",
        "print('La variable tipo lista con una mezcla de elementos tiene:')\n",
        "print(mezcla_tipo_tupla)\n",
        "print(type(mezcla_tipo_tupla))\n"
      ],
      "metadata": {
        "colab": {
          "base_uri": "https://localhost:8080/"
        },
        "id": "KO7Efaf6AZd0",
        "outputId": "6a7a2180-710f-4210-d9fa-07856424e68d"
      },
      "execution_count": null,
      "outputs": [
        {
          "output_type": "stream",
          "name": "stdout",
          "text": [
            "La variable tipo lista con una mezcla de elementos tiene:\n",
            "[[1, 2, 3], (1, 2, 3), [4, 5], 6, 1, 2.1, True]\n",
            "<class 'list'>\n",
            "\n",
            "\n",
            "La variable tipo lista con una mezcla de elementos tiene:\n",
            "((1, 2, 3), [4, 5], [6], 4.1, 5, False)\n",
            "<class 'tuple'>\n"
          ]
        }
      ]
    },
    {
      "cell_type": "markdown",
      "source": [
        "La función `len()` en Python se utiliza para obtener la longitud o cantidad de elementos en una secuencia, ya sea una lista, tupla, cadena de texto, etc. Puedes aplicar `len()` de la siguiente manera:\n",
        "\n",
        "```python\n",
        "longitud_lista = len(lista01)\n",
        "longitud_tupla = len(mezcla_tipo_tupla)\n",
        "\n",
        "print(\"Longitud de lista01:\", longitud_lista)\n",
        "print(\"Longitud de mezcla_tipo_tupla:\", longitud_tupla)\n",
        "```\n",
        "\n",
        "Más información de [len()](https://www.geeksforgeeks.org/python-string-length-len/?ref=header_search)"
      ],
      "metadata": {
        "id": "384t9QdTBUon"
      }
    },
    {
      "cell_type": "code",
      "source": [
        "longitud_lista = len(lista01)\n",
        "longitud_tupla = len(mezcla_tipo_tupla)\n",
        "\n",
        "print(\"Longitud de lista01:\", longitud_lista)\n",
        "#[1, 2, 3]\n",
        "print(\"Longitud de mezcla_tipo_tupla:\", longitud_tupla)\n",
        "#((1, 2, 3), [4, 5], [6], 4.1, 5, False)"
      ],
      "metadata": {
        "colab": {
          "base_uri": "https://localhost:8080/"
        },
        "id": "j0FJwTlVCHSF",
        "outputId": "d1d6d827-293d-41a5-d69d-c5e4afdc2a0c"
      },
      "execution_count": null,
      "outputs": [
        {
          "output_type": "stream",
          "name": "stdout",
          "text": [
            "Longitud de lista01: 3\n",
            "Longitud de mezcla_tipo_tupla: 6\n"
          ]
        }
      ]
    },
    {
      "cell_type": "markdown",
      "source": [
        "Es fácil entender que la longitud de `lista01` sea de 3 elementos, porque son `1, 2, 3`. Pero para `mezcla_tipo_tupla` la longitud es de 6, algo que no es tan claro ya que se ven muchos más. Los que está en esta variable es:\n",
        "\n",
        "```python\n",
        "(1, 2, 3), [4, 5], [6], 4.1, 5, False\n",
        "```\n",
        "\n",
        "Si recordamos, se ha mencionado que la `,` nos sirve para separar, por lo que si tómanos ese criterio:\n",
        "\n",
        "```python\n",
        "# se incrementando la cantidad de espacios para ver mas clara la separación\n",
        "(1, 2, 3)    ,    [4, 5]    ,    [6]    ,    4.1    ,    5    ,    False\n",
        "#ele1       ,    ele2      ,    ele3   ,   ele4    ,  ele5   ,  ele6\n",
        "#ya es mas claro los 6 elementos que lo componen?\n",
        "```\n",
        "---\n",
        "Mas adelante al hablar de Indexing y Slicing puede que sea mas claro de entender.\n"
      ],
      "metadata": {
        "id": "N7fafMVtEK0t"
      }
    },
    {
      "cell_type": "markdown",
      "source": [
        "Otras dos funciones de interés son `list()` y `tuple()`, las cuales permiten convertir una variable a tipo lista o tupla, respectivamente.\n",
        "\n",
        "```python\n",
        "# Ejemplo utilizando list()\n",
        "mi_tupla = (1, 2, 3, 4, 5)\n",
        "convertida_a_lista = list(mi_tupla)\n",
        "print(\"Tupla original:\", mi_tupla)\n",
        "print(\"Convertida a lista:\", convertida_a_lista)\n",
        "\n",
        "# Ejemplo utilizando tuple()\n",
        "mi_lista = [10, 20, 30, 40, 50]\n",
        "convertida_a_tupla = tuple(mi_lista)\n",
        "print(\"Lista original:\", mi_lista)\n",
        "print(\"Convertida a tupla:\", convertida_a_tupla)\n",
        "```"
      ],
      "metadata": {
        "id": "E2Kqhn-WJtnF"
      }
    },
    {
      "cell_type": "code",
      "source": [
        "# Ejemplo utilizando list()\n",
        "mi_tupla = (1, 2, 3, 4, 5)\n",
        "convertida_a_lista = list(mi_tupla)\n",
        "print(\"Tupla original:\", mi_tupla)\n",
        "print(\"Convertida a lista:\", convertida_a_lista)"
      ],
      "metadata": {
        "colab": {
          "base_uri": "https://localhost:8080/"
        },
        "id": "2hvHjTzDJxbe",
        "outputId": "a97f2aa2-d326-4683-bf77-133947b5c629"
      },
      "execution_count": null,
      "outputs": [
        {
          "output_type": "stream",
          "name": "stdout",
          "text": [
            "Tupla original: (1, 2, 3, 4, 5)\n",
            "Convertida a lista: [1, 2, 3, 4, 5]\n"
          ]
        }
      ]
    },
    {
      "cell_type": "code",
      "source": [
        "# Ejemplo utilizando tuple()\n",
        "mi_lista = [10, 20, 30, 40, 50]\n",
        "convertida_a_tupla = tuple(mi_lista)\n",
        "print(\"Lista original:\", mi_lista)\n",
        "print(\"Convertida a tupla:\", convertida_a_tupla)"
      ],
      "metadata": {
        "colab": {
          "base_uri": "https://localhost:8080/"
        },
        "id": "Mlr4vwiSJ0DV",
        "outputId": "6e00d749-c1c5-44ea-f0e2-da2236919d1d"
      },
      "execution_count": null,
      "outputs": [
        {
          "output_type": "stream",
          "name": "stdout",
          "text": [
            "Lista original: [10, 20, 30, 40, 50]\n",
            "Convertida a tupla: (10, 20, 30, 40, 50)\n"
          ]
        }
      ]
    },
    {
      "cell_type": "markdown",
      "source": [
        "# Diccionarios"
      ],
      "metadata": {
        "id": "XAuDTdLGvf-S"
      }
    },
    {
      "cell_type": "markdown",
      "source": [
        "Los diccionarios en Python son una estructura de datos que permite almacenar pares `clave:valor`, o para una mejor comparación `palabra:significado`. Cada `valor` almacenado en un diccionario está asociado con una `clave` única que sirve como identificador.\n",
        "\n",
        "Ejemplo:\n",
        "```python\n",
        "diccionario_01 = {'palabra': 'significado', 'clave':'valor', 'número': 1}\n",
        "```"
      ],
      "metadata": {
        "id": "2NZj9hWuKhCU"
      }
    },
    {
      "cell_type": "code",
      "source": [
        "diccionario_01 = {'palabra': 'significado', 'clave':'valor', 'número': 1}\n",
        "diccionario_01"
      ],
      "metadata": {
        "colab": {
          "base_uri": "https://localhost:8080/"
        },
        "id": "y4SrbQu2-vyx",
        "outputId": "c735f5b3-c455-424b-f316-6cd3bea7e231"
      },
      "execution_count": null,
      "outputs": [
        {
          "output_type": "execute_result",
          "data": {
            "text/plain": [
              "{'palabra': 'significado', 'clave': 'valor', 'número': 1}"
            ]
          },
          "metadata": {},
          "execution_count": 43
        }
      ]
    },
    {
      "cell_type": "code",
      "source": [
        "type(diccionario_01)"
      ],
      "metadata": {
        "colab": {
          "base_uri": "https://localhost:8080/"
        },
        "id": "cWGFHhybvhar",
        "outputId": "962b1184-3fe3-4949-8144-43f615e9448f"
      },
      "execution_count": null,
      "outputs": [
        {
          "output_type": "execute_result",
          "data": {
            "text/plain": [
              "dict"
            ]
          },
          "metadata": {},
          "execution_count": 44
        }
      ]
    },
    {
      "cell_type": "code",
      "source": [
        "#Para este tipo de estructuras es útil trabajar de manera tabulada\n",
        "#o diferenciando los elementos en diferentes líneas de código.\n",
        "diccionario_02 = {\n",
        "    1 : 'uno', # la clave es 1 y el valor el texto 'uno'\n",
        "    'dos' : 2, # la clave es '2' y el valor el numero 2\n",
        "    'lista 01': lista01, # la clave es el texto 'lista 01' y el valor la variable lista01\n",
        "    'tupla 03': tupla03 # la clave es el texto 'tupla 03' y el valor la variable tupla03\n",
        "}\n",
        "diccionario_02"
      ],
      "metadata": {
        "colab": {
          "base_uri": "https://localhost:8080/"
        },
        "id": "uEpTc-b-LfQ7",
        "outputId": "4f3847a4-13b2-4ab1-f426-901cfd633250"
      },
      "execution_count": null,
      "outputs": [
        {
          "output_type": "execute_result",
          "data": {
            "text/plain": [
              "{1: 'uno', 'dos': 2, 'lista 01': [1, 2, 3], 'tupla 03': 6}"
            ]
          },
          "metadata": {},
          "execution_count": 45
        }
      ]
    },
    {
      "cell_type": "code",
      "source": [
        "#También podemos tener un diccionario con diccionarios\n",
        "diccionario_con_diccionarios = {\n",
        "    'dicc. 01': diccionario_01,\n",
        "    'dicc. 02': diccionario_02\n",
        "}"
      ],
      "metadata": {
        "id": "qRDsX6k2MKIi"
      },
      "execution_count": null,
      "outputs": []
    },
    {
      "cell_type": "code",
      "source": [
        "diccionario_con_diccionarios"
      ],
      "metadata": {
        "colab": {
          "base_uri": "https://localhost:8080/"
        },
        "id": "XEC17ZNzMbdS",
        "outputId": "c3dea65d-b7b8-4efd-b95c-a84e28db78a0"
      },
      "execution_count": null,
      "outputs": [
        {
          "output_type": "execute_result",
          "data": {
            "text/plain": [
              "{'dicc. 01': {'palabra': 'significado', 'clave': 'valor', 'número': 1},\n",
              " 'dicc. 02': {1: 'uno', 'dos': 2, 'lista 01': [1, 2, 3], 'tupla 03': 6}}"
            ]
          },
          "metadata": {},
          "execution_count": 47
        }
      ]
    },
    {
      "cell_type": "code",
      "source": [
        "type(diccionario_con_diccionarios)"
      ],
      "metadata": {
        "colab": {
          "base_uri": "https://localhost:8080/"
        },
        "id": "AaGeIFJ6Mcaa",
        "outputId": "0b9d1104-a21a-4915-a693-318f614710e2"
      },
      "execution_count": null,
      "outputs": [
        {
          "output_type": "execute_result",
          "data": {
            "text/plain": [
              "dict"
            ]
          },
          "metadata": {},
          "execution_count": 49
        }
      ]
    },
    {
      "cell_type": "markdown",
      "source": [
        "Es posible que trabajar con diccionarios pueda resultar un tanto más complicado al principio, especialmente para aquellos que están iniciando en la programación. Sin embargo, es fundamental comprender la estructura de los diccionarios y reconocer las posibilidades que ofrecen para almacenar de manera organizada múltiples variables, texto, objetos y otros elementos.\n",
        "\n",
        "---\n",
        "Aunque inicialmente pueda parecer desafiante, la comprensión de esta herramienta proporciona un beneficio significativo en la gestión y organización de información en Python."
      ],
      "metadata": {
        "id": "CK4KOzYJMJtE"
      }
    },
    {
      "cell_type": "markdown",
      "source": [
        "Para incluir un nuevo elemento en un diccionario, es algo relativamente más fácil que lo visto anteriormente. Solo basta con especificar la nueva clave y el nuevo valor.\n",
        "\n",
        "Ejemplo:\n",
        "```python\n",
        "diccionario_con_diccionarios['nueva clave'] = 31416  # el nuevo valor\n",
        "```\n",
        "\n"
      ],
      "metadata": {
        "id": "gXJXExmnNhSR"
      }
    },
    {
      "cell_type": "code",
      "source": [
        "diccionario_con_diccionarios['nueva clave'] = 31416  # el nuevo valor"
      ],
      "metadata": {
        "id": "sFvxNCGjOa8H"
      },
      "execution_count": null,
      "outputs": []
    },
    {
      "cell_type": "code",
      "source": [
        "print(diccionario_con_diccionarios)\n",
        "#la salida puede ser algo mas extensa, por lo que use la barra\n",
        "#de desplazamiento lateral para verificar el nuevo elemento"
      ],
      "metadata": {
        "colab": {
          "base_uri": "https://localhost:8080/"
        },
        "id": "h3A1GoTlOcdf",
        "outputId": "4dfafb55-107f-4d9e-c95e-2c1771cedabc"
      },
      "execution_count": null,
      "outputs": [
        {
          "output_type": "stream",
          "name": "stdout",
          "text": [
            "{'dicc. 01': {'palabra': 'significado', 'clave': 'valor', 'número': 1}, 'dicc. 02': {1: 'uno', 'dos': 2, 'lista 01': [1, 2, 3], 'tupla 03': 6}, 'nueva clave': 31416}\n"
          ]
        }
      ]
    },
    {
      "cell_type": "markdown",
      "source": [
        "Mas información de [diccionarios](https://www.guru99.com/python-dictionary-append.html)"
      ],
      "metadata": {
        "id": "X4x7LY56O9XS"
      }
    },
    {
      "cell_type": "markdown",
      "source": [
        "Así como estan las funciones `list()` y `tuple()` para generar listas o tuplas, esta `dict()` para generar diccionarios. No se va profundizar mucho en esta funcion, solo el siguiente ejemplo:\n",
        "\n",
        "```python\n",
        "# Crear un diccionario utilizando dict()\n",
        "nuevo_dict = dict(nombre='Pepito', apellido='Perez', edad=25, ciudad='Colombia')\n",
        "\n",
        "# Mostrar el diccionario resultante\n",
        "print(nuevo_dict)\n",
        "```"
      ],
      "metadata": {
        "id": "vV8DFQNePXy_"
      }
    },
    {
      "cell_type": "code",
      "source": [
        "# Crear un diccionario utilizando dict()\n",
        "nuevo_dict = dict(nombre='Pepito', apellido='Perez', edad=25, ciudad='Colombia')\n",
        "\n",
        "# Mostrar el diccionario resultante\n",
        "print(nuevo_dict)"
      ],
      "metadata": {
        "colab": {
          "base_uri": "https://localhost:8080/"
        },
        "id": "JejAybuTPXXG",
        "outputId": "dd97a974-5f31-4dcb-c8a1-a3995aea881a"
      },
      "execution_count": null,
      "outputs": [
        {
          "output_type": "stream",
          "name": "stdout",
          "text": [
            "{'nombre': 'Pepito', 'apellido': 'Perez', 'edad': 25, 'ciudad': 'Colombia'}\n"
          ]
        }
      ]
    },
    {
      "cell_type": "markdown",
      "source": [
        "---\n",
        "Características de las Listas:\n",
        "- Pueden contener elementos de diferentes tipos.\n",
        "- Son mutables, es decir, los elementos pueden cambiar después de la creación.\n",
        "- Se pueden modificar, agregar y eliminar elementos.\n",
        "\n",
        "---\n",
        "Características de las Tuplas:\n",
        "- Pueden contener elementos de diferentes tipos.\n",
        "- Son inmutables, una vez creadas, no se pueden modificar.\n",
        "- Se utilizan cuando los datos no deben cambiar durante la ejecución del programa.\n",
        "\n",
        "---\n",
        "Características de los Diccionarios:\n",
        "- Almacenan pares clave-valor, donde cada clave es única.\n",
        "- Son mutables, se pueden modificar, agregar y eliminar elementos.\n",
        "- Se accede a los valores a través de las claves.\n"
      ],
      "metadata": {
        "id": "L7B4YW_EuIb1"
      }
    },
    {
      "cell_type": "markdown",
      "source": [
        "# Indexing y Slicing"
      ],
      "metadata": {
        "id": "3sldMnM6ut4U"
      }
    },
    {
      "cell_type": "markdown",
      "source": [
        "Antes de proseguir con Indexing y Slicing, tal vez sea de interes conocer que se pueden crear listas, tuplas y diccionarios vacios. Estos posteriormente pueden ser llenados o incluirles informacion como ya se ha explicado.\n",
        "\n",
        "```python\n",
        "lista_vacia_01 = list()\n",
        "lista_vacia_02 = []\n",
        "\n",
        "tupla_vacia_01 = tuple()\n",
        "tupla_vacia_02 = ()\n",
        "\n",
        "diccionario_vacio_01 = dict()\n",
        "diccionario_vacio_02 = {}\n",
        "\n",
        "print('lista_vacia_01 : ', lista_vacia_01)\n",
        "print('lista_vacia_02 : ', lista_vacia_02)\n",
        "print('tupla_vacia_01 : ', tupla_vacia_01)\n",
        "print('tupla_vacia_02 : ', tupla_vacia_02)\n",
        "print('diccionario_vacio_01 : ', diccionario_vacio_01)\n",
        "print('diccionario_vacio_02 : ', diccionario_vacio_02)\n",
        "```"
      ],
      "metadata": {
        "id": "UpOTgjEuQPYF"
      }
    },
    {
      "cell_type": "code",
      "source": [
        "lista_vacia_01 = list()\n",
        "lista_vacia_02 = []\n",
        "\n",
        "tupla_vacia_01 = tuple()\n",
        "tupla_vacia_02 = ()\n",
        "\n",
        "diccionario_vacio_01 = dict()\n",
        "diccionario_vacio_02 = {}\n",
        "\n",
        "print('lista_vacia_01 : ', lista_vacia_01)\n",
        "print('lista_vacia_02 : ', lista_vacia_02)\n",
        "print('tupla_vacia_01 : ', tupla_vacia_01)\n",
        "print('tupla_vacia_02 : ', tupla_vacia_02)\n",
        "print('diccionario_vacio_01 : ', diccionario_vacio_01)\n",
        "print('diccionario_vacio_02 : ', diccionario_vacio_02)"
      ],
      "metadata": {
        "colab": {
          "base_uri": "https://localhost:8080/"
        },
        "id": "4B0yfqN9u7xS",
        "outputId": "72c46dc0-7699-4cce-c8e9-890d0d4d38d7"
      },
      "execution_count": null,
      "outputs": [
        {
          "output_type": "stream",
          "name": "stdout",
          "text": [
            "lista_vacia_01 :  []\n",
            "lista_vacia_02 :  []\n",
            "tupla_vacia_01 :  ()\n",
            "tupla_vacia_02 :  ()\n",
            "diccionario_vacio_01 :  {}\n",
            "diccionario_vacio_02 :  {}\n"
          ]
        }
      ]
    },
    {
      "cell_type": "markdown",
      "source": [
        "En Python, el indexing y slicing son técnicas utilizadas para acceder a elementos específicos de secuencias como cadenas de texto o strings, listas y tuplas.\n",
        "\n",
        "- Indexing (Indexación): Consiste en acceder a un elemento particular en una secuencia utilizando su posición o `índice`. Se realiza mediante el uso de corchetes `[]` seguidos del número que representa la posición del elemento.\n",
        "- Slicing (Corte): Implica extraer o cortar una porción de una secuencia. Se utiliza la notación `inicio:fin` o `inicio:fin:pasos` dentro de corchetes `[]`. El índice de inicio está incluido, mientras que el índice de fin no lo está. Puedes incluso especificar un tercer valor para indicar los pasos.\n",
        "\n",
        "\n",
        "Ejemplo:\n",
        "```python\n",
        "#vamos ha iniciar con algo simple, una frase\n",
        "frase = 'Hola mundo!'\n",
        "print(frase)\n",
        "```"
      ],
      "metadata": {
        "id": "3yqWYO7ZRi-l"
      }
    },
    {
      "cell_type": "code",
      "source": [
        "# vamos ha iniciar con algo simple, una frase\n",
        "frase = 'Hola mundo!'\n",
        "print(frase)"
      ],
      "metadata": {
        "colab": {
          "base_uri": "https://localhost:8080/"
        },
        "id": "XqQKUevnTsHa",
        "outputId": "99a9ce01-7c74-4196-ee83-6f1014992f9e"
      },
      "execution_count": null,
      "outputs": [
        {
          "output_type": "stream",
          "name": "stdout",
          "text": [
            "Hola mundo!\n"
          ]
        }
      ]
    },
    {
      "cell_type": "code",
      "source": [
        "len(frase)"
      ],
      "metadata": {
        "colab": {
          "base_uri": "https://localhost:8080/"
        },
        "id": "2Go1FRLtUhiJ",
        "outputId": "5cbc91e7-82e9-4fbd-b484-6b0e301da23c"
      },
      "execution_count": null,
      "outputs": [
        {
          "output_type": "execute_result",
          "data": {
            "text/plain": [
              "11"
            ]
          },
          "metadata": {},
          "execution_count": 60
        }
      ]
    },
    {
      "cell_type": "code",
      "source": [
        "# Indexing: Acceder a elementos individuales\n",
        "primer_caracter = frase[0]  # El primer carácter (H)\n",
        "segundo_caracter = frase[1]  # El segundo carácter (o)\n",
        "ultimo_caracter = frase[-1]  # El último carácter (!)"
      ],
      "metadata": {
        "id": "r68ISdShT4PD"
      },
      "execution_count": null,
      "outputs": []
    },
    {
      "cell_type": "code",
      "source": [
        "# Slicing: Extraer porciones de la frase\n",
        "sub_frase1 = frase[0:4]  # Desde el índice 0 hasta el índice 3 ('Hola')\n",
        "sub_frase2 = frase[5:]   # Desde el índice 5 hasta el final ('mundo!')\n",
        "sub_frase3 = frase[:4]   # Desde el principio hasta el índice 3 ('Hola')\n",
        "sub_frase4 = frase[::2]  # Desde el principio hasta el final, de 2 en 2 ('Hl ud!')"
      ],
      "metadata": {
        "id": "NFUlB_PhT8Jq"
      },
      "execution_count": null,
      "outputs": []
    },
    {
      "cell_type": "code",
      "source": [
        "# Mostrar resultados\n",
        "print('Indexing:')\n",
        "print('Primer carácter:', primer_caracter)\n",
        "print('Segundo carácter:', segundo_caracter)\n",
        "print('Último carácter:', ultimo_caracter)\n",
        "\n",
        "print('\\nSlicing:')\n",
        "print('Subfrase 1:', sub_frase1)\n",
        "print('Subfrase 2:', sub_frase2)\n",
        "print('Subfrase 3:', sub_frase3)\n",
        "print('Subfrase 4:', sub_frase4)"
      ],
      "metadata": {
        "colab": {
          "base_uri": "https://localhost:8080/"
        },
        "id": "70g6nt-QT9xi",
        "outputId": "aaf96461-b02a-4a6d-8da7-e4ad739eb75a"
      },
      "execution_count": null,
      "outputs": [
        {
          "output_type": "stream",
          "name": "stdout",
          "text": [
            "Indexing:\n",
            "Primer carácter: H\n",
            "Segundo carácter: o\n",
            "Último carácter: !\n",
            "\n",
            "Slicing:\n",
            "Subfrase 1: Hola\n",
            "Subfrase 2: mundo!\n",
            "Subfrase 3: Hola\n",
            "Subfrase 4: Hl ud!\n"
          ]
        }
      ]
    },
    {
      "cell_type": "markdown",
      "source": [
        "En Python, la indexación de listas comienza desde `0`. Esto significa que el `primer elemento` de la lista tiene un índice de 0, el segundo tiene un índice de 1, y así sucesivamente. Para acceder al último elemento de una lista, puedes usar el índice -1.\n",
        "\n",
        "\n",
        "Ejemplo:\n",
        "```python\n",
        "#ultimo elemento\n",
        "ultimo_elemento = frase[-1]  # !\n",
        "print('El ultimo elemento de la frase es: ', ultimo_elemento)\n",
        "```"
      ],
      "metadata": {
        "id": "qDpgs3aGU4sp"
      }
    },
    {
      "cell_type": "code",
      "source": [
        "#ultimo elemento\n",
        "ultimo_elemento = frase[-1]  # !\n",
        "print('El ultimo elemento de la frase es: ', ultimo_elemento)"
      ],
      "metadata": {
        "colab": {
          "base_uri": "https://localhost:8080/"
        },
        "id": "G8NiO9_6UM7C",
        "outputId": "d593c87e-7ce0-4005-dcdd-828caec8e9de"
      },
      "execution_count": null,
      "outputs": [
        {
          "output_type": "stream",
          "name": "stdout",
          "text": [
            "El ultimo elemento de la frase es:  !\n"
          ]
        }
      ]
    },
    {
      "cell_type": "code",
      "source": [
        "print(frase)\n",
        "print(frase[-1:2:-1])\n",
        "print(frase[-1:1:-2])"
      ],
      "metadata": {
        "colab": {
          "base_uri": "https://localhost:8080/"
        },
        "id": "7L5UWnO_VcfH",
        "outputId": "18d6dc2f-790d-4990-f72a-3806122d7144"
      },
      "execution_count": null,
      "outputs": [
        {
          "output_type": "stream",
          "name": "stdout",
          "text": [
            "Hola mundo!\n",
            "!odnum a\n",
            "!du l\n"
          ]
        }
      ]
    },
    {
      "cell_type": "markdown",
      "source": [
        "Como acabamos de observar, utilizando números negativos podemos acceder de manera inversa o retroceder en nuestra variable. Ahora, examinemos el caso específico de las listas y las tuplas. Para ello, vamos a retomar nuestras variables mezcladas.\n",
        "\n",
        "\n",
        "```python\n",
        "mezcla_tipo_lista = [lista01, tupla01, lista02, tupla03, 1, 2.1, True]\n",
        "mezcla_tipo_tupla = (tupla01, lista02, lista03, 4.1, 5, False)\n",
        "```"
      ],
      "metadata": {
        "id": "ZEIxZBCdTufR"
      }
    },
    {
      "cell_type": "code",
      "source": [
        "print('La variable tipo lista con una mezcla de elementos tiene:')\n",
        "print(mezcla_tipo_lista)\n",
        "\n",
        "print('\\n')\n",
        "print('La variable tipo lista con una mezcla de elementos tiene:')\n",
        "print(mezcla_tipo_tupla)"
      ],
      "metadata": {
        "colab": {
          "base_uri": "https://localhost:8080/"
        },
        "id": "90TbA5lnWVbn",
        "outputId": "399a73e3-28ba-4b78-bff7-0bd859f5e875"
      },
      "execution_count": null,
      "outputs": [
        {
          "output_type": "stream",
          "name": "stdout",
          "text": [
            "La variable tipo lista con una mezcla de elementos tiene:\n",
            "[[1, 2, 3], (1, 2, 3), [4, 5], 6, 1, 2.1, True]\n",
            "\n",
            "\n",
            "La variable tipo lista con una mezcla de elementos tiene:\n",
            "((1, 2, 3), [4, 5], [6], 4.1, 5, False)\n"
          ]
        }
      ]
    },
    {
      "cell_type": "code",
      "source": [
        "print('mezcla_tipo_lista tiene ', len(mezcla_tipo_lista), 'elementos')\n",
        "#[[1, 2, 3], (1, 2, 3), [4, 5], 6, 1, 2.1, True]"
      ],
      "metadata": {
        "colab": {
          "base_uri": "https://localhost:8080/"
        },
        "id": "DoYUEktvWrK2",
        "outputId": "9e08a238-5d91-4985-c7ee-d7684a925d36"
      },
      "execution_count": null,
      "outputs": [
        {
          "output_type": "stream",
          "name": "stdout",
          "text": [
            "mezcla_tipo_lista tiene  7 elementos\n"
          ]
        }
      ]
    },
    {
      "cell_type": "code",
      "source": [
        "print(mezcla_tipo_lista[1]) # me regresa el elemento en la posición 1\n",
        "print(mezcla_tipo_lista[0:1]) # me regresa solo el 1er elemento?\n",
        "print(mezcla_tipo_lista[0:2]) # no deberia regresar los elementos 0, 1 y 2? o sea 3 elementos?\n",
        "print(mezcla_tipo_lista[0:3])\n",
        "print(mezcla_tipo_lista[0:4])\n",
        "print(mezcla_tipo_lista[0:5])\n",
        "print(mezcla_tipo_lista[0:6])\n",
        "print(mezcla_tipo_lista[0:7])"
      ],
      "metadata": {
        "colab": {
          "base_uri": "https://localhost:8080/"
        },
        "id": "I-Ia0K5kWhAn",
        "outputId": "dd9f1c4f-c821-4007-c498-08309c0eb40c"
      },
      "execution_count": null,
      "outputs": [
        {
          "output_type": "stream",
          "name": "stdout",
          "text": [
            "(1, 2, 3)\n",
            "[[1, 2, 3]]\n",
            "[[1, 2, 3], (1, 2, 3)]\n",
            "[[1, 2, 3], (1, 2, 3), [4, 5]]\n",
            "[[1, 2, 3], (1, 2, 3), [4, 5], 6]\n",
            "[[1, 2, 3], (1, 2, 3), [4, 5], 6, 1]\n",
            "[[1, 2, 3], (1, 2, 3), [4, 5], 6, 1, 2.1]\n",
            "[[1, 2, 3], (1, 2, 3), [4, 5], 6, 1, 2.1, True]\n"
          ]
        }
      ]
    },
    {
      "cell_type": "markdown",
      "source": [
        "Como se puede observar, cuando se utiliza\n",
        "\n",
        "```python\n",
        "print(mezcla_tipo_lista[0:1])\n",
        "```\n",
        "\n",
        "Se entiende que estamos usando `inicio:fin`, que inicie en la posición o índice `0` y prosiga hasta la posición o indice `1`. Lo que corresponde a 2 elementos, pero solo 1 elemento es regresado, esto se debe a que en Python la posición final indicada nunca se va a tomar o se va ha incluir, si queremos que se incluya el elemento en la posición 1 se debe colocar `0:2`.\n",
        "\n",
        "```python\n",
        "print(mezcla_tipo_lista[0:2])\n",
        "```\n"
      ],
      "metadata": {
        "id": "qkntN6OxXVCn"
      }
    },
    {
      "cell_type": "code",
      "source": [
        "#Vamos a seleccionar los 3 elementos de nuestra mezcla en una nueva variable\n",
        "sub_mezcla = mezcla_tipo_lista[0:3]\n",
        "sub_mezcla"
      ],
      "metadata": {
        "colab": {
          "base_uri": "https://localhost:8080/"
        },
        "id": "Yr772m6XZu6b",
        "outputId": "157c4765-e407-43b6-fe5f-409a136255bd"
      },
      "execution_count": null,
      "outputs": [
        {
          "output_type": "execute_result",
          "data": {
            "text/plain": [
              "[[1, 2, 3], (1, 2, 3), [4, 5]]"
            ]
          },
          "metadata": {},
          "execution_count": 76
        }
      ]
    },
    {
      "cell_type": "markdown",
      "source": [
        "Usando este elemento mas pequeño vamos a entender como lograr acceder directamente al número 4.\n",
        "```python\n",
        "#primero es identificar donde esta localizado el número 4\n",
        "sub_mezcla[2] # está en la lista [4,5], la cual está en la posición 2 de sub_mezcla\n",
        "#no vamos a guardar en una nueva variable,\n",
        "# porque ya nos es claro que en sub_mezcla[2] esta la lista [4,5]\n",
        "#solo faltaría acceder al número 4\n",
        "\n",
        "#el segundo paso es hacer de uno una indexación []\n",
        "#al elemento extraído con la posición de interés\n",
        "sub_mezcla[2][0] # el 4 está en la posición 0 de la lista [4,5]\n",
        "```"
      ],
      "metadata": {
        "id": "XZ_o4ci1bXvy"
      }
    },
    {
      "cell_type": "code",
      "source": [
        "sub_mezcla[2][0]"
      ],
      "metadata": {
        "colab": {
          "base_uri": "https://localhost:8080/"
        },
        "id": "EJgyM9kzaALs",
        "outputId": "de85f6e3-e2e1-46d8-eeb1-6c57f3aa92ad"
      },
      "execution_count": null,
      "outputs": [
        {
          "output_type": "execute_result",
          "data": {
            "text/plain": [
              "4"
            ]
          },
          "metadata": {},
          "execution_count": 77
        }
      ]
    },
    {
      "cell_type": "code",
      "source": [
        "print(diccionario_con_diccionarios)"
      ],
      "metadata": {
        "colab": {
          "base_uri": "https://localhost:8080/"
        },
        "id": "DZHcd58JcGcZ",
        "outputId": "6edf8858-8357-49c8-e35c-f1eabd20a56f"
      },
      "execution_count": null,
      "outputs": [
        {
          "output_type": "stream",
          "name": "stdout",
          "text": [
            "{'dicc. 01': {'palabra': 'significado', 'clave': 'valor', 'número': 1}, 'dicc. 02': {1: 'uno', 'dos': 2, 'lista 01': [1, 2, 3], 'tupla 03': 6}, 'nueva clave': 31416}\n"
          ]
        }
      ]
    },
    {
      "cell_type": "markdown",
      "source": [
        "Para los diccionarios es algo más fácil y no es requerido el Indexing y Slicing, ya que es una estructura organizada. En los diccionarios usamos son las `claves` en vez de indicar el numero de la posición.\n",
        "\n",
        "Ejemplo:\n",
        "```python\n",
        "print(diccionario_con_diccionarios) # recordemos nuestra variable de tipo diccionario\n",
        "\n",
        "#si queremos acceder al diccionario 02 solo debemos\n",
        "print('Diccionario 02: ')\n",
        "diccionario_con_diccionarios['dicc. 02']\n",
        "```"
      ],
      "metadata": {
        "id": "az0SmbSccZ6R"
      }
    },
    {
      "cell_type": "code",
      "source": [
        "print(diccionario_con_diccionarios) # recordemos nuestra variable de tipo diccionario\n",
        "\n",
        "#si queremos acceder al diccionario 02 solo debemos\n",
        "print('Diccionario 02: ')\n",
        "diccionario_con_diccionarios['dicc. 02']"
      ],
      "metadata": {
        "colab": {
          "base_uri": "https://localhost:8080/"
        },
        "id": "tINQFLGEcdCZ",
        "outputId": "28c547b4-4360-4253-9231-3cca2da92624"
      },
      "execution_count": null,
      "outputs": [
        {
          "output_type": "stream",
          "name": "stdout",
          "text": [
            "{'dicc. 01': {'palabra': 'significado', 'clave': 'valor', 'número': 1}, 'dicc. 02': {1: 'uno', 'dos': 2, 'lista 01': [1, 2, 3], 'tupla 03': 6}, 'nueva clave': 31416}\n",
            "Diccionario 02: \n"
          ]
        },
        {
          "output_type": "execute_result",
          "data": {
            "text/plain": [
              "{1: 'uno', 'dos': 2, 'lista 01': [1, 2, 3], 'tupla 03': 6}"
            ]
          },
          "metadata": {},
          "execution_count": 81
        }
      ]
    },
    {
      "cell_type": "code",
      "source": [
        "#Esa búsqueda la podemos guardar en una variable\n",
        "#pero queremos es guardar la lista 01 , por lo que se procede igual\n",
        "#que lo visto en el ejemplo anterior\n",
        "\n",
        "lista_desde_diccionario = diccionario_con_diccionarios['dicc. 02']['lista 01']\n",
        "lista_desde_diccionario #[1, 2, 3]"
      ],
      "metadata": {
        "colab": {
          "base_uri": "https://localhost:8080/"
        },
        "id": "C-HcLaCRcrAx",
        "outputId": "bde44a1f-36be-404d-c9c4-29eacf98c012"
      },
      "execution_count": null,
      "outputs": [
        {
          "output_type": "execute_result",
          "data": {
            "text/plain": [
              "[1, 2, 3]"
            ]
          },
          "metadata": {},
          "execution_count": 83
        }
      ]
    },
    {
      "cell_type": "markdown",
      "source": [
        "#Reemplazar valores\n",
        "El indexing y slicing puede ser algo muy complicado cuando usamos elementos que contengan a otros elementos. Por lo que de momento vamos a tratar de centrarnos en almacenar los elementos de la manera mas simple posible. Por lo que vamos a volver a elementos mas simples para proseguir.\n",
        "\n",
        "Ejemplo:\n",
        "```python\n",
        "lista_simple = [1, 2, 3, 4]\n",
        "tupla_simple = (10, 11, 12, 13, 14)\n",
        "diccionario_simple = {'nombre': 'Pepito', 'edad': -99}\n",
        "```\n"
      ],
      "metadata": {
        "id": "2rJwydQOdTVI"
      }
    },
    {
      "cell_type": "code",
      "source": [
        "lista_simple = [1, 2, 3, 4]\n",
        "tupla_simple = (10, 11, 12, 13, 14)\n",
        "diccionario_simple = {'nombre': 'Pepito', 'edad': -99}"
      ],
      "metadata": {
        "id": "_9FgA1IOeX54"
      },
      "execution_count": null,
      "outputs": []
    },
    {
      "cell_type": "code",
      "source": [
        "print('Lista simple contiene: ', lista_simple)\n",
        "print('\\nTupla simple contiene: ', tupla_simple)\n",
        "print('\\nDiccionario simple contiene: ', diccionario_simple)"
      ],
      "metadata": {
        "colab": {
          "base_uri": "https://localhost:8080/"
        },
        "id": "eSZVY9zXeqsu",
        "outputId": "459a1ae6-c0da-432b-84b0-11b64e6d6205"
      },
      "execution_count": null,
      "outputs": [
        {
          "output_type": "stream",
          "name": "stdout",
          "text": [
            "Lista simple contiene:  [1, 2, 3, 4]\n",
            "\n",
            "Tupla simple contiene:  (10, 11, 12, 13, 14)\n",
            "\n",
            "Diccionario simple contiene:  {'nombre': 'Pepito', 'edad': -99}\n"
          ]
        }
      ]
    },
    {
      "cell_type": "code",
      "source": [
        "# Para reemplazar el segundo elemento (índice 1), o sea el numero 2\n",
        "# solo es indicar con un indexin el nuevo valor en ese indice\n",
        "lista_simple[1] = 10\n",
        "print('Lista simple modificada: ', lista_simple)"
      ],
      "metadata": {
        "colab": {
          "base_uri": "https://localhost:8080/"
        },
        "id": "47YkEc2ie6V9",
        "outputId": "6b08c815-86ae-414f-d833-a78c6a1bdf51"
      },
      "execution_count": null,
      "outputs": [
        {
          "output_type": "stream",
          "name": "stdout",
          "text": [
            "Lista simple modificada:  [1, 10, 3, 4]\n"
          ]
        }
      ]
    },
    {
      "cell_type": "code",
      "source": [
        "# Lo mismo para la Tupla\n",
        "tupla_simple[1] = 110\n",
        "print('Tupla simple modificada: ', tupla_simple)"
      ],
      "metadata": {
        "colab": {
          "base_uri": "https://localhost:8080/",
          "height": 210
        },
        "id": "M_wI3GAFfQc-",
        "outputId": "25b87186-2b33-4158-c219-0b8525d288ad"
      },
      "execution_count": null,
      "outputs": [
        {
          "output_type": "error",
          "ename": "TypeError",
          "evalue": "ignored",
          "traceback": [
            "\u001b[0;31m---------------------------------------------------------------------------\u001b[0m",
            "\u001b[0;31mTypeError\u001b[0m                                 Traceback (most recent call last)",
            "\u001b[0;32m<ipython-input-88-84f0fcf9409b>\u001b[0m in \u001b[0;36m<cell line: 2>\u001b[0;34m()\u001b[0m\n\u001b[1;32m      1\u001b[0m \u001b[0;31m# Lo mismo para la Tupla\u001b[0m\u001b[0;34m\u001b[0m\u001b[0;34m\u001b[0m\u001b[0m\n\u001b[0;32m----> 2\u001b[0;31m \u001b[0mtupla_simple\u001b[0m\u001b[0;34m[\u001b[0m\u001b[0;36m1\u001b[0m\u001b[0;34m]\u001b[0m \u001b[0;34m=\u001b[0m \u001b[0;36m110\u001b[0m\u001b[0;34m\u001b[0m\u001b[0;34m\u001b[0m\u001b[0m\n\u001b[0m\u001b[1;32m      3\u001b[0m \u001b[0mprint\u001b[0m\u001b[0;34m(\u001b[0m\u001b[0;34m'Tupla simple modificada: '\u001b[0m\u001b[0;34m,\u001b[0m \u001b[0mtupla_simple\u001b[0m\u001b[0;34m)\u001b[0m\u001b[0;34m\u001b[0m\u001b[0;34m\u001b[0m\u001b[0m\n",
            "\u001b[0;31mTypeError\u001b[0m: 'tuple' object does not support item assignment"
          ]
        }
      ]
    },
    {
      "cell_type": "markdown",
      "source": [
        "Cuando intentamos modificar el valor en una tupla nos sale el error\n",
        "\n",
        "```python\n",
        "TypeError: 'tuple' object does not support item assignment\n",
        "```\n",
        "\n",
        "Esto se debe a que una de las características mencionadas de las tuplas es que son inmutables, en otras palabras, no se dejan modificar. Para modificar una tupla debemos convertirla a un elemento u objeto mutable, como son las listas.\n"
      ],
      "metadata": {
        "id": "lFsKLFz9gHa0"
      }
    },
    {
      "cell_type": "code",
      "source": [
        "# convertir la tupla a lista\n",
        "lista_temporal = list(tupla_simple)\n",
        "\n",
        "# ahora si procedemos a cambiar el elemento\n",
        "lista_temporal[1] = 110\n",
        "\n",
        "# y se convertir la lista de nuevo a tupla\n",
        "tupla_simple = tuple(lista_temporal)\n",
        "\n",
        "#como nuestra variable de interes es tupla_simple, se \"sobre escribe en ella\"\n",
        "print('Tupla simple modificada: ', tupla_simple)"
      ],
      "metadata": {
        "colab": {
          "base_uri": "https://localhost:8080/"
        },
        "id": "0zX2u1EEgIcs",
        "outputId": "076929e4-1f47-46bb-9f84-4e4db406bf25"
      },
      "execution_count": null,
      "outputs": [
        {
          "output_type": "stream",
          "name": "stdout",
          "text": [
            "Tupla simple modificada:  (10, 110, 12, 13, 14)\n"
          ]
        }
      ]
    },
    {
      "cell_type": "code",
      "source": [
        "# modificar el valor en un diccionario es sencillo\n",
        "# procedamos a arreglar la edad\n",
        "diccionario_simple['edad'] = 15\n",
        "\n",
        "print('Diccionario simple modificada: ', diccionario_simple)"
      ],
      "metadata": {
        "colab": {
          "base_uri": "https://localhost:8080/"
        },
        "id": "go7FUNYFggfl",
        "outputId": "5f5501a2-292a-43e6-b1d3-46126f3a91f7"
      },
      "execution_count": null,
      "outputs": [
        {
          "output_type": "stream",
          "name": "stdout",
          "text": [
            "Diccionario simple modificada:  {'nombre': 'Pepito', 'edad': 15}\n"
          ]
        }
      ]
    },
    {
      "cell_type": "markdown",
      "source": [
        "Conociendo que puedo guardar partes de una variable o elemento en otra variable, supongamos que ahora quiero una copia de los elementos anteriores. Esto con el fin de poder dejar intactos los originales y no afectarlos en caso de que quiera volver a usarlos."
      ],
      "metadata": {
        "id": "PdXXYpVbhRvC"
      }
    },
    {
      "cell_type": "code",
      "source": [
        "copia_lista_simple = lista_simple\n",
        "copia_tupla_simple = tupla_simple\n",
        "copia_diccionario_simple =diccionario_simple\n",
        "print('Copia de Lista simple: ', lista_simple)\n",
        "print('\\nCopia de Tupla simple: ', tupla_simple)\n",
        "print('\\nCopia de Diccionario simple: ', diccionario_simple)"
      ],
      "metadata": {
        "colab": {
          "base_uri": "https://localhost:8080/"
        },
        "id": "fAgGrPuig3Hc",
        "outputId": "6b4badaa-0b8f-447a-b5a1-fee1a17453e1"
      },
      "execution_count": null,
      "outputs": [
        {
          "output_type": "stream",
          "name": "stdout",
          "text": [
            "Copia de Lista simple:  [1, 10, 3, 4]\n",
            "\n",
            "Copia de Tupla simple:  (10, 110, 12, 13, 14)\n",
            "\n",
            "Copia de Diccionario simple:  {'nombre': 'Pepito', 'edad': 15}\n"
          ]
        }
      ]
    },
    {
      "cell_type": "code",
      "source": [
        "#Quiero cambiar el primer elemento de mi lista copiada por un -1\n",
        "copia_lista_simple[0] = -1\n",
        "copia_lista_simple #se modificó"
      ],
      "metadata": {
        "colab": {
          "base_uri": "https://localhost:8080/"
        },
        "id": "ouPyktJ-hc1J",
        "outputId": "4f889ac2-96fd-4be1-95de-4063f6c3a590"
      },
      "execution_count": null,
      "outputs": [
        {
          "output_type": "execute_result",
          "data": {
            "text/plain": [
              "[-1, 10, 3, 4]"
            ]
          },
          "metadata": {},
          "execution_count": 99
        }
      ]
    },
    {
      "cell_type": "code",
      "source": [
        "#revisemos la original\n",
        "lista_simple"
      ],
      "metadata": {
        "colab": {
          "base_uri": "https://localhost:8080/"
        },
        "id": "11so42f6hgX0",
        "outputId": "2f4b4a20-53c7-4b1b-84cc-39baf5bb4e80"
      },
      "execution_count": null,
      "outputs": [
        {
          "output_type": "execute_result",
          "data": {
            "text/plain": [
              "[-1, 10, 3, 4]"
            ]
          },
          "metadata": {},
          "execution_count": 101
        }
      ]
    },
    {
      "cell_type": "code",
      "source": [
        "print('Lista original: ', lista_simple) #al parecer cambió\n",
        "print('Copia: ', copia_lista_simple)"
      ],
      "metadata": {
        "colab": {
          "base_uri": "https://localhost:8080/"
        },
        "id": "TFEGIVDSiCsK",
        "outputId": "9fa06f70-2d09-457d-b2ad-b47c6dfe3682"
      },
      "execution_count": null,
      "outputs": [
        {
          "output_type": "stream",
          "name": "stdout",
          "text": [
            "Lista original:  [-1, 10, 3, 4]\n",
            "Copia:  [-1, 10, 3, 4]\n"
          ]
        }
      ]
    },
    {
      "cell_type": "code",
      "source": [
        "#vamos a volver a dejarla como estaba\n",
        "lista_simple[0] = 1\n",
        "lista_simple"
      ],
      "metadata": {
        "colab": {
          "base_uri": "https://localhost:8080/"
        },
        "id": "qb4Mka75h2gC",
        "outputId": "4f40745a-702c-4ad9-d25d-224a695667f8"
      },
      "execution_count": null,
      "outputs": [
        {
          "output_type": "execute_result",
          "data": {
            "text/plain": [
              "[1, 10, 3, 4]"
            ]
          },
          "metadata": {},
          "execution_count": 105
        }
      ]
    },
    {
      "cell_type": "code",
      "source": [
        "print('Lista original: ', lista_simple)\n",
        "print('Copia: ', copia_lista_simple)\n",
        "#de nuevo todo normal"
      ],
      "metadata": {
        "colab": {
          "base_uri": "https://localhost:8080/"
        },
        "id": "FYmiVWjQh5lV",
        "outputId": "0ec830aa-c2a8-4d85-be48-b57aef0a9c8e"
      },
      "execution_count": null,
      "outputs": [
        {
          "output_type": "stream",
          "name": "stdout",
          "text": [
            "Lista original:  [1, 10, 3, 4]\n",
            "Copia:  [1, 10, 3, 4]\n"
          ]
        }
      ]
    },
    {
      "cell_type": "markdown",
      "source": [
        "Lo que acaba de pasar es que modificamos la copia y afecto a la original, y tuvimos que ajustar la original que a su vez afectó a la copia.\n",
        "\n",
        "Esto podemos entenderlo como si a un objeto de nuestro interés a copiar le hubiéramos dado otro nombre u apodo al momento de crear la nueba variable. Ambas variables `lista_simple`y `copia_lista_simple` están haciendo referencia a los elementos `[1, 10, 3, 4]`.\n",
        "\n",
        "Cuando queremos hacer una copia que no afecte a mi original solo necesitamos incluirle a nuestra variable la expresión `.copy()`.\n",
        "\n",
        "Ejemplo:\n",
        "```Python\n",
        "nueva_copia_lista_simple = lista_simple.copy()\n",
        "print(nueva_copia_lista_simple)\n",
        "```\n"
      ],
      "metadata": {
        "id": "WhX7N1BAjurA"
      }
    },
    {
      "cell_type": "code",
      "source": [
        "nueva_copia_lista_simple = lista_simple.copy()\n",
        "nueva_copia_lista_simple"
      ],
      "metadata": {
        "colab": {
          "base_uri": "https://localhost:8080/"
        },
        "id": "1R2M6OxIjPgh",
        "outputId": "c9cb905d-dcfd-4699-b01c-60f2f203f3ed"
      },
      "execution_count": null,
      "outputs": [
        {
          "output_type": "execute_result",
          "data": {
            "text/plain": [
              "[1, 10, 3, 4]"
            ]
          },
          "metadata": {},
          "execution_count": 108
        }
      ]
    },
    {
      "cell_type": "code",
      "source": [
        "#Vamos a verificar modificando la nueva variable creada\n",
        "nueva_copia_lista_simple[0] = 99\n",
        "\n",
        "print('Lista original: ', lista_simple)\n",
        "print('Lista mal copia: ', copia_lista_simple)\n",
        "print('Lista bien copia: ', nueva_copia_lista_simple)"
      ],
      "metadata": {
        "colab": {
          "base_uri": "https://localhost:8080/"
        },
        "id": "h1GgeQIcj_AP",
        "outputId": "e219f76d-361a-461a-ac75-15e34c783c29"
      },
      "execution_count": null,
      "outputs": [
        {
          "output_type": "stream",
          "name": "stdout",
          "text": [
            "Lista original:  [1, 10, 3, 4]\n",
            "Lista mal copia:  [1, 10, 3, 4]\n",
            "Lista bien copia:  [99, 10, 3, 4]\n"
          ]
        }
      ]
    },
    {
      "cell_type": "code",
      "source": [
        "#modifiquemos la lista original\n",
        "lista_simple[0] = 1.5\n",
        "\n",
        "print('Lista original: ', lista_simple)\n",
        "print('Lista mal copia: ', copia_lista_simple)\n",
        "print('Lista bien copia: ', nueva_copia_lista_simple)"
      ],
      "metadata": {
        "colab": {
          "base_uri": "https://localhost:8080/"
        },
        "id": "Oey--2GMkTTX",
        "outputId": "6f43f698-1f6e-44d4-84b3-e9c2ff78b53c"
      },
      "execution_count": null,
      "outputs": [
        {
          "output_type": "stream",
          "name": "stdout",
          "text": [
            "Lista original:  [1.5, 10, 3, 4]\n",
            "Lista mal copia:  [1.5, 10, 3, 4]\n",
            "Lista bien copia:  [99, 10, 3, 4]\n"
          ]
        }
      ]
    },
    {
      "cell_type": "markdown",
      "source": [
        "---\n",
        "Se ha explorado el manejo básico de listas, tuplas y diccionarios en Python, estructuras de datos fundamentales que ofrecen flexibilidad para organizar y manipular datos de manera eficiente. Sin embargo, estas herramientas proporcionan mucho más potencial del que hemos abordado hasta ahora. Para adentrarse aún más en el vasto mundo de Python, se invita a explorar las numerosas operaciones y métodos disponibles para trabajar con listas, tuplas y diccionarios.\n",
        "\n",
        "Para obtener información detallada y descubrir funcionalidades adicionales, se recomienda consultar la documentación oficial de Python en https://docs.python.org/3/ o realizar búsquedas rápidas en Internet.\n"
      ],
      "metadata": {
        "id": "xYWak1JamBgv"
      }
    },
    {
      "cell_type": "markdown",
      "source": [
        "#Fin"
      ],
      "metadata": {
        "id": "gu57QbQatkxl"
      }
    },
    {
      "cell_type": "code",
      "execution_count": null,
      "metadata": {
        "id": "6D30G1k2re73"
      },
      "outputs": [],
      "source": []
    }
  ]
}