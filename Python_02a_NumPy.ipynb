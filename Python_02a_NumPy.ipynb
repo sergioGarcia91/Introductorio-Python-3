{
  "nbformat": 4,
  "nbformat_minor": 0,
  "metadata": {
    "colab": {
      "provenance": [],
      "toc_visible": true,
      "authorship_tag": "ABX9TyN/QZTALgplBf4WFVrgPg5Y",
      "include_colab_link": true
    },
    "kernelspec": {
      "name": "python3",
      "display_name": "Python 3"
    },
    "language_info": {
      "name": "python"
    }
  },
  "cells": [
    {
      "cell_type": "markdown",
      "metadata": {
        "id": "view-in-github",
        "colab_type": "text"
      },
      "source": [
        "<a href=\"https://colab.research.google.com/github/sergioGarcia91/Introductorio-Python-3/blob/main/Python_02a_NumPy.ipynb\" target=\"_parent\"><img src=\"https://colab.research.google.com/assets/colab-badge.svg\" alt=\"Open In Colab\"/></a>"
      ]
    },
    {
      "cell_type": "markdown",
      "source": [
        "#Python 02a: NumPy\n",
        "\n",
        "> *Ser tan rápidos como el más lento,\\\n",
        "y ser tan lentos como el más rápido.*\n",
        "\n",
        "**Autor:** Sergio Andrés García Arias  \n",
        "**Versión 01:** Diciembre 2023"
      ],
      "metadata": {
        "id": "neqMUHgrn4R0"
      }
    },
    {
      "cell_type": "markdown",
      "source": [
        "# Introducción\n",
        "\n",
        "Hasta ahora, no se ha mencionado la posibilidad de realizar operaciones aritméticas con algunos de los elementos vistos previamente, como la multiplicación de un número con un texto. Aunque este tipo de operaciones son posibles, se debe tener en cuenta que ciertas operaciones no tener un significado claro, lo que pueden llevar a generar resultados inesperados.\n",
        "\n",
        "Por otro lado, vamos a conocer una nueva estructura de datos poderosa: los `arrays`. Estos nos recuerdan a los `vectores` y `matrices` cotidianas, que en los lenguajes de programación permiten manejar conjuntos de datos de manera más eficiente.\n",
        "\n",
        "Para utilizar arrays en Python, se requiere el uso de bibliotecas o paquetes específicos implementados por desarrolladores y la comunidad. Un ejemplo destacado es `NumPy`, una biblioteca especializada en el cálculo numérico y el análisis de datos.\n",
        "\n"
      ],
      "metadata": {
        "id": "og2wjFm0n7V7"
      }
    },
    {
      "cell_type": "markdown",
      "source": [
        "---\n",
        "En este punto, vamos ha hacer un parentesis o pausa para destacar una actividad frecuente y valiosa en el proceso de escritura de código: el uso del buscador en internet. A medida que se enfrenten a desafíos o deseas profundizar en el conocimiento sobre una biblioteca o problema específico, la capacidad de buscar información es esencial.\n",
        "\n",
        "El buscador sigue siendo una herramienta valiosa para hacer consultas ante inconvenientes o para obtener más información sobre una librería específica. Aunque las IAs pueden ser de gran ayuda en la escritura de código, algunas tareas pueden requerir el apoyo de búsquedas en internet, ya sea en foros de la comunidad o en la documentación oficial de una librería.\n",
        "\n",
        "Al realizar búsquedas en Internet para obtener información o resolver problemas relacionados con el desarrollo de código, se recomienda preferiblemente utilizar el idioma inglés. La comunidad de programadores en inglés es significativamente más extensa, lo que significa que es más probable encontrar respuestas, soluciones y recursos en este idioma.\n",
        "\n",
        "---\n",
        "\n"
      ],
      "metadata": {
        "id": "q_BtEn5RrSNo"
      }
    },
    {
      "cell_type": "markdown",
      "source": [
        "Al realizar una búsqueda sobre los `arrays` de `NumPy`, es importante especificar que la consulta está orientada a `Python 3`. Aunque no hemos mencionado las diferencias entre versiones de Python, el indicar que la búsqueda es para Python 3, asegura obtener información relevante y actualizada para la versión más reciente del lenguaje. Esto es especialmente relevante dado que Python 2 ha llegado al final de su vida útil, y la comunidad se centra en el desarrollo y soporte de Python 3.\n",
        "\n",
        "<center><img src='https://github.com/sergioGarcia91/Introductorio-Python-3/blob/main/imagen_BusquedaNumpyArray.png?raw=true' width=500 /></center>\n",
        "\n",
        "En una consulta rapida en Internet, se puede ver diferentes resultados, entre los que se destacan uno directamente de la pagina de `NumPy`. Es redomendado revisar la [página oficial de NumPy](https://numpy.org) o dirigirse directamente a su [documentación](https://numpy.org/doc/stable/). En nuestra búsqueda de ejemplo, hemos encontrado información valiosa en la sección de [Array Creation](https://numpy.org/doc/stable/user/basics.creation.html) de la documentación oficial.\n",
        "\n",
        "\n"
      ],
      "metadata": {
        "id": "aTQD43pUtHeH"
      }
    },
    {
      "cell_type": "markdown",
      "source": [
        "#Inicio"
      ],
      "metadata": {
        "id": "3gisJySTn9Sz"
      }
    },
    {
      "cell_type": "markdown",
      "source": [
        "Recordando de manera simple, aquí está la representación visual de un vector y una matriz:\n",
        "\n",
        "- Vector\n",
        "\n",
        "Un vector $V_{m\\times 1}$ puede ser representado como:\n",
        "\n",
        "$$\\begin{equation}  \n",
        "V =\n",
        "\\begin{pmatrix}\n",
        "v_{11} \\\\\n",
        "v_{21} \\\\\n",
        "\\vdots \\\\\n",
        "v_{m1}\n",
        "\\end{pmatrix}\n",
        "\\end{equation}$$\n",
        "\n",
        "O de manera más compacta:\n",
        "\n",
        "$$\\begin{equation}  \n",
        "V =\n",
        "\\begin{pmatrix}\n",
        "v_{1} & v_{2} & \\cdots & v_{m}\n",
        "\\end{pmatrix}\n",
        "\\end{equation}$$\n",
        "\n",
        "- Matriz\n",
        "\n",
        "Una matriz $A_{n\\times m}$ tiene la siguiente forma:\n",
        "\n",
        "$$ \\begin{equation}  \n",
        "A =\n",
        "\\begin{pmatrix}\n",
        "a_{11} & a_{12} & \\cdots & a_{1m}\\\\\n",
        "a_{21} & a_{22} & \\cdots & a_{2m}\\\\\n",
        "\\vdots & \\vdots & \\ddots & \\vdots\\\\\n",
        "a_{n1} & a_{n2} & \\cdots & a_{nm}\n",
        "\\end{pmatrix}\n",
        "\\end{equation}$$\n",
        "\n",
        "Estos ejemplos no buscan resaltar la complejidad de las matrices ni todas las operaciones que se pueden realizar con ellas, sino simplemente recordar visualmente cómo se representan.\n",
        "\n",
        "---\n",
        "Al observar la estructura de un vector, notamos que su representación nos recuerda a una lista en Python.\n",
        "\n",
        "```python\n",
        "lista_V = [v1, v2, v3, ... , vm]\n",
        "```\n",
        "Al extender la idea de vectores a matrices, una matriz $A$, puede representarse fácilmente como una lista de listas en Python.\n",
        "\n",
        "```python\n",
        "lista_de_listas_A = [\n",
        "  [a11, a12, a13, ... , v1m],\n",
        "  [a21, a22, a23, ... , v1m],\n",
        "  [..., ..., ..., ... , ...],\n",
        "  [an1, an2, an3, ... , vnm],  \n",
        "]\n",
        "\n",
        "```\n",
        "Teniendo en cuenta estas simples observaciones, que podrían tener interpretaciones más detalladas o explicaciones más complejas, optemos por mantenerlas simples por ahora. Procedamos a crear esas dos variables: el vector `lista_V`y la matriz `lista_de_listas_A`.\n",
        "\n",
        "Como observación adicional, es importante destacar que mientras una lista en Python puede contener múltiples tipos de datos, lo mismo ocurre con los arrays. Sin embargo, por simplicidad, mantendremos la idea de que todos los elementos en nuestras variables serán de tipo numérico."
      ],
      "metadata": {
        "id": "k3Zs824Q0NO4"
      }
    },
    {
      "cell_type": "code",
      "source": [
        "# Creamos nuestra lista referente al vector V\n",
        "lista_V = [1, 2, 3, 4, 5]\n",
        "print(lista_V)"
      ],
      "metadata": {
        "colab": {
          "base_uri": "https://localhost:8080/"
        },
        "id": "60dyhRvL4zMD",
        "outputId": "a547f2bc-9985-45bb-84d1-298b52674d8f"
      },
      "execution_count": null,
      "outputs": [
        {
          "output_type": "stream",
          "name": "stdout",
          "text": [
            "[1, 2, 3, 4, 5]\n"
          ]
        }
      ]
    },
    {
      "cell_type": "code",
      "source": [
        "# creamis nuestra lsita de listas referente a la matriz A\n",
        "lista_de_listas_A = [\n",
        "    [1, 2, 3],\n",
        "    [4, 5, 6],\n",
        "    [7, 8, 9]\n",
        "]\n",
        "\n",
        "print(lista_de_listas_A)"
      ],
      "metadata": {
        "colab": {
          "base_uri": "https://localhost:8080/"
        },
        "id": "7uqab0fj48Lj",
        "outputId": "a81c2a5b-f366-45a0-bfb8-29a26aab4230"
      },
      "execution_count": null,
      "outputs": [
        {
          "output_type": "stream",
          "name": "stdout",
          "text": [
            "[[1, 2, 3], [4, 5, 6], [7, 8, 9]]\n"
          ]
        }
      ]
    },
    {
      "cell_type": "markdown",
      "source": [
        "parece que nuestra variable `lista_V` se asemeja a un vector. Sin embargo, en el caso de `lista_de_listas_A`, la estructura de matriz aún no está presente. Esto se debe a que solo creamos listas hasta ahora; aún no las hemos convertido en arrays.\n",
        "\n",
        "Para solucionar esto, importaremos la biblioteca `NumPy`, que nos permitirá trabajar con arrays de manera eficiente en Python.\n",
        "\n",
        "```python\n",
        "import numpy as np\n",
        "```"
      ],
      "metadata": {
        "id": "jk0jpJ_S4y9z"
      }
    },
    {
      "cell_type": "code",
      "source": [
        "# importamos/llamamos la librería numpy\n",
        "# el as sirve para establecer un alias o nombre más corto\n",
        "# sin el alias tendríamos que escribir siempre el nombre completo de la librería numpy\n",
        "# ahora solo con escribir np ya la maquina va a entender\n",
        "\n",
        "import numpy as np\n"
      ],
      "metadata": {
        "id": "8b3480ryn85a"
      },
      "execution_count": null,
      "outputs": []
    },
    {
      "cell_type": "markdown",
      "source": [
        "Es una buena práctica importar todas las bibliotecas/librerías necesarias al comienzo del Notebook. Esto proporciona claridad y orden en el código. Por la actividad a desarrollar en este Notebook, por esta vez hemos procedido primero con la creación de listas y luego con la importación de NumPy.\n",
        "\n",
        "Es recomendable seguir el enfoque de importar bibliotecas al inicio del código. Este orden es estándar en la programación y contribuye a un código más legible y estructurado.\n",
        "\n",
        "---\n",
        "Para crear un array en NumPy, utilizamos la función `numpy.array()`. Esta función toma una secuencia (como una lista o tupla) y la convierte en un array de NumPy. Para más información puede consultar la [documentación correspondiente](https://numpy.org/doc/stable/reference/generated/numpy.array.html).\n"
      ],
      "metadata": {
        "id": "XZvGQmvP7Kop"
      }
    },
    {
      "cell_type": "code",
      "source": [
        "np.array(lista_V)"
      ],
      "metadata": {
        "colab": {
          "base_uri": "https://localhost:8080/"
        },
        "id": "vU3GXebf7x1o",
        "outputId": "085f5d0c-a26c-42b4-d3b0-50f7044e94a1"
      },
      "execution_count": null,
      "outputs": [
        {
          "output_type": "execute_result",
          "data": {
            "text/plain": [
              "array([1, 2, 3, 4, 5])"
            ]
          },
          "metadata": {},
          "execution_count": 6
        }
      ]
    },
    {
      "cell_type": "code",
      "source": [
        "np.array(lista_de_listas_A)"
      ],
      "metadata": {
        "colab": {
          "base_uri": "https://localhost:8080/"
        },
        "id": "GbgZUkmP8Z5Y",
        "outputId": "997d7d3d-c3de-4fb9-df6d-e7fa41c5b8e5"
      },
      "execution_count": null,
      "outputs": [
        {
          "output_type": "execute_result",
          "data": {
            "text/plain": [
              "array([[1, 2, 3],\n",
              "       [4, 5, 6],\n",
              "       [7, 8, 9]])"
            ]
          },
          "metadata": {},
          "execution_count": 7
        }
      ]
    },
    {
      "cell_type": "markdown",
      "source": [
        "ahora cada lista ha sido convertida a un array, y podemos apreciar el cambio en su estructura visual en las salidas de las celdas. Sin embargo, es importante destacar que estos cambios aún no se han guardado en variables específicas.\n",
        "\n",
        "Para conservar las nuevas estructuras de arrays, debemos asignarlas a nuevas variables. También podemos optar por sobrescribir o reutilizar variables existentes según sea necesario.\n",
        "\n",
        "En este caso, utilizaremos las variables `vector_V` y `matriz_A` para seguir mas facil el flujo de trabajo."
      ],
      "metadata": {
        "id": "wf3_q1YV8kOW"
      }
    },
    {
      "cell_type": "code",
      "source": [
        "vector_V = np.array(lista_V)\n",
        "matriz_A = np.array(lista_de_listas_A)\n",
        "\n",
        "print('V= \\n', vector_V)\n",
        "print('A= \\n', matriz_A)"
      ],
      "metadata": {
        "colab": {
          "base_uri": "https://localhost:8080/"
        },
        "id": "tzRD92J29dqo",
        "outputId": "c0de7ddb-2a76-4fc8-8ba5-71307e61457a"
      },
      "execution_count": null,
      "outputs": [
        {
          "output_type": "stream",
          "name": "stdout",
          "text": [
            "V= \n",
            " [1 2 3 4 5]\n",
            "A= \n",
            " [[1 2 3]\n",
            " [4 5 6]\n",
            " [7 8 9]]\n"
          ]
        }
      ]
    },
    {
      "cell_type": "code",
      "source": [
        "# Al ejecutar esta celda de código, se obtiene una advertencia de NumPy\n",
        "# indicando que las listas en lista_2 difieren en longitud.\n",
        "# Esto se debe a que la primera lista tiene 3 elementos y la segunda tiene 2.\n",
        "# Aunque NumPy permite la creación de arrays no simétricos\n",
        "# (en este caso una de las filas es mas corta que la otra),\n",
        "# es importante tener en cuenta esta advertencia y comprender\n",
        "# que esto puede afectar las operaciones subsiguientes.\n",
        "\n",
        "lista_2 = [[1, 2, 3], [4,5]]\n",
        "array_2 = np.array(lista_2)\n",
        "print(array_2)\n",
        "\n",
        "# se recomienda que todos los elementos de los arrays,\n",
        "# en este caso las filas, tengan el mismo número de\n",
        "# elementos o columnas"
      ],
      "metadata": {
        "colab": {
          "base_uri": "https://localhost:8080/"
        },
        "id": "4HAUpXps-gW_",
        "outputId": "dd494111-82bf-478f-841d-c9236aa42e0d"
      },
      "execution_count": null,
      "outputs": [
        {
          "output_type": "stream",
          "name": "stdout",
          "text": [
            "[list([1, 2, 3]) list([4, 5])]\n"
          ]
        },
        {
          "output_type": "stream",
          "name": "stderr",
          "text": [
            "<ipython-input-14-12605b5a9b67>:2: VisibleDeprecationWarning: Creating an ndarray from ragged nested sequences (which is a list-or-tuple of lists-or-tuples-or ndarrays with different lengths or shapes) is deprecated. If you meant to do this, you must specify 'dtype=object' when creating the ndarray.\n",
            "  array_2 = np.array(lista_2)\n"
          ]
        }
      ]
    },
    {
      "cell_type": "markdown",
      "source": [
        "#Indexing y Slicing\n",
        "\n",
        "La indexación y el slicing en NumPy es similar a lo visto en las listas, pero a menudo más intuitivas. Se utiliza la notación `[]` después de nuestro array, especificando la fila y la columna de manera numérica `[fila, columna]`. Además, se pueden utilizar los parámetros `inicio:fin:paso` para las filas y las columnas.\n"
      ],
      "metadata": {
        "id": "Y-cF-Cp9Be7j"
      }
    },
    {
      "cell_type": "code",
      "source": [
        "# Para acceder al elemento en la posición 0\n",
        "print(vector_V[0])  # Salida: 1\n",
        "\n",
        "# Obtener los elementos desde la posición 0 hasta la 2, recuerde que no se toma el final\n",
        "print(vector_V[0:3])  # Salida: [1, 2, 3]\n",
        "\n",
        "# Obtener elementos desde la posición 0 hasta el final, cada 2 pasos\n",
        "print(vector_V[0::2])  # Salida: [1, 3, 5]"
      ],
      "metadata": {
        "colab": {
          "base_uri": "https://localhost:8080/"
        },
        "id": "iZQzEKrX-ZkH",
        "outputId": "c0530ee8-7d23-488e-f99c-504409fee219"
      },
      "execution_count": null,
      "outputs": [
        {
          "output_type": "stream",
          "name": "stdout",
          "text": [
            "1\n",
            "[1 2 3]\n",
            "[1 3 5]\n"
          ]
        }
      ]
    },
    {
      "cell_type": "code",
      "source": [
        "matriz_A"
      ],
      "metadata": {
        "colab": {
          "base_uri": "https://localhost:8080/"
        },
        "id": "-JSmavHOEBv4",
        "outputId": "75eac199-afd4-4aa1-cf89-156b18f5465d"
      },
      "execution_count": null,
      "outputs": [
        {
          "output_type": "execute_result",
          "data": {
            "text/plain": [
              "array([[1, 2, 3],\n",
              "       [4, 5, 6],\n",
              "       [7, 8, 9]])"
            ]
          },
          "metadata": {},
          "execution_count": 21
        }
      ]
    },
    {
      "cell_type": "code",
      "source": [
        "# Con nuestra matriz se puede especificar la fila y la columna\n",
        "# Si queremos recuperar la fila 1\n",
        "print(matriz_A[0], '\\n') # Salida [1, 2, 3]\n",
        "\n",
        "# Si se solo la fila 2 y 3 ... recuerde que el ultimo no se toma, por eso se va hasta 3\n",
        "print(matriz_A[1:3], '\\n') # Salida [ [4, 5, 6], [7, 8, 9] ]\n",
        "\n",
        "# Si queremos recuperar la columna 2, si se debe hacer uso de [fila, columna]\n",
        "print(matriz_A[:, 1], '\\n') # Salida [2, 5, 8]\n",
        "# En fila se colocó solo : , esto indica en Python TODO\n",
        "\n",
        "# Para obtener la comunla 2 y 3\n",
        "print(matriz_A[:, 1:3], '\\n') # Salida [ [2, 3], [5, 6], [8, 9]\n",
        "\n",
        "# Si se quiere los elementos en la columna 2 y 3, pero de las filas 1 y 3\n",
        "print(matriz_A[::2, 1:3], '\\n')  # Salida [ [2, 3], [8, 9]\n"
      ],
      "metadata": {
        "colab": {
          "base_uri": "https://localhost:8080/"
        },
        "id": "GH8l3hoPDhC5",
        "outputId": "d8fb5155-7fc5-4c13-9614-ab9d9a837d14"
      },
      "execution_count": null,
      "outputs": [
        {
          "output_type": "stream",
          "name": "stdout",
          "text": [
            "[1 2 3] \n",
            "\n",
            "[[4 5 6]\n",
            " [7 8 9]] \n",
            "\n",
            "[2 5 8] \n",
            "\n",
            "[[2 3]\n",
            " [5 6]\n",
            " [8 9]] \n",
            "\n",
            "[[2 3]\n",
            " [8 9]] \n",
            "\n"
          ]
        }
      ]
    },
    {
      "cell_type": "markdown",
      "source": [
        "Vamos a crear una matriz más compleja replicando nuestra matriz original, `matriz_A`, en una lista de listas, y multiplicaremos cada una de estas filas por un número diferente. Más adelante, abordaremos en detalle estas operaciones."
      ],
      "metadata": {
        "id": "h9KVdJIyIDdF"
      }
    },
    {
      "cell_type": "code",
      "source": [
        "\n",
        "matriz_compleja = [\n",
        "    [matriz_A, matriz_A*2, matriz_A*3],\n",
        "    [matriz_A*4, matriz_A*5, matriz_A*6],\n",
        "     [matriz_A*7, matriz_A*8, matriz_A*9]\n",
        "    ]\n",
        "\n",
        "matriz_compleja = np.array(matriz_compleja)\n",
        "print(matriz_compleja)"
      ],
      "metadata": {
        "colab": {
          "base_uri": "https://localhost:8080/"
        },
        "id": "wkHpt34ZG3Ne",
        "outputId": "5a005121-9abe-4326-82ec-4cb0d5e62e9b"
      },
      "execution_count": null,
      "outputs": [
        {
          "output_type": "stream",
          "name": "stdout",
          "text": [
            "[[[[ 1  2  3]\n",
            "   [ 4  5  6]\n",
            "   [ 7  8  9]]\n",
            "\n",
            "  [[ 2  4  6]\n",
            "   [ 8 10 12]\n",
            "   [14 16 18]]\n",
            "\n",
            "  [[ 3  6  9]\n",
            "   [12 15 18]\n",
            "   [21 24 27]]]\n",
            "\n",
            "\n",
            " [[[ 4  8 12]\n",
            "   [16 20 24]\n",
            "   [28 32 36]]\n",
            "\n",
            "  [[ 5 10 15]\n",
            "   [20 25 30]\n",
            "   [35 40 45]]\n",
            "\n",
            "  [[ 6 12 18]\n",
            "   [24 30 36]\n",
            "   [42 48 54]]]\n",
            "\n",
            "\n",
            " [[[ 7 14 21]\n",
            "   [28 35 42]\n",
            "   [49 56 63]]\n",
            "\n",
            "  [[ 8 16 24]\n",
            "   [32 40 48]\n",
            "   [56 64 72]]\n",
            "\n",
            "  [[ 9 18 27]\n",
            "   [36 45 54]\n",
            "   [63 72 81]]]]\n"
          ]
        }
      ]
    },
    {
      "cell_type": "markdown",
      "source": [
        "Vamos a tratar de entenderla:\n",
        "```python\n",
        "[\n",
        "  [matriz_A, matriz_A*2, matriz_A*3], # fila 1 posicicon 0\n",
        "# col1 pos0  col2 pos1   col3 pos2\n",
        "\n",
        "  [matriz_A*4, matriz_A*5, matriz_A*6], # fila 2 poscicion 1\n",
        "# col1 pos0  col2 pos1   col3 pos2\n",
        "\n",
        "  [matriz_A*7, matriz_A*8, matriz_A*9] #fila 3 posicicon 2\n",
        "# col1 pos0  col2 pos1   col3 pos2  \n",
        "]\n",
        "```"
      ],
      "metadata": {
        "id": "m2VS7ag1IrX8"
      }
    },
    {
      "cell_type": "code",
      "source": [
        "# para recuperar la primer fila\n",
        "print(matriz_compleja[0]) # Salida [matriz_A, matriz_A*2, matriz_A*3]"
      ],
      "metadata": {
        "colab": {
          "base_uri": "https://localhost:8080/"
        },
        "id": "KpcmsdYJILR0",
        "outputId": "d198e0eb-c77d-445c-f6ee-4ba7fbe5a5f7"
      },
      "execution_count": null,
      "outputs": [
        {
          "output_type": "stream",
          "name": "stdout",
          "text": [
            "[[[ 1  2  3]\n",
            "  [ 4  5  6]\n",
            "  [ 7  8  9]]\n",
            "\n",
            " [[ 2  4  6]\n",
            "  [ 8 10 12]\n",
            "  [14 16 18]]\n",
            "\n",
            " [[ 3  6  9]\n",
            "  [12 15 18]\n",
            "  [21 24 27]]]\n"
          ]
        }
      ]
    },
    {
      "cell_type": "code",
      "source": [
        "# para recuperar la tercer fila\n",
        "print(matriz_compleja[2]) # Salida [matriz_A*7, matriz_A*8, matriz_A*9]"
      ],
      "metadata": {
        "colab": {
          "base_uri": "https://localhost:8080/"
        },
        "id": "CcYNFb8RMUGo",
        "outputId": "8a63a638-77eb-4003-c035-523128ecc216"
      },
      "execution_count": null,
      "outputs": [
        {
          "output_type": "stream",
          "name": "stdout",
          "text": [
            "[[[ 7 14 21]\n",
            "  [28 35 42]\n",
            "  [49 56 63]]\n",
            "\n",
            " [[ 8 16 24]\n",
            "  [32 40 48]\n",
            "  [56 64 72]]\n",
            "\n",
            " [[ 9 18 27]\n",
            "  [36 45 54]\n",
            "  [63 72 81]]]\n"
          ]
        }
      ]
    },
    {
      "cell_type": "code",
      "source": [
        "# para recuperar\n",
        "# [matriz_A, matriz_A*3]\n",
        "# [matriz_A*7, matriz_A*9]\n",
        "\n",
        "print(matriz_compleja[::2, ::2])"
      ],
      "metadata": {
        "colab": {
          "base_uri": "https://localhost:8080/"
        },
        "id": "LJB9r-lOMwWo",
        "outputId": "2efae7d4-68f2-41d3-d070-6fbf1fcf459b"
      },
      "execution_count": null,
      "outputs": [
        {
          "output_type": "stream",
          "name": "stdout",
          "text": [
            "[[[[ 1  2  3]\n",
            "   [ 4  5  6]\n",
            "   [ 7  8  9]]\n",
            "\n",
            "  [[ 3  6  9]\n",
            "   [12 15 18]\n",
            "   [21 24 27]]]\n",
            "\n",
            "\n",
            " [[[ 7 14 21]\n",
            "   [28 35 42]\n",
            "   [49 56 63]]\n",
            "\n",
            "  [[ 9 18 27]\n",
            "   [36 45 54]\n",
            "   [63 72 81]]]]\n"
          ]
        }
      ]
    },
    {
      "cell_type": "code",
      "source": [
        "# para recuperar el [ 3  6  9]\n",
        "\n",
        "print(matriz_compleja[0, 2, 0])\n",
        "# o\n",
        "print(matriz_compleja[0, 2][0])"
      ],
      "metadata": {
        "colab": {
          "base_uri": "https://localhost:8080/"
        },
        "id": "6XR1veaWM-tp",
        "outputId": "d2cd0674-7273-4fdf-8ea1-261a356d9c84"
      },
      "execution_count": null,
      "outputs": [
        {
          "output_type": "stream",
          "name": "stdout",
          "text": [
            "[3 6 9]\n",
            "[3 6 9]\n"
          ]
        }
      ]
    },
    {
      "cell_type": "code",
      "source": [
        "# para recuperar\n",
        "# [ 3  6  9]\n",
        "# [12 15 18]\n",
        "print(matriz_compleja[0, 2, 0:2])\n",
        "# o\n",
        "print(matriz_compleja[0, 2][0:2])"
      ],
      "metadata": {
        "colab": {
          "base_uri": "https://localhost:8080/"
        },
        "id": "hpFi9_X_NX_o",
        "outputId": "79a1b08e-a7a5-4f4e-cd58-8d77aa3c5858"
      },
      "execution_count": null,
      "outputs": [
        {
          "output_type": "stream",
          "name": "stdout",
          "text": [
            "[[ 3  6  9]\n",
            " [12 15 18]]\n",
            "[[ 3  6  9]\n",
            " [12 15 18]]\n"
          ]
        }
      ]
    },
    {
      "cell_type": "code",
      "source": [
        "# para recuperar [3, 12]\n",
        "\n",
        "print(matriz_compleja[0, 2, 0:2, 0])\n",
        "# o\n",
        "print(matriz_compleja[0, 2][0:2, 0])"
      ],
      "metadata": {
        "colab": {
          "base_uri": "https://localhost:8080/"
        },
        "id": "GHesZlOcNlBv",
        "outputId": "b4322350-8ee0-4455-9922-8e98cfa78c22"
      },
      "execution_count": null,
      "outputs": [
        {
          "output_type": "stream",
          "name": "stdout",
          "text": [
            "[ 3 12]\n",
            "[ 3 12]\n"
          ]
        }
      ]
    },
    {
      "cell_type": "markdown",
      "source": [
        "# Mascara - Filtro\n",
        "\n",
        "Una `máscara` o `filtro` en NumPy es un tipo de array/vector/matriz que contiene únicamente valores booleanos. Su función principal es indexar otra matriz, debiendo tener la misma forma, para seleccionar elementos específicos a partir de una condición predefinida.\n",
        "\n",
        "Ejemplo::\n",
        "```python\n",
        "# Matriz de interés a filtrar\n",
        "matriz = np.array([[5.1, 2, 3], [4, 5, 6], [7, 8, 9]])\n",
        "\n",
        "# Se crea la máscara o filtro a partir de una condición\n",
        "mascara = matriz > 5\n",
        "# Condición: solo valores mayores a 5\n",
        "\n",
        "# Aplicar la máscara a la matriz original\n",
        "# es tan sencillo como utilizarla como índice\n",
        "matriz_filtrada = matriz[mascara]\n",
        "\n",
        "print(matriz_filtrada)\n",
        "```\n"
      ],
      "metadata": {
        "id": "f_LxtmzAQL-P"
      }
    },
    {
      "cell_type": "code",
      "source": [
        "# Matriz de interés a filtrar\n",
        "matriz = np.array([[5.1, 2, 3], [4, 5, 6], [7, 8, 9]])\n",
        "\n",
        "# Se crea la máscara o filtro a partir de una condición\n",
        "mascara = matriz > 5\n",
        "# Condición: solo valores mayores a 5\n",
        "\n",
        "# Aplicar la máscara a la matriz original\n",
        "# es tan sencillo como utilizarla como índice\n",
        "matriz_filtrada = matriz[mascara]\n",
        "\n",
        "print('Matriz original: \\n', matriz)\n",
        "print('\\n Elementos >5:')\n",
        "print(matriz_filtrada)"
      ],
      "metadata": {
        "colab": {
          "base_uri": "https://localhost:8080/"
        },
        "id": "2oBtu13SQWJF",
        "outputId": "42afa156-1f2c-4c1d-9c7c-3e6658b144d7"
      },
      "execution_count": null,
      "outputs": [
        {
          "output_type": "stream",
          "name": "stdout",
          "text": [
            "Matriz original: \n",
            " [[5.1 2.  3. ]\n",
            " [4.  5.  6. ]\n",
            " [7.  8.  9. ]]\n",
            "\n",
            " Elementos >5:\n",
            "[5.1 6.  7.  8.  9. ]\n"
          ]
        }
      ]
    },
    {
      "cell_type": "markdown",
      "source": [
        "---\n",
        "Lo que acabamos de crear es una representación simple de una matriz con matrices, y podría asociarse con un aumento en las dimensiones. Manejar las dimensiones en los arrays puede parecer complicado al principio, pero para esta serie de Notebooks, nuestros arrays estarán limitados a solo 2 dimensiones, es decir, en una matriz convencional."
      ],
      "metadata": {
        "id": "P8uA_YJhPNLu"
      }
    },
    {
      "cell_type": "markdown",
      "source": [
        "#Fin"
      ],
      "metadata": {
        "id": "8s1a0nw8n_LD"
      }
    },
    {
      "cell_type": "code",
      "execution_count": null,
      "metadata": {
        "id": "P88hsaLLn2nd"
      },
      "outputs": [],
      "source": []
    }
  ]
}