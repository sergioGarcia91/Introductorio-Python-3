{
  "nbformat": 4,
  "nbformat_minor": 0,
  "metadata": {
    "colab": {
      "provenance": [],
      "toc_visible": true,
      "authorship_tag": "ABX9TyOoAXHO7FSxg7mrilQb8D8N",
      "include_colab_link": true
    },
    "kernelspec": {
      "name": "python3",
      "display_name": "Python 3"
    },
    "language_info": {
      "name": "python"
    }
  },
  "cells": [
    {
      "cell_type": "markdown",
      "metadata": {
        "id": "view-in-github",
        "colab_type": "text"
      },
      "source": [
        "<a href=\"https://colab.research.google.com/github/sergioGarcia91/Introductorio-Python-3/blob/main/Python_01e_Bucles.ipynb\" target=\"_parent\"><img src=\"https://colab.research.google.com/assets/colab-badge.svg\" alt=\"Open In Colab\"/></a>"
      ]
    },
    {
      "cell_type": "markdown",
      "source": [
        "#Python 01e: Bucles\n",
        "\n",
        "> *Ser tan rápidos como el más lento,\\\n",
        "y ser tan lentos como el más rápido.*\n",
        "\n",
        "**Autor:** Sergio Andrés García Arias  \n",
        "**Versión 01:** Diciembre 2023"
      ],
      "metadata": {
        "id": "gKCPQ6-ooNIr"
      }
    },
    {
      "cell_type": "markdown",
      "source": [
        "#Introducción\n",
        "Los bucles son otra estructuras o herramienta que permite modificar el flujo normal de un programa. Esta modificacion consiste en repetir un bloque de código tantas veces como sea requerido.\n",
        "\n",
        "Los bucles son fundamentales para la programación y son utilizados para automatizar tareas repetitivas. Python incluye dos tipos de bucle: `for` y `while`."
      ],
      "metadata": {
        "id": "R4UChfAWrixP"
      }
    },
    {
      "cell_type": "markdown",
      "source": [
        "#Inicio"
      ],
      "metadata": {
        "id": "W1ouYZlsrfq5"
      }
    },
    {
      "cell_type": "markdown",
      "source": [
        "# Bucle for\n",
        "El bucle `for` se utiliza para iterar sobre una secuencia u objeto iterable, como una lista, tupla, cadena, entre otros. Su estructura básica es la siguiente:\n",
        "\n",
        "```python\n",
        "for variable_iterador in elemento_iterable:\n",
        "  # Cuerpo del bucle\n",
        "  # la variable_iterador va ir uno por uno de los elementos en elemento_iterable\n",
        "  # ejecutando una accion o proceso\n",
        "\n",
        "  print(elemento_iterable[variable_iterador])\n",
        "  # para este caso solo los va imprimir\n",
        "```\n",
        "\n",
        "\n",
        "\n",
        "\n",
        "\n"
      ],
      "metadata": {
        "id": "BnXSZaivs0om"
      }
    },
    {
      "cell_type": "code",
      "source": [
        "# Bucle for con lista\n",
        "lista_frutas = [\"manzana\", \"banana\", \"cereza\"]\n",
        "print(\"Bucle for sobre la lista de frutas:\\n\")\n",
        "for fruta in lista_frutas:\n",
        "  print(fruta)\n",
        "print('\\nFuera del for')"
      ],
      "metadata": {
        "colab": {
          "base_uri": "https://localhost:8080/"
        },
        "id": "Ta8VU5ePs3yN",
        "outputId": "b65c50b3-4845-47e7-8c07-aabf8501cecd"
      },
      "execution_count": null,
      "outputs": [
        {
          "output_type": "stream",
          "name": "stdout",
          "text": [
            "Bucle for sobre la lista de frutas:\n",
            "\n",
            "manzana\n",
            "banana\n",
            "cereza\n",
            "\n",
            "Fuera del for\n"
          ]
        }
      ]
    },
    {
      "cell_type": "markdown",
      "source": [
        "\n",
        "En este momento, observamos la importancia de la indentación o tabulación que sigue a los `:` al expresar un bucle `for`. Es esencial tener en cuenta que este tipo de estructuras o herramientas ejecutarán todo el bloque de código que se encuentre en el salto de línea indentado después de los dos puntos. La indentación adecuada es fundamental en Python, ya que define visualmente los bloques de código que forman parte de la misma estructura, garantizando así la legibilidad y la correcta ejecución del programa."
      ],
      "metadata": {
        "id": "XJysaTAhwP1i"
      }
    },
    {
      "cell_type": "code",
      "source": [
        "for fruta in lista_frutas:\n",
        "  print('Dentro del for') # se ejecuta en el for\n",
        "  print(fruta) # se ejecuta en el for\n",
        "  print(1+1) # se ejecuta en el for\n",
        "print('Dentro del for') # NO se ejecuta en el for\n",
        "print('\\nFuera del for')"
      ],
      "metadata": {
        "colab": {
          "base_uri": "https://localhost:8080/"
        },
        "id": "Ert2Zf0kw_cY",
        "outputId": "bf8d527d-5461-4968-c621-81b8896105a6"
      },
      "execution_count": null,
      "outputs": [
        {
          "output_type": "stream",
          "name": "stdout",
          "text": [
            "Dentro del for\n",
            "manzana\n",
            "2\n",
            "Dentro del for\n",
            "banana\n",
            "2\n",
            "Dentro del for\n",
            "cereza\n",
            "2\n",
            "Dentro del for\n",
            "\n",
            "Fuera del for\n"
          ]
        }
      ]
    },
    {
      "cell_type": "markdown",
      "source": [
        "La función `range()` es comúnmente utilizada junto con bucles `for` en Python para generar secuencias de números que se pueden iterar. La función `range()` acepta hasta tres argumentos similar a lo visto en el slicing `inicio:final:pasos`, generando una secuencia de números.\n",
        "\n",
        "Ejemplo:\n",
        "```python\n",
        "# Imprimir los números del 2 al 8 en pasos de 2\n",
        "for i in range(2, 10, 2):\n",
        "  print(i)\n",
        "```\n",
        "\n",
        "---\n",
        "En el manejo de bucles es común ver el uso de las letras `i`, `j` o `k` como ` variable_iterador`."
      ],
      "metadata": {
        "id": "SfZeTj1XxaZQ"
      }
    },
    {
      "cell_type": "code",
      "source": [
        "# Imprimir los números del 2 al 8 en pasos de 2\n",
        "for i in range(2, 10, 2):\n",
        "  print(i)\n",
        "# el 10 no sale debido a que en Python no se toma el final"
      ],
      "metadata": {
        "colab": {
          "base_uri": "https://localhost:8080/"
        },
        "id": "EvAWfJiRyhLX",
        "outputId": "76380cef-2999-4ca7-e2d8-1f4d3543b4ff"
      },
      "execution_count": null,
      "outputs": [
        {
          "output_type": "stream",
          "name": "stdout",
          "text": [
            "2\n",
            "4\n",
            "6\n",
            "8\n"
          ]
        }
      ]
    },
    {
      "cell_type": "markdown",
      "source": [
        "# Bucle while\n",
        "El bucle `while` se utiliza para ejecutar un bloque de código una y otra vez mientras una condición sea verdadera `True`. La estructura básica de un bucle `while` es la siguiente:\n",
        "\n",
        "```python\n",
        "while condicion_a_evaluar:\n",
        "  # Cuerpo del bucle\n",
        "  # Se ejecutará mientras la condición sea verdadera\n",
        "  # o sea que pase a dar False\n",
        "  print('Se cumple la condición')\n",
        "  # para este caso siempre va imprimir lo mismo\n",
        "\n",
        "```"
      ],
      "metadata": {
        "id": "tHrq3d3us4EF"
      }
    },
    {
      "cell_type": "code",
      "source": [
        "# Bucle while\n",
        "contador = 0\n",
        "print(\"Antes del Bucle while: \")\n",
        "while contador < 5:\n",
        "  print('Se cumple la condición')\n",
        "  print(contador)\n",
        "  contador += 1 # se actualiza el contador por un incremento\n",
        "  # esa expresión es igual a decir :\n",
        "  # contador = contador + 1\n",
        "\n",
        "print('\\n Fuera del while')\n",
        "print('Contador ya no es < 5')\n",
        "print(contador)"
      ],
      "metadata": {
        "colab": {
          "base_uri": "https://localhost:8080/"
        },
        "id": "tojqMbyws4Wt",
        "outputId": "b8a3b7c8-4e04-43ce-8326-f37673d2d29f"
      },
      "execution_count": null,
      "outputs": [
        {
          "output_type": "stream",
          "name": "stdout",
          "text": [
            "Antes del Bucle while: \n",
            "Se cumple la condición\n",
            "0\n",
            "Se cumple la condición\n",
            "1\n",
            "Se cumple la condición\n",
            "2\n",
            "Se cumple la condición\n",
            "3\n",
            "Se cumple la condición\n",
            "4\n",
            "\n",
            " Fuera del while\n",
            "Contador ya no es < 5\n",
            "5\n"
          ]
        }
      ]
    },
    {
      "cell_type": "markdown",
      "source": [
        "Por la estructura del `while` es a partir de una condición booleana de `True` o `False`.\n",
        "\n",
        "```python\n",
        "while condicion_a_evaluar:\n",
        "  # Cuerpo del bucle\n",
        "```\n",
        "\n",
        "Por lo que la `condicion_a_evaluar` puede ser tan compleja o simple como sea requerida.\n",
        "\n",
        "En este punto se puede hacer mención a una de las filosofías en Python, en mejor hacerlo simple. [El zen de Python](https://es.wikipedia.org/wiki/Zen_de_Python#:~:text=El%20Zen%20de%20Python%20es,es%20distribuido%20como%20dominio%20público.)\n",
        "\n"
      ],
      "metadata": {
        "id": "i-i3hcFH0lEd"
      }
    },
    {
      "cell_type": "markdown",
      "source": [
        "# Bucles anidados\n",
        "\n",
        "- **Anidación:** inclusión de una estructura dentro de otra.\n",
        "\n",
        "Otra característica importante sobre el funcionamiento de los bucles en Python es que tanto los bucles `for` como los bucles `while` pueden actuar como `bucles anidados`. Los bucles anidados en Python consisten en utilizar uno o varios bucles dentro de otro bucle. En otras palabras, se combinan múltiples bucles dentro de uno para abordar problemas más complejos durante el desarrollo del programa."
      ],
      "metadata": {
        "id": "Q2pav5p7s6le"
      }
    },
    {
      "cell_type": "code",
      "source": [
        "# Bucle for anidado\n",
        "print(\"\\nFuera del bucle for anidado:\")\n",
        "for i in range(3):\n",
        "  print('\\nDentro del primer for, i=', i)\n",
        "  # los print los podemos usar como guias para saber donde estamos\n",
        "  for j in range(2):\n",
        "    print('Dentro del segundo for')\n",
        "    print('i=', i , ' , ' , 'j=', j)\n",
        "    print('***')\n",
        "\n",
        "  print('Fuera del segundo for y dentro del primer for')\n",
        "  print('---')\n",
        "\n",
        "print('\\n ### Fuera de los bucles')"
      ],
      "metadata": {
        "colab": {
          "base_uri": "https://localhost:8080/"
        },
        "id": "fJhPoaVws-Fd",
        "outputId": "00a98be0-6a00-40fa-f72f-0975ef86d832"
      },
      "execution_count": null,
      "outputs": [
        {
          "output_type": "stream",
          "name": "stdout",
          "text": [
            "\n",
            "Bucle for anidado:\n",
            "\n",
            "Dentro del primer for, i= 0\n",
            "Dentro del segundo for\n",
            "i= 0  ,  j= 0\n",
            "***\n",
            "Dentro del segundo for\n",
            "i= 0  ,  j= 1\n",
            "***\n",
            "Fuera del segundo for y dentro del primer for\n",
            "---\n",
            "\n",
            "Dentro del primer for, i= 1\n",
            "Dentro del segundo for\n",
            "i= 1  ,  j= 0\n",
            "***\n",
            "Dentro del segundo for\n",
            "i= 1  ,  j= 1\n",
            "***\n",
            "Fuera del segundo for y dentro del primer for\n",
            "---\n",
            "\n",
            "Dentro del primer for, i= 2\n",
            "Dentro del segundo for\n",
            "i= 2  ,  j= 0\n",
            "***\n",
            "Dentro del segundo for\n",
            "i= 2  ,  j= 1\n",
            "***\n",
            "Fuera del segundo for y dentro del primer for\n",
            "---\n",
            "\n",
            " ### Fuera de los bucles\n"
          ]
        }
      ]
    },
    {
      "cell_type": "code",
      "source": [
        "# Bucle while anidado\n",
        "print(\"\\nFuera del bucle while anidado:\")\n",
        "fila = 0\n",
        "while fila < 3:\n",
        "  print('\\n---')\n",
        "  print('Dentro del primer while, fila=', fila)\n",
        "  columna = 0 #se declara antes del segundo while\n",
        "  #esto para poderlo actualizar dentro del 2do while\n",
        "  #y que se reinicie cuando se retome al primer while\n",
        "\n",
        "  while columna < 2:\n",
        "    print('Dentro del segundo while')\n",
        "    print('fila=', fila , ' , ' , 'columna=', columna)\n",
        "\n",
        "    columna += 1 #actualizo columna\n",
        "    #esto dentro del segundo while\n",
        "    #tiene doble tabulacion\n",
        "\n",
        "  print('Por fuera del segundo while y dentro del primero')\n",
        "  print('***')\n",
        "\n",
        "  fila += 1 #actualizo fila\n",
        "  #esto dentro del primer while\n",
        "  #esta solo con 1 tabulacion\n",
        "\n",
        "print('\\n ### Fuera de los whiles')"
      ],
      "metadata": {
        "colab": {
          "base_uri": "https://localhost:8080/"
        },
        "id": "Ezbw6Vktt_nb",
        "outputId": "3732995e-cc8a-46f7-85f0-44f647fd6056"
      },
      "execution_count": null,
      "outputs": [
        {
          "output_type": "stream",
          "name": "stdout",
          "text": [
            "\n",
            "Fuera del bucle while anidado:\n",
            "\n",
            "---\n",
            "Dentro del primer while, fila= 0\n",
            "Dentro del segundo while\n",
            "fila= 0  ,  columna= 0\n",
            "Dentro del segundo while\n",
            "fila= 0  ,  columna= 1\n",
            "Por fuera del segundo while y dentro del primero\n",
            "***\n",
            "\n",
            "---\n",
            "Dentro del primer while, fila= 1\n",
            "Dentro del segundo while\n",
            "fila= 1  ,  columna= 0\n",
            "Dentro del segundo while\n",
            "fila= 1  ,  columna= 1\n",
            "Por fuera del segundo while y dentro del primero\n",
            "***\n",
            "\n",
            "---\n",
            "Dentro del primer while, fila= 2\n",
            "Dentro del segundo while\n",
            "fila= 2  ,  columna= 0\n",
            "Dentro del segundo while\n",
            "fila= 2  ,  columna= 1\n",
            "Por fuera del segundo while y dentro del primero\n",
            "***\n",
            "\n",
            " ### Fuera de los whiles\n"
          ]
        }
      ]
    },
    {
      "cell_type": "markdown",
      "source": [
        "#Fin"
      ],
      "metadata": {
        "id": "cjEepdHBrhC-"
      }
    },
    {
      "cell_type": "code",
      "execution_count": null,
      "metadata": {
        "id": "sL9lt5PqoHpN"
      },
      "outputs": [],
      "source": []
    }
  ]
}